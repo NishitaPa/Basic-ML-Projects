{
 "cells": [
  {
   "cell_type": "markdown",
   "id": "aa976676",
   "metadata": {},
   "source": [
    "### Getting the Data"
   ]
  },
  {
   "cell_type": "code",
   "execution_count": 53,
   "id": "9ac0065e",
   "metadata": {},
   "outputs": [],
   "source": [
    "import requests"
   ]
  },
  {
   "cell_type": "code",
   "execution_count": 54,
   "id": "7593db68",
   "metadata": {},
   "outputs": [],
   "source": [
    "from bs4 import BeautifulSoup"
   ]
  },
  {
   "cell_type": "code",
   "execution_count": 55,
   "id": "7daf6e61",
   "metadata": {},
   "outputs": [],
   "source": [
    "r = requests.get('https://www.amazon.in/Blue-Tokai-Coffee-Roasters-Attikan/product-reviews/B07968P6RD/ref=cm_cr_dp_d_show_all_btm?ie=UTF8&reviewerType=all_reviews')"
   ]
  },
  {
   "cell_type": "code",
   "execution_count": 56,
   "id": "1b30f1b1",
   "metadata": {},
   "outputs": [
    {
     "data": {
      "text/plain": [
       "200"
      ]
     },
     "execution_count": 56,
     "metadata": {},
     "output_type": "execute_result"
    }
   ],
   "source": [
    "r.status_code"
   ]
  },
  {
   "cell_type": "code",
   "execution_count": 57,
   "id": "3f962015",
   "metadata": {},
   "outputs": [
    {
     "data": {
      "text/plain": [
       "'<!doctype html><html lang=\"en-in\" class=\"a-no-js\" data-19ax5a9jf=\"dingo\"><!-- sp:feature:head-start -->\\n<head><script>var aPageStart = (new Date()).getTime();</script><meta charset=\"utf-8\"/>\\n\\n<!-- sp:feature:cs-optimization -->\\n<meta http-equiv=\\'x-dns-prefetch-control\\' content=\\'on\\'>\\n<link rel=\"dns-prefetch\" href=\"https://images-eu.ssl-images-amazon.com\">\\n<link rel=\"dns-prefetch\" href=\"https://m.media-amazon.com\">\\n<link rel=\"dns-prefetch\" href=\"https://completion.amazon.com\">\\n\\n<!-- sp:feature:aui-assets -->\\n<link rel=\"stylesheet\" href=\"https://images-eu.ssl-images-amazon.com/images/I/11EIQ5IGqaL._RC|01ZTHTZObnL.css,41SIz69qHYL.css,31qGOnSAToL.css,013z33uKh2L.css,017DsKjNQJL.css,0131vqwP5UL.css,41EWOOlBJ9L.css,11TIuySqr6L.css,01ElnPiDxWL.css,11bGSgD5pDL.css,01Dm5eKVxwL.css,01IdKcBuAdL.css,01y-XAlI+2L.css,21N4kUH7pxL.css,01oDR3IULNL.css,41-PwE7+H0L.css,21j0IlW7xKL.css,01XPHJk60-L.css,014OeDQisGL.css,21aPhFy+riL.css,11gneA3MtJL.css,21fecG8pUzL.css,01RddH8vm-L.css,01CFUgsA-YL.css,31C80IiXalL.css,11qour3ND0L.css,11tRp6+0HHL.css,11061HxnEvL.css,11oHt2HYxnL.css,013RDhw9hoL.css,11JQtnL-6eL.css,11RKoGSb-gL.css,11jtXRmppwL.css,01QrWuRrZ-L.css,21pIv-yKhaL.css,11QyqG8yiqL.css,11kwKGWmBfL.css,11F2+OBzLyL.css,11Y05DTEL6L.css,01cbS3UK11L.css,21F85am0yFL.css,01giMEP+djL.css_.css?AUIClients/AmazonUI&AsKgpqKH#not-trident.359679-T1.353724-T1.353720-T1\" />\\n<script>\\n(function(f,h,Q,E){function F(a){v&&v.tag&&v.tag(q(\":\",\"aui\",a))}function t(a,b){v&&v.count&&v.count(\"aui:\"+a,0===b?0:b||(v.count(\"aui:\"+a)||0)+1)}function p(a){try{return a.test(navigator.userAgent)}catch(b){return!1}}function y(a,b,c){a.addEventListener?a.addEventListener(b,c,!1):a.attachEvent&&a.attachEvent(\"on\"+b,c)}function q(a,b,c,e){b=b&&c?b+a+c:b||c;return e?q(a,b,e):b}function G(a,b,c){try{Object.defineProperty(a,b,{value:c,writable:!1})}catch(e){a[b]=c}return c}function ta(a,b){var c=a.length,\\ne=c,g=function(){e--||(R.push(b),S||(setTimeout(ca,0),S=!0))};for(g();c--;)da[a[c]]?g():(z[a[c]]=z[a[c]]||[]).push(g)}function ua(a,b,c,e,g){var d=h.createElement(a?\"script\":\"link\");y(d,\"error\",e);g&&y(d,\"load\",g);a?(d.type=\"text/javascript\",d.async=!0,c&&/AUIClients|images[/]I/.test(b)&&d.setAttribute(\"crossorigin\",\"anonymous\"),d.src=b):(d.rel=\"stylesheet\",d.href=b);h.getElementsByTagName(\"head\")[0].appendChild(d)}function ea(a,b){return function(c,e){function g(){ua(b,c,d,function(b){T?t(\"resource_unload\"):\\nd?(d=!1,t(\"resource_retry\"),g()):(t(\"resource_error\"),a.log(\"Asset failed to load: \"+c));b&&b.stopPropagation?b.stopPropagation():f.event&&(f.event.cancelBubble=!0)},e)}if(fa[c])return!1;fa[c]=!0;t(\"resource_count\");var d=!0;return!g()}}function va(a,b,c){for(var e={name:a,guard:function(c){return b.guardFatal(a,c)},guardTime:function(a){return b.guardTime(a)},logError:function(c,d,e){b.logError(c,d,e,a)}},g=[],d=0;d<c.length;d++)H.hasOwnProperty(c[d])&&(g[d]=U.hasOwnProperty(c[d])?U[c[d]](H[c[d]],\\ne):H[c[d]]);return g}function A(a,b,c,e,g){return function(d,h){function n(){var a=null;e?a=h:\"function\"===typeof h&&(p.start=w(),a=h.apply(f,va(d,k,l)),p.end=w());if(b){H[d]=a;a=d;for(da[a]=!0;(z[a]||[]).length;)z[a].shift()();delete z[a]}p.done=!0}var k=g||this;\"function\"===typeof d&&(h=d,d=E);b&&(d=d?d.replace(ha,\"\"):\"__NONAME__\",V.hasOwnProperty(d)&&k.error(q(\", reregistered by \",q(\" by \",d+\" already registered\",V[d]),k.attribution),d),V[d]=k.attribution);for(var l=[],m=0;m<a.length;m++)l[m]=\\na[m].replace(ha,\"\");var p=B[d||\"anon\"+ ++wa]={depend:l,registered:w(),namespace:k.namespace};c?n():ta(l,k.guardFatal(d,n));return{decorate:function(a){U[d]=k.guardFatal(d,a)}}}}function ia(a){return function(){var b=Array.prototype.slice.call(arguments);return{execute:A(b,!1,a,!1,this),register:A(b,!0,a,!1,this)}}}function W(a,b){return function(c,e){e||(e=c,c=E);var g=this.attribution;return function(){u.push(b||{attribution:g,name:c,logLevel:a});var d=e.apply(this,arguments);u.pop();return d}}}\\nfunction I(a,b){this.load={js:ea(this,!0),css:ea(this)};G(this,\"namespace\",b);G(this,\"attribution\",a)}function ja(){h.body?r.trigger(\"a-bodyBegin\"):setTimeout(ja,20)}function C(a,b){a.className=X(a,b)+\" \"+b}function X(a,b){return(\" \"+a.className+\" \").split(\" \"+b+\" \").join(\" \").replace(/^ | $/g,\"\")}function ka(a){try{return a()}catch(b){return!1}}function J(){if(K){var a={w:f.innerWidth||n.clientWidth,h:f.innerHeight||n.clientHeight};5<Math.abs(a.w-Y.w)||50<a.h-Y.h?(Y=a,L=4,(a=k.mobile||k.tablet?450<\\na.w&&a.w>a.h:1250<=a.w)?C(n,\"a-ws\"):n.className=X(n,\"a-ws\")):0<L&&(L--,la=setTimeout(J,16))}}function xa(a){(K=a===E?!K:!!a)&&J()}function ya(){return K}function ma(){D.forEach(function(a){F(a)})}function na(a,b,c){if(b){a=p(/Chrome/i)&&!p(/Edge/i)&&!p(/OPR/i)&&!a.capabilities.isAmazonApp&&!p(new RegExp(Z+\"bwv\"+Z+\"b\"));var e=\"sw:browser:\"+c+\":\";b.browser&&a&&(D.push(e+\"supported\"),b.browser.action(e,c));!a&&b.browser&&D.push(e+\"unsupported\")}}\"use strict\";var M=Q.now=Q.now||function(){return+new Q},\\nw=function(a){return a&&a.now?a.now.bind(a):M}(f.performance),N=w(),l=f.AmazonUIPageJS||f.P;if(l&&l.when&&l.register){N=[];for(var m=h.currentScript;m;m=m.parentElement)m.id&&N.push(m.id);return l.log(\"A copy of P has already been loaded on this page.\",\"FATAL\",N.join(\" \"))}var v=f.ue;F();F(\"aui_build_date:3.21.6-2021-08-12\");var R=[],S=!1;var ca=function(){for(var a=setTimeout(ca,0),b=M();R.length;)if(R.shift()(),50<M()-b)return;clearTimeout(a);S=!1};var da={},z={},fa={},T=!1;y(f,\"beforeunload\",function(){T=\\n!0;setTimeout(function(){T=!1},1E4)});var ha=/^prv:/,V={},H={},U={},B={},wa=0,Z=String.fromCharCode(92),u=[],oa=f.onerror;f.onerror=function(a,b,c,e,g){g&&\"object\"===typeof g||(g=Error(a,b,c),g.columnNumber=e,g.stack=b||c||e?q(Z,g.message,\"at \"+q(\":\",b,c,e)):E);var d=u.pop()||{};g.attribution=q(\":\",g.attribution||d.attribution,d.name);g.logLevel=d.logLevel;g.attribution&&console&&console.log&&console.log([g.logLevel||\"ERROR\",a,\"thrown by\",g.attribution].join(\" \"));u=[];oa&&(d=[].slice.call(arguments),\\nd[4]=g,oa.apply(f,d))};I.prototype={logError:function(a,b,c,e){b={message:b,logLevel:c||\"ERROR\",attribution:q(\":\",this.attribution,e)};if(f.ueLogError)return f.ueLogError(a||b,a?b:null),!0;console&&console.error&&(console.log(b),console.error(a));return!1},error:function(a,b,c,e){a=Error(q(\":\",e,a,c));a.attribution=q(\":\",this.attribution,b);throw a;},guardError:W(),guardFatal:W(\"FATAL\"),guardCurrent:function(a){var b=u[u.length-1];return b?W(b.logLevel,b).call(this,a):a},guardTime:function(a){var b=\\nu[u.length-1],c=b&&b.name;return c&&c in B?function(){var b=w(),g=a.apply(this,arguments);B[c].async=(B[c].async||0)+w()-b;return g}:a},log:function(a,b,c){return this.logError(null,a,b,c)},declare:A([],!0,!0,!0),register:A([],!0),execute:A([]),AUI_BUILD_DATE:\"3.21.6-2021-08-12\",when:ia(),now:ia(!0),trigger:function(a,b,c){var e=M();this.declare(a,{data:b,pageElapsedTime:e-(f.aPageStart||NaN),triggerTime:e});c&&c.instrument&&O.when(\"prv:a-logTrigger\").execute(function(b){b(a)})},handleTriggers:function(){this.log(\"handleTriggers deprecated\")},\\nattributeErrors:function(a){return new I(a)},_namespace:function(a,b){return new I(a,b)}};var r=G(f,\"AmazonUIPageJS\",new I);var O=r._namespace(\"PageJS\",\"AmazonUI\");O.declare(\"prv:p-debug\",B);r.declare(\"p-recorder-events\",[]);r.declare(\"p-recorder-stop\",function(){});G(f,\"P\",r);ja();if(h.addEventListener){var pa;h.addEventListener(\"DOMContentLoaded\",pa=function(){r.trigger(\"a-domready\");h.removeEventListener(\"DOMContentLoaded\",pa,!1)},!1)}var n=h.documentElement,aa=function(){var a=[\"O\",\"ms\",\"Moz\",\\n\"Webkit\"],b=h.createElement(\"div\");return{testGradients:function(){return!0},test:function(c){var e=c.charAt(0).toUpperCase()+c.substr(1);c=(a.join(e+\" \")+e+\" \"+c).split(\" \");for(e=c.length;e--;)if(\"\"===b.style[c[e]])return!0;return!1},testTransform3d:function(){return!0}}}();l=n.className;var qa=/(^| )a-mobile( |$)/.test(l),ra=/(^| )a-tablet( |$)/.test(l),k={audio:function(){return!!h.createElement(\"audio\").canPlayType},video:function(){return!!h.createElement(\"video\").canPlayType},canvas:function(){return!!h.createElement(\"canvas\").getContext},\\nsvg:function(){return!!h.createElementNS&&!!h.createElementNS(\"http://www.w3.org/2000/svg\",\"svg\").createSVGRect},offline:function(){return navigator.hasOwnProperty&&navigator.hasOwnProperty(\"onLine\")&&navigator.onLine},dragDrop:function(){return\"draggable\"in h.createElement(\"span\")},geolocation:function(){return!!navigator.geolocation},history:function(){return!(!f.history||!f.history.pushState)},webworker:function(){return!!f.Worker},autofocus:function(){return\"autofocus\"in h.createElement(\"input\")},\\ninputPlaceholder:function(){return\"placeholder\"in h.createElement(\"input\")},textareaPlaceholder:function(){return\"placeholder\"in h.createElement(\"textarea\")},localStorage:function(){return\"localStorage\"in f&&null!==f.localStorage},orientation:function(){return\"orientation\"in f},touch:function(){return\"ontouchend\"in h},gradients:function(){return aa.testGradients()},hires:function(){var a=f.devicePixelRatio&&1.5<=f.devicePixelRatio||f.matchMedia&&f.matchMedia(\"(min-resolution:144dpi)\").matches;t(\"hiRes\"+\\n(qa?\"Mobile\":ra?\"Tablet\":\"Desktop\"),a?1:0);return a},transform3d:function(){return aa.testTransform3d()},touchScrolling:function(){return p(/Windowshop|android|OS ([5-9]|[1-9][0-9]+)(_[0-9]{1,2})+ like Mac OS X|SOFTWARE=([5-9]|[1-9][0-9]+)(.[0-9]{1,2})+.*DEVICE=iPhone|Chrome|Silk|Firefox|Trident.+?; Touch/i)},ios:function(){return p(/OS [1-9][0-9]*(_[0-9]*)+ like Mac OS X/i)&&!p(/trident|Edge/i)},android:function(){return p(/android.([1-9]|[L-Z])/i)&&!p(/trident|Edge/i)},mobile:function(){return qa},\\ntablet:function(){return ra},rtl:function(){return\"rtl\"===n.dir}};for(m in k)k.hasOwnProperty(m)&&(k[m]=ka(k[m]));for(var ba=\"textShadow textStroke boxShadow borderRadius borderImage opacity transform transition\".split(\" \"),P=0;P<ba.length;P++)k[ba[P]]=ka(function(){return aa.test(ba[P])});var K=!0,la=0,Y={w:0,h:0},L=4;J();y(f,\"resize\",function(){clearTimeout(la);L=4;J()});var sa={getItem:function(a){try{return f.localStorage.getItem(a)}catch(b){}},setItem:function(a,b){try{return f.localStorage.setItem(a,\\nb)}catch(c){}}};n.className=X(n,\"a-no-js\");C(n,\"a-js\");!p(/OS [1-8](_[0-9]*)+ like Mac OS X/i)||f.navigator.standalone||p(/safari/i)||C(n,\"a-ember\");l=[];for(m in k)k.hasOwnProperty(m)&&k[m]&&l.push(\"a-\"+m.replace(/([A-Z])/g,function(a){return\"-\"+a.toLowerCase()}));C(n,l.join(\" \"));n.setAttribute(\"data-aui-build-date\",\"3.21.6-2021-08-12\");r.register(\"p-detect\",function(){return{capabilities:k,localStorage:k.localStorage&&sa,toggleResponsiveGrid:xa,responsiveGridEnabled:ya}});p(/UCBrowser/i)||k.localStorage&&\\nC(n,sa.getItem(\"a-font-class\"));r.declare(\"a-event-revised-handling\",!1);try{var x=navigator.serviceWorker}catch(a){F(\"sw:nav_err\")}x&&(y(x,\"message\",function(a){a&&a.data&&t(a.data.k,a.data.v)}),x.controller&&x.controller.postMessage(\"MSG-RDY\"));var D=[];l={reg:{},unreg:{}};l.reg.browser={action:function(a,b){x.register(\"/service-worker.js\").then(function(){t(a+\"success\")}).catch(function(c){r.logError(c,\"[AUI SW] Failed to \"+b+\" service worker: \");t(a+\"failure\")})}};(function(a){var b=a.reg,c=a.unreg;\\nx&&x.getRegistrations?(O.when(\"A\").execute(function(a){na(a,c,\"unregister\")}),y(f,\"load\",function(){O.when(\"A\").execute(function(a){na(a,b,\"register\");ma()})})):(b&&b.browser&&D.push(\"sw:browser:register:unsupported\"),c&&c.browser&&D.push(\"sw:browser:unregister:unsupported\"),ma())})(l);r.declare(\"a-fix-event-off\",!1);t(\"pagejs:pkgExecTime\",w()-N)})(window,document,Date);\\n(function(b){function q(a,e,h){function t(a,b,d){var c=Array(e.length);~l&&(c[l]={});~m&&(c[m]=d);for(d=0;d<n.length;d++){var f=n[d],r=a[d];c[f]=r}for(d=0;d<p.length;d++)f=p[d],r=b[d],c[f]=r;a=h.apply(null,c);return~l?c[l]:a}\"string\"!==typeof a&&b.P.error(\"C001\");-1===a.indexOf(\"@\")&&-1<a.indexOf(\"/\")&&(-1<a.indexOf(\"es3\")||-1<a.indexOf(\"evergreen\"))&&(a=a.substring(0,a.lastIndexOf(\"/\")));if(!u[a]){u[a]=!0;h||(h=e,e=[]);a=a.split(\":\",2);var c=a[1]?a[0]:void 0,f=(a[1]||a[0]).replace(/@capability\\\\//,\\n\"@c/\"),k=c?b.P._namespace(c):b.P,v=!f.lastIndexOf(\"@c/\",0),n=[];a=[];var p=[],w=[],m=-1,l=-1;for(c=0;c<e.length;c++){var g=e[c];\"module\"===g&&k.error(\"C002\");\"exports\"===g?l=c:\"require\"===g?m=c:g.lastIndexOf(\"@p/\",0)?g.lastIndexOf(\"@c/\",0)?(n.push(c),a.push(\"mix:\"+g)):(p.push(c),w.push(g)):(n.push(c),a.push(g.substr(3)))}k.when.apply(k,a).register(\"mix:\"+f,function(){var a=[].slice.call(arguments);return v||~m||p.length?{capabilities:w,cardModuleFactory:function(b,c){b=t(a,b,c);b.P=k;return b},require:~m?\\nq:void 0}:t(a,[],function(){})});v&&k.when(\"mix:@amzn/mix.client-runtime\",\"mix:\"+f).execute(function(a,b){a.registerCapabilityModule(f,b)});k.when(\"mix:\"+f).register(\"xcp:\"+f,function(a){return a});var q=function(a,b,c){try{var e=-1<f.indexOf(\"/\")?f.split(\"/\")[0]:f,d=a[0],g=d.lastIndexOf(\"./\",0)?d:e+\"/\"+d.substr(2),h=g.lastIndexOf(\"@p/\",0)?\"mix:\"+g:g.substr(3);k.when(h).execute(function(a){try{b(a)}catch(y){c(y)}})}catch(x){c(x)}}}}\"use strict\";var u={};b.mix_d||((b.Promise?P:P.when(\"3p-promise\")).register(\"@p/promise-is-ready\",\\nfunction(a){b.Promise=b.Promise||a}),(Array.prototype.includes?P:P.when(\"a-polyfill\")).register(\"@p/polyfill-is-ready\",function(){}),b.mix_d=function(a,b,h){P.when(\"@p/promise-is-ready\",\"@p/polyfill-is-ready\").execute(\"@p/mix-d-deps\",function(){q(a,b,h)})},b.xcp_d=b.mix_d,P.when(\"mix:@amzn/mix.client-runtime\").execute(function(a){P.declare(\"xcp:@xcp/runtime\",a)}));b.mixTimeout||(b.mixTimeout=function(a,e,h){b.mixCardInitTimeouts||(b.mixCardInitTimeouts={});b.mixCardInitTimeouts[e]&&clearTimeout(b.mixCardInitTimeouts[e]);\\nb.mixCardInitTimeouts[e]=setTimeout(function(){P.log(\"Client-side initialization timeout\",\"WARN\",a)},h)});b.mix_csa_map=b.mix_csa_map||{};b.mix_csa=b.mix_csa||function(a){try{return b.mix_csa_map[a]=b.mix_csa_map[a]||b.csa(\"Content\",{element:document.querySelector(a)})}catch(e){return P.logError(e,\"C004\",\"ERROR\",void 0),function(){}}}})(window);\\n(window.AmazonUIPageJS ? AmazonUIPageJS : P).when(\\'sp.load.js\\').execute(function() {\\n  (window.AmazonUIPageJS ? AmazonUIPageJS : P).load.js(\\'https://images-eu.ssl-images-amazon.com/images/I/61XKxrBtDVL.js?AUIClients/AmazonUIjQuery\\');\\n  (window.AmazonUIPageJS ? AmazonUIPageJS : P).load.js(\\'https://images-eu.ssl-images-amazon.com/images/I/11Y+5x+kkTL._RC|51106gSDnJL.js,11-zXBZR6KL.js,11giXtZCwVL.js,01+z+uIeJ-L.js,01VRMV3FBdL.js,01O9dYORveL.js,21NNXfMitSL.js,11rRjDLdAVL.js,51X-X0x2aRL.js,11kWu3cNjYL.js,11g2BPXNlrL.js,11OREnu1epL.js,11KbZymw5ZL.js,21r53SJg7LL.js,0190vxtlzcL.js,511VNbag2QL.js,31ask0y-LBL.js,01Gf12ogmOL.js,01ezj5Rkz1L.js,11+RxVdhNcL.js,31o2NGTXThL.js,01rpauTep4L.js,01QpMWJ3CSL.js_.js?AUIClients/AmazonUI&l2GI1ZHn#359679-T1.348458-T1.353724-T1.353720-T1\\');\\n  (window.AmazonUIPageJS ? AmazonUIPageJS : P).load.js(\\'https://images-eu.ssl-images-amazon.com/images/I/51uuLbeqqwL.js?AUIClients/CardJsRuntimeBuzzCopyBuild\\');\\n});\\n</script>\\n<!-- sp:feature:cookie-consent-assets -->\\n<!-- sp:feature:nav-inline-css -->\\n<!-- NAVYAAN CSS -->\\n\\n\\n  <!-- Blah blah blah -->\\n  <style type=\"text/css\">\\n.nav-sprite-v1 .nav-sprite, .nav-sprite-v1 .nav-icon {\\n  background-image: url(https://images-eu.ssl-images-amazon.com/images/G/31/gno/sprites/nav-sprite-global-1x-hm-dsk-reorg._CB405936311_.png);\\n  background-position: 0 1000px;\\n  background-repeat: repeat-x;\\n}\\n.nav-spinner {\\n  background-image: url(https://images-eu.ssl-images-amazon.com/images/G/31/javascripts/lib/popover/images/snake._CB485935600_.gif);\\n  background-position: center center;\\n  background-repeat: no-repeat;\\n}\\n.nav-timeline-icon, .nav-access-image, .nav-timeline-prime-icon {\\n  background-image: url(https://images-eu.ssl-images-amazon.com/images/G/31/gno/sprites/timeline_sprite_1x._CB439943932_.png);\\n  background-repeat: no-repeat;\\n}\\n</style>\\n<link rel=\"stylesheet\" href=\"https://images-eu.ssl-images-amazon.com/images/I/41KBYOkTjIL._RC|71FyWKfRS0L.css,31FYt9ivpcL.css,31ZjzeSAHqL.css,313Ydl5aIRL.css,21MKjoYL8wL.css,41OiMQkB+EL.css,01yCq3WXEcL.css,11kO7yAgiQL.css,31OvHRW+XiL.css,01XHMOHpK1L.css,01ucgi+I44L.css,31jJwAF+yLL.css_.css?AUIClients/NavDesktopUberAsset&eRSuagD1#desktop.in.310484-T1\" />\\n<!-- sp:feature:host-assets -->\\n<!---->\\n<span id=\"cr-state-object\" data-state=\\'{\"asin\":\"B07968P6RD\",\"deviceType\":\"desktop\",\"contextId\":\"\",\"reviewCommentsAjaxUrl\":\"/hz/reviews-render/ajax/comment/get/\",\"reviewCommentSubmissionAjaxUrl\":\"/hz/reviews-render/ajax/comment/submit/\",\"approvedAuthorAjaxUrl\":\"/hz/reviews-render/ajax/approved-author/get/\",\"reviewsAjaxUrl\":\"/hz/reviews-render/ajax/reviews/get/\",\"medleyReviewsAjaxUrl\":\"\",\"reviewerType\":\"all_reviews\",\"formatType\":\"\",\"filterByKeyword\":\"\",\"filterByLanguage\":\"\",\"filterByStar\":\"\",\"filterByHeight\":\"\",\"filterByWeight\":\"\",\"showLanguageFilter\":false,\"showHeightFilter\":false,\"languageOfPreference\":\"en_IN\",\"isCardTreatmentEnabled\":false,\"lazyWidgetLoaderBufferPixels\":\"1000\",\"lazyWidgetLoaderDelayBeforeTriggering\":\"5000\",\"lazyWidgetLoaderUrl\":\"/hz/reviews-render/ajax/lazy-widgets/stream\",\"lazyWidgetCsrfToken\":\"guP6QZabRiAD5BYsQSB234WQ2fhVJdvOX5GUWOIAAAABAAAAAGEXmvZyYXcAAAAA%2B4kUEk%2F7iMGR3xPcX6iU\",\"lazyWidgetDomainWhitelist\":[\"amazon.com\",\"amazon.ca\",\"amazon.com.mx\",\"amazon.com.br\",\"amazon.co.uk\",\"amazon.de\",\"amazon.it\",\"amazon.sa\",\"amazon.com.tr\",\"amazon.es\",\"amazon.fr\",\"amazon.in\",\"amazon.ae\",\"amazon.nl\",\"amazon.se\",\"amazon.pl\",\"amazon.eg\",\"amazon.co.jp\",\"amazon.com.au\",\"amazon.sg\",\"amazon.cn\"],\"signinUrl\":\"https://www.amazon.in/ap/signin?openid.return_to\\\\u003dhttps%3A%2F%2Fwww.amazon.in%2FBlue-Tokai-Coffee-Roasters-Attikan%2Fproduct-reviews%2FB07968P6RD%3FreviewerType%3Dall_reviews\\\\u0026openid.identity\\\\u003dhttp%3A%2F%2Fspecs.openid.net%2Fauth%2F2.0%2Fidentifier_select\\\\u0026openid.claimed_id\\\\u003dhttp%3A%2F%2Fspecs.openid.net%2Fauth%2F2.0%2Fidentifier_select\\\\u0026openid.assoc_handle\\\\u003dinflex\\\\u0026openid.mode\\\\u003dcheckid_setup\\\\u0026openid.ns\\\\u003dhttp%3A%2F%2Fspecs.openid.net%2Fauth%2F2.0\",\"reftagTriggerUrl\":\"/hz/reviews-render/ajax/reftag-trigger\",\"mobileImageGalleryUrl\":\"\",\"productInfoUrl\":\"/hz/reviews-render/ajax/product-info/get/\",\"disableScroll\":false}\\'></span>\\n<link rel=\"stylesheet\" href=\"https://images-eu.ssl-images-amazon.com/images/I/01STrEog8JL._RC|017IiNKULqL.css,01LKsGfpclL.css,21iayNH1KaL.css,017IH9bX79L.css,11hlEWdpPvL.css,41LoqMc+nSL.css_.css?AUIClients/DesktopRemoteARPMetaAsset\" />\\n<script>\\n  (window.AmazonUIPageJS ? AmazonUIPageJS : P).load.js(\\'https://images-eu.ssl-images-amazon.com/images/I/414YATFBD+L._RC|318gR0y8aVL.js,11PLCo6zxLL.js,21l3GXV0VAL.js,41Ul1U+eUaL.js,31yCl0u2BnL.js,61pBmXHW+OL.js,41l6Ts6x3oL.js_.js?AUIClients/DesktopRemoteARPMetaAsset\\');\\n</script>\\n<meta name=\"description\" content=\"Find helpful customer reviews and review ratings for Blue Tokai Coffee Roasters Attikan Estate -Medium Dark Roast - Cold Brew (250 Gm) at Amazon.com.  Read honest and unbiased product reviews from our users.\" />\\n<meta name=\"keywords\" content=\"Review, Reviews, Rating, Ratings, Consumer Review, Consumer Reviews, Product Review, Product Reviews, Customer Review, Customer Reviews, Review Rating, Review Ratings, Amazon.com\" />\\n<link rel=\"canonical\" href=\"https://www.amazon.in/Blue-Tokai-Coffee-Roasters-Attikan/product-reviews/B07968P6RD\" />\\n\\n<link rel=\"next\" href=\"https://www.amazon.in/Blue-Tokai-Coffee-Roasters-Attikan/product-reviews/B07968P6RD?pageNumber=2\" />\\n<title>Amazon.in:Customer reviews: Blue Tokai Coffee Roasters Attikan Estate -Medium Dark Roast - Cold Brew (250 Gm)</title>\\n<!--&&&Portal&Delimiter&&&--><!-- sp:end-feature:host-assets -->\\n\\n<!-- sp:feature:head-close -->\\n<script>\\nwindow.P && P.register(\\'bb\\');\\nif (typeof ues === \\'function\\') {\\n  ues(\\'t0\\', \\'portal-bb\\', new Date());\\n  ues(\\'ctb\\', \\'portal-bb\\', 1);\\n}\\n</script>\\n</head><!-- sp:feature:start-body -->\\n<body class=\"a-aui_72554-c a-aui_accordion_a11y_role_354025-c a-aui_btn_preorder_ks_359947-c a-aui_button_aria_label_markup_348458-t1 a-aui_csa_templates_buildin_ww_exp_337518-c a-aui_csa_templates_buildin_ww_launch_337517-c a-aui_csa_templates_declarative_ww_exp_337521-t1 a-aui_csa_templates_declarative_ww_launch_337520-c a-aui_dynamic_img_a11y_markup_345061-t1 a-aui_launch_cardui_a11y_fix_346896-c a-aui_launch_expander_ally_fix_354901-c a-aui_markup_disabled_link_btn_351411-c a-aui_pci_risk_banner_210084-c a-aui_popover_trigger_add_role_350993-c a-aui_preload_261698-c a-aui_rel_noreferrer_noopener_309527-c a-aui_template_weblab_cache_333406-t1 a-aui_tnr_v2_180836-c\"><div id=\"a-page\"><script type=\"a-state\" data-a-state=\"{&quot;key&quot;:&quot;a-wlab-states&quot;}\">{\"AUI_BUTTON_ARIA_LABEL_MARKUP_348458\":\"T1\",\"AUI_TNR_V2_180836\":\"C\",\"AUI_ACCORDION_A11Y_ROLE_354025\":\"C\",\"AUI_BTN_PREORDER_KS_359947\":\"C\",\"AUI_LAUNCH_EXPANDER_ALLY_FIX_354901\":\"C\",\"AUI_PRELOAD_261698\":\"C\",\"AUI_CSA_TEMPLATES_BUILDIN_WW_EXP_337518\":\"C\",\"AUI_72554\":\"C\",\"AUI_CSA_TEMPLATES_DECLARATIVE_WW_LAUNCH_337520\":\"C\",\"AUI_CSA_TEMPLATES_BUILDIN_WW_LAUNCH_337517\":\"C\",\"AUI_PCI_RISK_BANNER_210084\":\"C\",\"AUI_CSA_TEMPLATES_DECLARATIVE_WW_EXP_337521\":\"T1\",\"AUI_POPOVER_TRIGGER_ADD_ROLE_350993\":\"C\",\"AUI_MARKUP_DISABLED_LINK_BTN_351411\":\"C\",\"AUI_TEMPLATE_WEBLAB_CACHE_333406\":\"T1\",\"AUI_DYNAMIC_IMG_A11Y_MARKUP_345061\":\"T1\",\"AUI_REL_NOREFERRER_NOOPENER_309527\":\"C\",\"AUI_LAUNCH_CARDUI_A11Y_FIX_346896\":\"C\"}</script><script>typeof uex === \\'function\\' && uex(\\'ld\\', \\'portal-bb\\', {wb: 1})</script>\\n<!-- sp:feature:nav-inline-js -->\\n<!-- NAVYAAN JS -->\\n<script type=\"text/javascript\">!function(n){function e(n,e){return{m:n,a:function(n){return[].slice.call(n)}(e)}}document.createElement(\"header\");var r=function(n){function u(n,r,u){n[u]=function(){a._replay.push(r.concat(e(u,arguments)))}}var a={};return a._sourceName=n,a._replay=[],a.getNow=function(n,e){return e},a.when=function(){var n=[e(\"when\",arguments)],r={};return u(r,n,\"run\"),u(r,n,\"declare\"),u(r,n,\"publish\"),u(r,n,\"build\"),r},u(a,[],\"declare\"),u(a,[],\"build\"),u(a,[],\"publish\"),u(a,[],\"importEvent\"),r._shims.push(a),a};r._shims=[],n.$Nav||(n.$Nav=r(\"rcx-nav\")),n.$Nav.make||(n.$Nav.make=r)}(window)</script><script type=\"text/javascript\">\\n$Nav.importEvent(\\'navbarJS-beaconbelt\\');\\n$Nav.declare(\\'img.sprite\\', {\\n  \\'png32\\': \\'https://images-eu.ssl-images-amazon.com/images/G/31/gno/sprites/nav-sprite-global-1x-hm-dsk-reorg._CB405936311_.png\\',\\n  \\'png32-2x\\': \\'https://images-eu.ssl-images-amazon.com/images/G/31/gno/sprites/nav-sprite-global-2x-hm-dsk-reorg._CB405936311_.png\\'\\n});\\n$Nav.declare(\\'img.timeline\\', {\\n  \\'timeline-icon-2x\\': \\'https://images-eu.ssl-images-amazon.com/images/G/31/gno/sprites/timeline_sprite_2x._CB443580981_.png\\'\\n});\\nwindow._navbarSpriteUrl = \\'https://images-eu.ssl-images-amazon.com/images/G/31/gno/sprites/nav-sprite-global-1x-hm-dsk-reorg._CB405936311_.png\\';\\n$Nav.declare(\\'img.pixel\\', \\'https://images-eu.ssl-images-amazon.com/images/G/31/x-locale/common/transparent-pixel._CB485934990_.gif\\');\\n</script>\\n<img src=\"https://images-eu.ssl-images-amazon.com/images/G/31/gno/sprites/nav-sprite-global-1x-hm-dsk-reorg._CB405936311_.png\" style=\"display:none\" alt=\"\"/>\\n<script type=\"text/javascript\">var nav_t_after_preload_sprite = + new Date();</script>\\n<script>\\n(window.AmazonUIPageJS ? AmazonUIPageJS : P).when(\\'navCF\\').execute(function() {\\n  (window.AmazonUIPageJS ? AmazonUIPageJS : P).load.js(\\'https://images-eu.ssl-images-amazon.com/images/I/41cyy9szMwL._RC|71nFPTOCi5L.js,016tgkOMMNL.js,61PN48NzCRL.js,41RJ26y-U+L.js,11-nW0RYaxL.js,212Gxk35NhL.js,11k47yUMOjL.js,41SZNgvX4oL.js,51pktuVkksL.js,31Tyru520KL.js,01KW1GJCT1L.js,31QuvjdSFaL.js_.js?AUIClients/NavDesktopUberAsset&eRSuagD1#desktop.language-en.in.310484-T1\\');\\n});\\n</script>\\n<!-- sp:feature:nav-skeleton -->\\n<!-- sp:feature:navbar -->\\n\\n<!--Pilu -->\\n\\n\\n  <!-- NAVYAAN -->\\n\\n\\n\\n\\n\\n\\n\\n\\n\\n\\n\\n<!-- navmet initial definition -->\\n\\n\\n\\n<script type=\\'text/javascript\\'>\\n    if(window.navmet===undefined) {\\n      window.navmet=[];\\n      if (window.performance && window.performance.timing && window.ue_t0) {\\n        var t = window.performance.timing;\\n        var now = + new Date();\\n        window.navmet.basic = {\\n          \\'networkLatency\\': (t.responseStart - t.fetchStart),\\n          \\'navFirstPaint\\': (now - t.responseStart),\\n          \\'NavStart\\': (now - window.ue_t0)\\n        };\\n        window.navmet.push({key:\"NavFirstPaintStart\",end:+new Date(),begin:window.ue_t0});\\n      }\\n    }\\n    if (window.ue_t0) {\\n      window.navmet.push({key:\"NavMainStart\",end:+new Date(),begin:window.ue_t0});\\n    }\\n</script>\\n\\n\\n\\n\\n<script type=\\'text/javascript\\'>window.navmet.tmp=+new Date();</script>\\n  <script type=\\'text/javascript\\'>\\n    // Nav start should be logged at this place only if request is NOT progressively loaded.\\n    // For progressive loading case this metric is logged as part of skeleton.\\n    // Presence of skeleton signals that request is progressively loaded.\\n    if(!document.getElementById(\"navbar-skeleton\")) {\\n      window.uet && uet(\\'ns\\');\\n    }\\n    window._navbar = (function (o) {\\n      o.componentLoaded = o.loading = function(){};\\n      o.browsepromos = {};\\n      o.issPromos = [];\\n      return o;\\n    }(window._navbar || {}));\\n    window._navbar.declareOnLoad = function () { window.$Nav && $Nav.declare(\\'page.load\\'); };\\n    if (window.addEventListener) {\\n      window.addEventListener(\"load\", window._navbar.declareOnLoad, false);\\n    } else if (window.attachEvent) {\\n      window.attachEvent(\"onload\", window._navbar.declareOnLoad);\\n    } else if (window.$Nav) {\\n      $Nav.when(\\'page.domReady\\').run(\"OnloadFallbackSetup\", function () {\\n        window._navbar.declareOnLoad();\\n      });\\n    }\\n    window.$Nav && $Nav.declare(\\'logEvent.enabled\\',\\n      \\'false\\');\\n\\n    window.$Nav && $Nav.declare(\\'config.lightningDeals\\', {});\\n  </script>\\n\\n    <style mark=\"aboveNavInjectionCSS\" type=\"text/css\">\\n      .nav-bluebeacon .nav-cobrand{background-image: url(https://images-eu.ssl-images-amazon.com/images/G/31/gno/images/irctc/IRCTC_Logo-dark-small.png);} div.navFooterLine{white-space:normal;} div.navFooterColHead{white-space:normal;}\\n    </style>\\n    <script mark=\"aboveNavInjectionJS\" type=\"text/javascript\">\\n      try {\\n        window.$Nav && $Nav.when(\\'$\\').run(\\'defineIsArray\\', function(jQuery) { if(jQuery.isArray===undefined) { jQuery.isArray=function(param) { if(param.length===undefined) { return false; } return true; }; } }); window.$Nav && $Nav.when(\\'$\\',\\'$F\\',\\'config\\',\\'logEvent\\',\\'panels\\',\\'phoneHome\\',\\'dataPanel\\',\\'flyouts.renderPromo\\',\\'flyouts.sloppyTrigger\\',\\'flyouts.accessibility\\',\\'util.mouseOut\\',\\'util.onKey\\',\\'debug.param\\').build(\\'flyouts.buildSubPanels\\',function($,$F,config,logEvent,panels,phoneHome,dataPanel,renderPromo,createSloppyTrigger,a11yHandler,mouseOutUtility,onKey,debugParam){var flyoutDebug=debugParam(\\'navFlyoutClick\\');return function(flyout,event){var linkKeys=[];$(\\'.nav-item\\',flyout.elem()).each(function(){var $item=$(this);linkKeys.push({link:$item,panelKey:$item.attr(\\'data-nav-panelkey\\')});});if(linkKeys.length===0){return;} var visible=false;var $parent=$(\\'<div class=\\\\\\'nav-subcats\\\\\\'></div>\\').appendTo(flyout.elem());var panelGroup=flyout.getName()+\\'SubCats\\';var hideTimeout=null;var sloppyTrigger=createSloppyTrigger($parent);var showParent=function(){if(hideTimeout){clearTimeout(hideTimeout);hideTimeout=null;} if(visible){return;} var height=$(\\'#nav-flyout-shopAll\\').height();$parent.css({\\'height\\': height});$parent.animate({width:\\'show\\'},{duration:200,complete:function(){$parent.css({overflow:\\'visible\\'});}});visible=true;};var hideParentNow=function(){$parent.stop().css({overflow:\\'hidden\\',display:\\'none\\',width:\\'auto\\',height:\\'auto\\'});panels.hideAll({group:panelGroup});visible=false;if(hideTimeout){clearTimeout(hideTimeout);hideTimeout=null;}};var hideParent=function(){if(!visible){return;} if(hideTimeout){clearTimeout(hideTimeout);hideTimeout=null;} hideTimeout=setTimeout(hideParentNow,10);};flyout.onHide(function(){sloppyTrigger.disable();hideParentNow();this.elem().hide();});var addPanel=function($link,panelKey){var panel=dataPanel({className:\\'nav-subcat\\',dataKey:panelKey,groups:[panelGroup],spinner:false,visible:false});if(!flyoutDebug){var mouseout=mouseOutUtility();mouseout.add(flyout.elem());mouseout.action(function(){panel.hide();});mouseout.enable();} var a11y=a11yHandler({link:$link,onEscape:function(){panel.hide();$link.focus();}});var logPanelInteraction=function(promoID,wlTriggers){var logNow=$F.once().on(function(){var panelEvent=$.extend({},event,{id:promoID});if(config.browsePromos&&!!config.browsePromos[promoID]){panelEvent.bp=1;} logEvent(panelEvent);phoneHome.trigger(wlTriggers);});if(panel.isVisible()&&panel.hasInteracted()){logNow();}else{panel.onInteract(logNow);}};panel.onData(function(data){renderPromo(data.promoID,panel.elem());logPanelInteraction(data.promoID,data.wlTriggers);});panel.onShow(function(){var columnCount=$(\\'.nav-column\\',panel.elem()).length;panel.elem().addClass(\\'nav-colcount-\\'+columnCount);showParent();var $subCatLinks=$(\\'.nav-subcat-links > a\\',panel.elem());var length=$subCatLinks.length;if(length>0){var firstElementLeftPos=$subCatLinks.eq(0).offset().left;for(var i=1;i<length;i++){if(firstElementLeftPos===$subCatLinks.eq(i).offset().left){$subCatLinks.eq(i).addClass(\\'nav_linestart\\');}} if($(\\'span.nav-title.nav-item\\',panel.elem()).length===0){var catTitle=$.trim($link.html());catTitle=catTitle.replace(/ref=sa_menu_top/g,\\'ref=sa_menu\\');var $subPanelTitle=$(\\'<span class=\\\\\\'nav-title nav-item\\\\\\'>\\'+ catTitle+\\'</span>\\');panel.elem().prepend($subPanelTitle);}} $link.addClass(\\'nav-active\\');});panel.onHide(function(){$link.removeClass(\\'nav-active\\');hideParent();a11y.disable();sloppyTrigger.disable();});panel.onShow(function(){a11y.elems($(\\'a, area\\',panel.elem()));});sloppyTrigger.register($link,panel);if(flyoutDebug){$link.click(function(){if(panel.isVisible()){panel.hide();}else{panel.show();}});} var panelKeyHandler=onKey($link,function(){if(this.isEnter()||this.isSpace()){panel.show();}},\\'keydown\\',false);$link.focus(function(){panelKeyHandler.bind();}).blur(function(){panelKeyHandler.unbind();});panel.elem().appendTo($parent);};var hideParentAndResetTrigger=function(){hideParent();sloppyTrigger.disable();};for(var i=0;i<linkKeys.length;i++){var item=linkKeys[i];if(item.panelKey){addPanel(item.link,item.panelKey);}else{item.link.mouseover(hideParentAndResetTrigger);}}};});\\n      } catch ( err ) {\\n        if ( window.$Nav ) {\\n          window.$Nav.when(\\'metrics\\', \\'logUeError\\').run(function(metrics, log) {\\n            metrics.increment(\\'NavJS:AboveNavInjection:error\\');\\n            log(err.toString(), {\\n              \\'attribution\\': \\'rcx-nav\\',\\n              \\'logLevel\\': \\'FATAL\\'\\n            });\\n          });\\n        }\\n      }\\n    </script>\\n\\n  <noscript>\\n    <style type=\"text/css\"><!--\\n      #navbar #nav-shop .nav-a:hover {\\n        color: #ff9900;\\n        text-decoration: underline;\\n      }\\n      #navbar #nav-search .nav-search-facade,\\n      #navbar #nav-tools .nav-icon,\\n      #navbar #nav-shop .nav-icon,\\n      #navbar #nav-subnav .nav-hasArrow .nav-arrow {\\n        display: none;\\n      }\\n      #navbar #nav-search .nav-search-submit,\\n      #navbar #nav-search .nav-search-scope {\\n        display: block;\\n      }\\n      #nav-search .nav-search-scope {\\n        padding: 0 5px;\\n      }\\n      #navbar #nav-search .nav-search-dropdown {\\n        position: relative;\\n        top: 5px;\\n        height: 23px;\\n        font-size: 14px;\\n        opacity: 1;\\n        filter: alpha(opacity = 100);\\n      }\\n    --></style>\\n </noscript>\\n<script type=\\'text/javascript\\'>window.navmet.push({key:\\'PreNav\\',end:+new Date(),begin:window.navmet.tmp});</script>\\n\\n<a id=\\'nav-top\\'></a>\\n\\n\\n\\n\\n<a id=\"skiplink\" tabindex=\"0\" class=\"skip-link\">Skip to main content</a>\\n\\n\\n\\n\\n<script type=\\'text/javascript\\'>window.navmet.main=+new Date();</script>\\n\\n<header id=\"navbar-main\" class = \"nav-opt-sprite nav-flex nav-locale-in nav-lang-en nav-ssl nav-unrec nav-progressive-attribute\">\\n\\n   \\n  <div id=\\'navbar\\' cel_widget_id=\\'Navigation-desktop-navbar\\'\\n  role=\\'navigation\\' class=\"nav-sprite-v1 celwidget nav-bluebeacon nav-a11y-t1 bold-focus-hover layout2 nav-flex layout3 layout3-alt nav-packard-glow hamburger nav-progressive-attribute\">\\n    \\n    <div id=\\'nav-belt\\'>\\n      <div class=\\'nav-left\\'>\\n        <script type=\\'text/javascript\\'>window.navmet.tmp=+new Date();</script>\\n  <div id=\"nav-logo\" >\\n    <a href=\"/ref=nav_logo\" id=\"nav-logo-sprites\" class=\"nav-logo-link nav-progressive-attribute\" aria-label=\"Amazon\">\\n      <span class=\"nav-sprite nav-logo-base\"></span>\\n      <span id=\"logo-ext\" class=\"nav-sprite nav-logo-ext nav-progressive-content\"></span>\\n      <span class=\"nav-logo-locale\">.in</span>\\n    </a>\\n  </div>\\n<script type=\\'text/javascript\\'>window.navmet.push({key:\\'Logo\\',end:+new Date(),begin:window.navmet.tmp});</script>\\n        \\n<div id=\"nav-global-location-slot\">\\n    <span id=\"nav-global-location-data-modal-action\" class=\"a-declarative nav-progressive-attribute\" data-a-modal=\\'{&quot;width&quot;:375, &quot;closeButton&quot;:&quot;false&quot;,&quot;popoverLabel&quot;:&quot;Choose your location&quot;, &quot;ajaxHeaders&quot;:{&quot;anti-csrftoken-a2z&quot;:&quot;gPs/zBMGs5yHe2WpfiLu0cEGtmHOP2HWPUP1/NcAAAAMAAAAAGEXmgByYXcAAAAA&quot;}, &quot;name&quot;:&quot;glow-modal&quot;, &quot;url&quot;:&quot;/gp/glow/get-address-selections.html?deviceType&#x3D;desktop&amp;pageType&#x3D;CustomerReviews&amp;storeContext&#x3D;NoStoreName&amp;actionSource&#x3D;desktop-modal&quot;, &quot;footer&quot;:null,&quot;header&quot;:&quot;Choose your location&quot;}\\' data-action=\"a-modal\">\\n        <a id=\"nav-global-location-popover-link\" class=\"nav-a nav-a-2 a-popover-trigger a-declarative nav-progressive-attribute\" tabindex=\"0\">\\n            <div class=\"nav-sprite nav-progressive-attribute\" id=\"nav-packard-glow-loc-icon\"></div>\\n            <div id=\"glow-ingress-block\">\\n                <span class=\"nav-line-1 nav-progressive-content\" id=\"glow-ingress-line1\">\\n                   Hello\\n                </span>\\n                <span class=\"nav-line-2 nav-progressive-content\" id=\"glow-ingress-line2\">\\n                   Select your address\\n                </span>\\n            </div>\\n        </a>\\n        </span>\\n        <input data-addnewaddress=\"add-new\" id=\"unifiedLocation1ClickAddress\" name=\"dropdown-selection\" type=\"hidden\" value=\"add-new\" class=\"nav-progressive-attribute\" />\\n        <input data-addnewaddress=\"add-new\" id=\"ubbShipTo\" name=\"dropdown-selection-ubb\" type=\"hidden\" value=\"add-new\" class=\"nav-progressive-attribute\"/>\\n        <input id=\"glowValidationToken\" name=\"glow-validation-token\" type=\"hidden\" value=\"gPs/zBMGs5yHe2WpfiLu0cEGtmHOP2HWPUP1/NcAAAAMAAAAAGEXmgByYXcAAAAA\" class=\"nav-progressive-attribute\"/>\\n</div>\\n\\n<div id=\"nav-global-location-toaster-script-container\" class=\"nav-progressive-content\">\\n</div>\\n\\n      </div>\\n          <div class=\\'nav-fill\\'>\\n            <script type=\\'text/javascript\\'>window.navmet.tmp=+new Date();</script>\\n<div id=\"nav-search\">\\n  <div id=\"nav-bar-left\"></div>\\n  <form\\n    id=\"nav-search-bar-form\"\\n    accept-charset=\"utf-8\"\\n    action=\"/s/ref=nb_sb_noss\"\\n    class=\"nav-searchbar nav-progressive-attribute\"\\n    method=\"GET\"\\n    name=\"site-search\"\\n    role=\"search\"\\n  >\\n\\n    <div class=\"nav-left\">\\n      <div id=\"nav-search-dropdown-card\">\\n        \\n  <div class=\"nav-search-scope nav-sprite\">\\n    <div class=\"nav-search-facade\" data-value=\"search-alias=aps\">\\n      <span id=\"nav-search-label-id\" class=\"nav-search-label nav-progressive-content\">All</span>\\n      <i class=\"nav-icon\"></i>\\n    </div>\\n    <span id=\"searchDropdownDescription\" class=\"nav-progressive-attribute\" style=\"display:none\">Select the department you want to search in</span>\\n    <select\\n      aria-describedby=\"searchDropdownDescription\"\\n      class=\"nav-search-dropdown searchSelect nav-progressive-attrubute nav-progressive-search-dropdown\"\\n      data-nav-digest=\"1A/TxAhvjBJ9KDqGirr+VGP6khw=\"\\n      data-nav-selected=\"0\"\\n      id=\"searchDropdownBox\"\\n      name=\"url\"\\n      style=\"display: block;\"\\n      tabindex=\"0\"\\n      title=\"Search in\"\\n    >\\n        <option selected=\"selected\" value=\"search-alias=aps\">All Categories</option>\\n        <option value=\"search-alias=todays-deals\">Deals</option>\\n        <option value=\"search-alias=alexa-skills\">Alexa Skills</option>\\n        <option value=\"search-alias=amazon-devices\">Amazon Devices</option>\\n        <option value=\"search-alias=fashion\">Amazon Fashion</option>\\n        <option value=\"search-alias=nowstore\">Amazon Fresh</option>\\n        <option value=\"search-alias=pantry\">Amazon Pantry</option>\\n        <option value=\"search-alias=appliances\">Appliances</option>\\n        <option value=\"search-alias=mobile-apps\">Apps & Games</option>\\n        <option value=\"search-alias=baby\">Baby</option>\\n        <option value=\"search-alias=beauty\">Beauty</option>\\n        <option value=\"search-alias=stripbooks\">Books</option>\\n        <option value=\"search-alias=automotive\">Car & Motorbike</option>\\n        <option value=\"search-alias=apparel\">Clothing & Accessories</option>\\n        <option value=\"search-alias=collectibles\">Collectibles</option>\\n        <option value=\"search-alias=computers\">Computers & Accessories</option>\\n        <option value=\"search-alias=electronics\">Electronics</option>\\n        <option value=\"search-alias=furniture\">Furniture</option>\\n        <option value=\"search-alias=lawngarden\">Garden & Outdoors</option>\\n        <option value=\"search-alias=gift-cards\">Gift Cards</option>\\n        <option value=\"search-alias=grocery\">Grocery & Gourmet Foods</option>\\n        <option value=\"search-alias=hpc\">Health & Personal Care</option>\\n        <option value=\"search-alias=kitchen\">Home & Kitchen</option>\\n        <option value=\"search-alias=industrial\">Industrial & Scientific</option>\\n        <option value=\"search-alias=jewelry\">Jewellery</option>\\n        <option value=\"search-alias=digital-text\">Kindle Store</option>\\n        <option value=\"search-alias=luggage\">Luggage & Bags</option>\\n        <option value=\"search-alias=luxury-beauty\">Luxury Beauty</option>\\n        <option value=\"search-alias=dvd\">Movies & TV Shows</option>\\n        <option value=\"search-alias=popular\">Music</option>\\n        <option value=\"search-alias=mi\">Musical Instruments</option>\\n        <option value=\"search-alias=office-products\">Office Products</option>\\n        <option value=\"search-alias=pets\">Pet Supplies</option>\\n        <option value=\"search-alias=instant-video\">Prime Video</option>\\n        <option value=\"search-alias=shoes\">Shoes & Handbags</option>\\n        <option value=\"search-alias=software\">Software</option>\\n        <option value=\"search-alias=sporting\">Sports, Fitness & Outdoors</option>\\n        <option value=\"search-alias=home-improvement\">Tools & Home Improvement</option>\\n        <option value=\"search-alias=toys\">Toys & Games</option>\\n        <option value=\"search-alias=under-ten-dollars\">Under ₹500</option>\\n        <option value=\"search-alias=videogames\">Video Games</option>\\n        <option value=\"search-alias=watches\">Watches</option>\\n    </select>\\n  </div>\\n\\n      </div>\\n    </div>\\n    <div class=\"nav-fill\">\\n      <div class=\"nav-search-field \">\\n        <input\\n          type=\"text\"\\n          id=\"twotabsearchtextbox\"\\n          value=\"\"\\n          name=\"field-keywords\"\\n          autocomplete=\"off\"\\n          placeholder=\"\"\\n          class=\"nav-input nav-progressive-attribute\"\\n          dir=\"auto\"\\n          tabindex=\"0\"\\n          aria-label=\"Search\"\\n        >\\n      </div>\\n      <div id=\"nav-iss-attach\"></div>\\n    </div>\\n    <div class=\"nav-right\">\\n      <div class=\"nav-search-submit nav-sprite\">\\n        <span id=\"nav-search-submit-text\" class=\"nav-search-submit-text nav-sprite nav-progressive-attribute\" aria-label=\"Go\">\\n          <input id=\"nav-search-submit-button\" type=\"submit\" class=\"nav-input nav-progressive-attribute\" value=\"Go\" tabindex=\"0\">\\n        </span>\\n      </div>\\n    </div>\\n  </form>\\n</div>\\n<script type=\\'text/javascript\\'>window.navmet.push({key:\\'Search\\',end:+new Date(),begin:window.navmet.tmp});</script>\\n          </div>\\n      <div class=\\'nav-right\\'>\\n          <script type=\\'text/javascript\\'>window.navmet.tmp=+new Date();</script>\\n          <div id=\\'nav-tools\\' class=\"layoutToolbarPadding\">\\n              \\n              \\n              \\n              \\n  <a href=\"/gp/customer-preferences/select-language/ref=topnav_lang?preferencesReturnUrl=%2F\" id=\"icp-nav-flyout\" class=\"nav-a nav-a-2 icp-link-style-2\" aria-label=\"Choose a language for shopping.\">\\n    <span class=\"icp-nav-link-inner\">\\n      <span class=\"nav-line-1\">\\n      </span>\\n      <span class=\"nav-line-2\">\\n        <span class=\"icp-nav-flag icp-nav-flag-in\"></span>\\n        <span class=\"nav-icon nav-arrow\"></span>\\n      </span>\\n    </span>\\n  </a>\\n\\n              \\n  <a href=\"https://www.amazon.in/ap/signin?openid.pape.max_auth_age=0&openid.return_to=https%3A%2F%2Fwww.amazon.in%2FKaira-Micromax-Canvas-Power-Q4260%2Fproduct-reviews%2FB07C7DW8K7%2F%3F_encoding%3DUTF8%26ref_%3Dnav_ya_signin&openid.identity=http%3A%2F%2Fspecs.openid.net%2Fauth%2F2.0%2Fidentifier_select&openid.assoc_handle=inflex&openid.mode=checkid_setup&openid.claimed_id=http%3A%2F%2Fspecs.openid.net%2Fauth%2F2.0%2Fidentifier_select&openid.ns=http%3A%2F%2Fspecs.openid.net%2Fauth%2F2.0&\" class=\"nav-a nav-a-2   nav-progressive-attribute\" data-nav-ref=\"nav_ya_signin\"  data-nav-role=\"signin\" data-ux-jq-mouseenter=\"true\" id=\"nav-link-accountList\" tabindex=\"0\" data-csa-c-type=\"link\" data-csa-c-slot-id=\"nav-link-accountList\" data-csa-c-content-id=\"nav_ya_signin\">\\n  <div class=\"nav-line-1-container\"><span id=\"nav-link-accountList-nav-line-1\" class=\"nav-line-1 nav-progressive-content\">Hello, Sign in</span></div>\\n  <span class=\"nav-line-2 \">Account & Lists<span class=\"nav-icon nav-arrow\"></span>\\n  </span>\\n</a>\\n\\n              \\n<a href=\"/gp/css/order-history?ref_=nav_orders_first\" class=\"nav-a nav-a-2   nav-progressive-attribute\" id=\"nav-orders\" tabindex=\"0\">\\n  <span class=\"nav-line-1\">Returns</span>\\n  <span class=\"nav-line-2\">& Orders</span>\\n</a>\\n\\n              \\n              \\n  <a href=\"https://www.amazon.in/gp/cart/view.html?ref_=nav_cart\" aria-label=\" items in cart\" class=\"nav-a nav-a-2 nav-progressive-attribute\" id=\"nav-cart\">\\n    <div id=\"nav-cart-count-container\">\\n      <span id=\"nav-cart-count\" aria-hidden=\"true\" class=\"nav-cart-count nav-cart-0 nav-progressive-attribute nav-progressive-content\"></span>\\n      <span class=\"nav-cart-icon nav-sprite\"></span>\\n    </div>\\n    <div id=\"nav-cart-text-container\" class=\" nav-progressive-attribute\">\\n      <span aria-hidden=\"true\" class=\"nav-line-1\">\\n         \\n      </span>\\n      <span aria-hidden=\"true\" class=\"nav-line-2\">\\n        Cart\\n        <span class=\"nav-icon nav-arrow\"></span>\\n      </span>\\n    </div>\\n  </a>\\n\\n          </div>\\n          <script type=\\'text/javascript\\'>window.navmet.push({key:\\'Tools\\',end:+new Date(),begin:window.navmet.tmp});</script>\\n\\n      </div>\\n    </div>\\n    <div id=\\'nav-main\\' class=\\'nav-sprite\\'>\\n      <div class=\\'nav-left\\'>\\n        <script type=\\'text/javascript\\'>window.navmet.tmp=+new Date();</script>\\n  <a href=\"/gp/site-directory?ref_=nav_em_js_disabled\" id=\"nav-hamburger-menu\" role=\"button\" aria-label=\"Open Menu\" data-csa-c-type=\"widget\" data-csa-c-slot-id=\"HamburgerMenuDesktop\"\\n  data-csa-c-interaction-events=\"click\" >\\n    <i class=\"hm-icon nav-sprite\"></i>\\n    <span class=\"hm-icon-label\">All</span>\\n  </a>\\n  \\n<script type=\"text/javascript\">\\n  var hmenu = document.getElementById(\"nav-hamburger-menu\");\\n  hmenu.setAttribute(\"href\", \"javascript: void(0)\");\\n  window.navHamburgerMetricLogger = function() {\\n    if (window.ue && window.ue.count) {\\n      var metricName = \"Nav:Hmenu:IconClickActionPending\";\\n      window.ue.count(metricName, (ue.count(metricName) || 0) + 1);\\n    }\\n    window.$Nav && $Nav.declare(\"navHMenuIconClicked\",!0);\\n    window.$Nav && $Nav.declare(\"navHMenuIconClickedNotReadyTimeStamp\", Date.now());\\n  };\\n  hmenu.addEventListener(\"click\", window.navHamburgerMetricLogger);\\n  window.$Nav && $Nav.declare(\\'hamburgerMenuIconAvailableOnLoad\\', false);\\n</script>  \\n<script type=\\'text/javascript\\'>window.navmet.push({key:\\'HamburgerMenuIcon\\',end:+new Date(),begin:window.navmet.tmp});</script>\\n        \\n        \\n        \\n        \\n      </div>\\n      <div class=\\'nav-fill\\'>\\n        \\n          \\n <div id=\"nav-shop\">\\n </div>\\n          <div id=\\'nav-xshop-container\\'>\\n            <div id=\\'nav-xshop\\' class=\"nav-progressive-content\">\\n              <script type=\\'text/javascript\\'>window.navmet.tmp=+new Date();</script>\\n<a href=\"/gp/bestsellers/?ref_=nav_cs_bestsellers_17d44cb01bd144359b81b1c10b84dd98\" class=\"nav-a  \" tabindex=\"0\" data-csa-c-type=\"link\" data-csa-c-slot-id=\"nav_cs_0\" data-csa-c-content-id=\"nav_cs_bestsellers_17d44cb01bd144359b81b1c10b84dd98\">Best Sellers</a>\\n\\n<a href=\"/mobile-phones/b/?ie=UTF8&node=1389401031&ref_=nav_cs_mobiles_9292c6cb7b394d30b2467b8f631090a7\" class=\"nav-a  \" tabindex=\"0\" data-csa-c-type=\"link\" data-csa-c-slot-id=\"nav_cs_1\" data-csa-c-content-id=\"nav_cs_mobiles_9292c6cb7b394d30b2467b8f631090a7\">Mobiles</a>\\n\\n<a href=\"/gp/sva/dashboard?ref_=nav_cs_apay_fe0c735739554ca1a7cccf7c41941f2f\" class=\"nav-a  \" tabindex=\"0\" data-csa-c-type=\"link\" data-csa-c-slot-id=\"nav_cs_2\" data-csa-c-content-id=\"nav_cs_apay_fe0c735739554ca1a7cccf7c41941f2f\">Amazon Pay</a>\\n\\n<a href=\"/gp/browse.html?node=6648217031&ref_=nav_cs_fashion_ad6f81eb5d474066bc9e5788a3c19a28\" class=\"nav-a  \" tabindex=\"0\" data-csa-c-type=\"link\" data-csa-c-slot-id=\"nav_cs_3\" data-csa-c-content-id=\"nav_cs_fashion_ad6f81eb5d474066bc9e5788a3c19a28\">Fashion</a>\\n\\n<a href=\"/electronics/b/?ie=UTF8&node=976419031&ref_=nav_cs_electronics_c5b70a82461a484189e700166599ce9f\" class=\"nav-a  \" tabindex=\"0\" data-csa-c-type=\"link\" data-csa-c-slot-id=\"nav_cs_4\" data-csa-c-content-id=\"nav_cs_electronics_c5b70a82461a484189e700166599ce9f\"> Electronics </a>\\n\\n<a href=\"/prime?ref_=nav_cs_primelink_nonmember_2860122b63884a8688052dc445e46bd9\" class=\"nav-a  \" data-ux-jq-mouseenter=\"true\" id=\"nav-link-prime\" tabindex=\"0\"  data-csa-c-type=\"link\" data-csa-c-slot-id=\"nav-link-prime\" data-csa-c-content-id=\"nav_cs_primelink_nonmember_2860122b63884a8688052dc445e46bd9\"><span>Prime</span><span class=\"nav-icon nav-arrow\"></span></a>\\n\\n<a href=\"/gp/help/customer/display.html?nodeId=200507590&ref_=nav_cs_help_79404a52982a4d9d973cf256c713999e\" class=\"nav-a  \" tabindex=\"0\" data-csa-c-type=\"link\" data-csa-c-slot-id=\"nav_cs_6\" data-csa-c-content-id=\"nav_cs_help_79404a52982a4d9d973cf256c713999e\">Customer Service</a>\\n\\n<a href=\"/gp/new-releases/?ref_=nav_cs_newreleases_b9144c00866c4016b948d9b5b5215b45\" class=\"nav-a  \" tabindex=\"0\" data-csa-c-type=\"link\" data-csa-c-slot-id=\"nav_cs_7\" data-csa-c-content-id=\"nav_cs_newreleases_b9144c00866c4016b948d9b5b5215b45\">New Releases</a>\\n\\n<a href=\"/computers-and-accessories/b/?ie=UTF8&node=976392031&ref_=nav_cs_pc_d99b175b1db64d5b968b67ba6e5a72a3\" class=\"nav-a  \" tabindex=\"0\" data-csa-c-type=\"link\" data-csa-c-slot-id=\"nav_cs_8\" data-csa-c-content-id=\"nav_cs_pc_d99b175b1db64d5b968b67ba6e5a72a3\">Computers</a>\\n\\n<a href=\"/Home-Kitchen/b/?ie=UTF8&node=976442031&ref_=nav_cs_home_5f0a1657ec2a4557a8233992829feaf3\" class=\"nav-a  \" tabindex=\"0\" data-csa-c-type=\"link\" data-csa-c-slot-id=\"nav_cs_9\" data-csa-c-content-id=\"nav_cs_home_5f0a1657ec2a4557a8233992829feaf3\">Home & Kitchen</a>\\n\\n<a href=\"/Toys-Games/b/?ie=UTF8&node=1350380031&ref_=nav_cs_toys_614bf387c5974fcdb69fb40fa2f95252\" class=\"nav-a  \" tabindex=\"0\" data-csa-c-type=\"link\" data-csa-c-slot-id=\"nav_cs_10\" data-csa-c-content-id=\"nav_cs_toys_614bf387c5974fcdb69fb40fa2f95252\">Toys & Games</a>\\n\\n<a href=\"/Books/b/?ie=UTF8&node=976389031&ref_=nav_cs_books_bc600d0d124d40a3909f96904182b45f\" class=\"nav-a  \" tabindex=\"0\" data-csa-c-type=\"link\" data-csa-c-slot-id=\"nav_cs_11\" data-csa-c-content-id=\"nav_cs_books_bc600d0d124d40a3909f96904182b45f\">Books</a>\\n\\n<a href=\"/amazon-coupons/b/?_encoding=UTF8&node=10465704031&ref_=nav_cs_coupons_ce0af682243a4823874ce6cde7afb33e\" class=\"nav-a  \" tabindex=\"0\" data-csa-c-type=\"link\" data-csa-c-slot-id=\"nav_cs_12\" data-csa-c-content-id=\"nav_cs_coupons_ce0af682243a4823874ce6cde7afb33e\">Coupons</a>\\n\\n<a href=\"/b/?node=2838698031&ld=AZINSOANavDesktop&ref_=nav_cs_sell_22c5725860ed46a593b5f97a935ef723\" class=\"nav-a  \" tabindex=\"0\" data-csa-c-type=\"link\" data-csa-c-slot-id=\"nav_cs_13\" data-csa-c-content-id=\"nav_cs_sell_22c5725860ed46a593b5f97a935ef723\">Sell</a>\\n\\n<a href=\"/gp/goldbox?ref_=nav_cs_gb_5bf06ae8328043a2beb2754f40a54c84\" class=\"nav-a  \" tabindex=\"0\" data-csa-c-type=\"link\" data-csa-c-slot-id=\"nav_cs_14\" data-csa-c-content-id=\"nav_cs_gb_5bf06ae8328043a2beb2754f40a54c84\">Today\\'s Deals</a>\\n\\n<a href=\"/Sports/b/?ie=UTF8&node=1984443031&ref_=nav_cs_sports_8a31b13c38f84bfba386a5c9d1b7615e\" class=\"nav-a  \" tabindex=\"0\" data-csa-c-type=\"link\" data-csa-c-slot-id=\"nav_cs_15\" data-csa-c-content-id=\"nav_cs_sports_8a31b13c38f84bfba386a5c9d1b7615e\">Sports, Fitness & Outdoors</a>\\n\\n<a href=\"/beauty/b/?ie=UTF8&node=1355016031&ref_=nav_cs_beauty_6ef19712270447e593a9ddf9a03604d8\" class=\"nav-a  \" tabindex=\"0\" data-csa-c-type=\"link\" data-csa-c-slot-id=\"nav_cs_16\" data-csa-c-content-id=\"nav_cs_beauty_6ef19712270447e593a9ddf9a03604d8\">Beauty & Personal Care</a>\\n\\n<a href=\"/Car-Motorbike-Store/b/?ie=UTF8&node=4772060031&ref_=nav_cs_automotive_75137ca568f6495387a781885869ac30\" class=\"nav-a  \" tabindex=\"0\" data-csa-c-type=\"link\" data-csa-c-slot-id=\"nav_cs_17\" data-csa-c-content-id=\"nav_cs_automotive_75137ca568f6495387a781885869ac30\">Car & Motorbike</a>\\n\\n<a href=\"/health-and-personal-care/b/?ie=UTF8&node=1350384031&ref_=nav_cs_hpc_a024fc7ba9174802831aed18bbebb33d\" class=\"nav-a  \" tabindex=\"0\" data-csa-c-type=\"link\" data-csa-c-slot-id=\"nav_cs_18\" data-csa-c-content-id=\"nav_cs_hpc_a024fc7ba9174802831aed18bbebb33d\">Health, Household & Personal Care</a>\\n\\n<a href=\"/gift-card-store/b/?ie=UTF8&node=3704982031&ref_=nav_cs_gc_35a9db0a7db34350a3d3cb851062984e\" class=\"nav-a  \" tabindex=\"0\" data-csa-c-type=\"link\" data-csa-c-slot-id=\"nav_cs_19\" data-csa-c-content-id=\"nav_cs_gc_35a9db0a7db34350a3d3cb851062984e\">Gift Cards</a>\\n\\n<a href=\"/Gourmet-Specialty-Foods/b/?ie=UTF8&node=2454178031&ref_=nav_cs_grocery_aaabc3a9e1214048a9a0a73dcc968167\" class=\"nav-a  \" tabindex=\"0\" data-csa-c-type=\"link\" data-csa-c-slot-id=\"nav_cs_20\" data-csa-c-content-id=\"nav_cs_grocery_aaabc3a9e1214048a9a0a73dcc968167\">Grocery & Gourmet Foods</a>\\n\\n<a href=\"/Baby/b/?ie=UTF8&node=1571274031&ref_=nav_cs_baby_b2a01e91bb824bf1875698a9cdcacb29\" class=\"nav-a  \" tabindex=\"0\" data-csa-c-type=\"link\" data-csa-c-slot-id=\"nav_cs_21\" data-csa-c-content-id=\"nav_cs_baby_b2a01e91bb824bf1875698a9cdcacb29\">Baby</a>\\n\\n<a href=\"/video-games/b/?ie=UTF8&node=976460031&ref_=nav_cs_video_games_6da073eac80d4cc188a31f2330c92387\" class=\"nav-a  \" tabindex=\"0\" data-csa-c-type=\"link\" data-csa-c-slot-id=\"nav_cs_22\" data-csa-c-content-id=\"nav_cs_video_games_6da073eac80d4cc188a31f2330c92387\">Video Games</a>\\n\\n<a href=\"/Pet-Supplies/b/?ie=UTF8&node=2454181031&ref_=nav_cs_pets_57065eb9748646eb8c04675172dd0001\" class=\"nav-a  \" tabindex=\"0\" data-csa-c-type=\"link\" data-csa-c-slot-id=\"nav_cs_23\" data-csa-c-content-id=\"nav_cs_pets_57065eb9748646eb8c04675172dd0001\">Pet Supplies</a>\\n\\n<a href=\"/b/?node=6637738031&ref_=nav_cs_amazonbasics_7b323e02d64042408aefc605ff4f5baf\" class=\"nav-a  \" tabindex=\"0\" data-csa-c-type=\"link\" data-csa-c-slot-id=\"nav_cs_24\" data-csa-c-content-id=\"nav_cs_amazonbasics_7b323e02d64042408aefc605ff4f5baf\">AmazonBasics</a>\\n\\n<a href=\"/Kindle-Store/b/?ie=UTF8&node=1571277031&ref_=nav_cs_kindle_books_fbe4f5e5a26f403a91203de3fe5ab05d\" class=\"nav-a  \" tabindex=\"0\" data-csa-c-type=\"link\" data-csa-c-slot-id=\"nav_cs_25\" data-csa-c-content-id=\"nav_cs_kindle_books_fbe4f5e5a26f403a91203de3fe5ab05d\">Kindle eBooks</a>\\n\\n<a href=\"/gp/browse.html?node=3704992031&ref_=nav_cs_hi_b183765d90844c95b998beab0377167a\" class=\"nav-a  \" tabindex=\"0\" data-csa-c-type=\"link\" data-csa-c-slot-id=\"nav_cs_26\" data-csa-c-content-id=\"nav_cs_hi_b183765d90844c95b998beab0377167a\">Home Improvement</a>\\n\\n<a href=\"/gcx/-/gfhz/?ref_=nav_cs_giftfinder_58f3a96b9747402884d8f629e69ebd28\" class=\"nav-a  \" tabindex=\"0\" data-csa-c-type=\"link\" data-csa-c-slot-id=\"nav_cs_27\" data-csa-c-content-id=\"nav_cs_giftfinder_58f3a96b9747402884d8f629e69ebd28\">Gift Ideas\\t</a>\\n\\n<a href=\"/auto-deliveries/landing?ref_=nav_cs_sns_c630ba0feebb4081b3e5fbd2df39d065\" class=\"nav-a  \" tabindex=\"0\" data-csa-c-type=\"link\" data-csa-c-slot-id=\"nav_cs_28\" data-csa-c-content-id=\"nav_cs_sns_c630ba0feebb4081b3e5fbd2df39d065\">Subscribe & Save</a>\\n<script type=\\'text/javascript\\'>window.navmet.push({key:\\'CrossShop\\',end:+new Date(),begin:window.navmet.tmp});</script>\\n            </div>\\n          </div>\\n        \\n      </div>\\n      <div class=\\'nav-right\\'>\\n          <script type=\\'text/javascript\\'>window.navmet.tmp=+new Date();</script><!-- Navyaan SWM -->\\n<div id=\"nav-swmslot\">\\n  <div id=\"navSwmHoliday\" style=\"height: 39px; width: 400px; overflow: hidden; position: relative; \">\\n    <a aria-label=\"Amazon App\" href=\"/b/?_encoding=UTF8&node=6967393031&ref_=nav_swm_IN_swm_appdownload&pf_rd_p=09faafba-6d18-40ae-b436-cc5852eadc1b&pf_rd_s=nav-sitewide-msg&pf_rd_t=4201&pf_rd_i=navbar-4201&pf_rd_m=A21TJRUUN4KGV&pf_rd_r=HJ1YJSMG8JTNPEQ3GA5G\" class=\"nav-imageHref\" >\\n  <img alt=\"Amazon App\" src=\"https://images-eu.ssl-images-amazon.com/images/G/31/IN-hq/2021/img/Mobile_Traffic_/XCM_Manual_1321458_1651511_IN_3781247_400x39_en_IN._CB655944656_.jpg\">\\n</a>\\n      </div>\\n  \\n</div><script type=\\'text/javascript\\'>window.navmet.push({key:\\'SWM\\',end:+new Date(),begin:window.navmet.tmp});</script>\\n      </div>\\n    </div>\\n\\n    <div id=\\'nav-subnav-toaster\\'></div>\\n\\n    \\n    <div id=\"nav-progressive-subnav\">\\n      \\n    </div>\\n\\n    \\n    \\n    \\n        <div id=\\'nav-flyout-ewc\\' aria-hidden=\\'true\\' tabindex=\\'-1\\' class=\\'nav-ewc-lazy-align nav-ewc-hide-head\\'><div class=\\'nav-flyout-body ewc-beacon\\'><div class=\\'nav-ewc-arrow\\'></div><div class=\\'nav-ewc-content\\'></div></div></div><script type=\\'text/javascript\\'>\\n(function() {\\n  var viewportWidth = function() {\\n    return window.innerWidth ||\\n      document.documentElement.clientWidth ||\\n      document.body.clientWidth;\\n  };\\n\\n  if (typeof uet === \\'function\\') {  uet(\\'x1\\', \\'ewc\\', {wb: 1}); }\\n\\n  window.$Nav && $Nav.declare(\\'config.ewc\\', (function() {\\n    var config = {\"enablePersistent\":true,\"viewportWidthForPersistent\":1400,\"isEWCLogging\":1,\"isEWCStateExpanded\":true,\"EWCStateReason\":\"fixed\",\"isSmallScreenEnabled\":true,\"isFreshCustomer\":false,\"errorContent\":{\"html\":\"<div class=\\'nav-ewc-error\\'><span class=\\'nav-title\\'>Oops!</span><p class=\\'nav-paragraph\\'>There is a problem loading your cart right now</p><a href=\\'/gp/cart/view.html?ref_=nav_err_ewc_timeout\\' class=\\'nav-action-button\\'><span class=\\'nav-action-inner\\'>Your Cart</span></a></div>\"},\"url\":\"/cart/ewc/compact?hostPageType=CustomerReviews&hostSubPageType=remoteProduct&hostPageRID=HJ1YJSMG8JTNPEQ3GA5G&prerender=0\",\"cartCount\":0,\"freshCartCount\":0,\"almCartCount\":0,\"isCompactViewEnabled\":true,\"isCompactEWCRendered\":true};\\n    var hasAui = window.P && window.P.AUI_BUILD_DATE;\\n    var isRTLEnabled = (document.dir === \\'rtl\\');\\n    config.pinnable = config.pinnable && hasAui;\\n    config.isMigrationTreatment = true;\\n\\n    config.flyout = (function() {\\n      var navbelt = document.getElementById(\\'nav-belt\\');\\n      var navCart = document.getElementById(\\'nav-cart\\');\\n      var ewcFlyout = document.getElementById(\\'nav-flyout-ewc\\');\\n      var persistentClassOnBody = \\'nav-ewc-persistent-hover nav-ewc-full-height-persistent-hover\\';\\n      var flyout = {};\\n\\n      var getDocumentScrollTop = function() {\\n        return (document.documentElement && document.documentElement.scrollTop) || document.body.scrollTop;\\n      };\\n\\n      var isWindow = function(obj) {\\n        return obj != null && obj === obj.window;\\n      };\\n\\n      var getWindow = function(elem) {\\n        return isWindow(elem) ? elem : elem.nodeType === 9 && elem.defaultView;\\n      };\\n\\n      var getOffset = function(elem) {\\n        if (elem.getClientRects && !elem.getClientRects().length) {\\n          return {top: 0};\\n        }\\n\\n        var rect = elem.getBoundingClientRect\\n          ? elem.getBoundingClientRect()\\n          : {top: 0};\\n\\n        if (rect.width || rect.height) {\\n          var doc = elem.ownerDocument;\\n          var win = getWindow(doc);\\n          return {\\n            top: rect.top + win.pageYOffset - doc.documentElement.clientTop\\n          };\\n        }\\n        return rect;\\n      };\\n\\n      flyout.align = function() {\\n        var newTop = getOffset(navbelt).top - getDocumentScrollTop();\\n        ewcFlyout.style.top = (newTop > 0 ? newTop + \\'px\\' : 0);\\n      };\\n\\n      flyout.hide = function() {\\n        isRTLEnabled\\n          ? (ewcFlyout.style.left = \\'\\')\\n          : (ewcFlyout.style.right = \\'\\');\\n      };\\n\\n      if(typeof config.isCompactEWCRendered === \\'undefined\\') {\\n        if (\\n          (config.isSmallScreenEnabled && viewportWidth() < 1400) ||\\n          (config.isCompactViewEnabled && viewportWidth() >= 1400)\\n        ) {\\n          config.isCompactEWCRendered = true;\\n          config.isEWCStateExpanded = true;\\n          config.url = config.url.replace(\"/gp/navcart/sidebar\", \"/cart/ewc/compact\");\\n        } else {\\n          config.isCompactEWCRendered = false;\\n        }\\n      }\\n\\n      var viewportQualifyForPersistent = function () {\\n        return (config.isCompactEWCRendered)\\n          ? true\\n          : viewportWidth() >= 1400;\\n      }\\n\\n      flyout.hasQualifiedViewportForPersistent = viewportQualifyForPersistent;\\n\\n      var getEWCRightOffset = function() {\\n        if (!config.isCompactEWCRendered) {\\n          return 0;\\n        }\\n\\n        var $navbelt = document.getElementById(\\'nav-belt\\');\\n        if ($navbelt === undefined || $navbelt === null) {\\n          return 0;\\n        }\\n\\n        var EWCCompactViewWidth = (config.isWiderCompactEWCRendered  && viewportWidth() >= 1280) ? 130 : 100;\\n        var scrollLeft = (window.pageXOffset !== undefined)\\n          ? window.pageXOffset\\n          : (document.documentElement || document.body.parentNode || document.body).scrollLeft;\\n        var scrollXAxis = Math.abs(scrollLeft);\\n        var windowWidth = document.documentElement.clientWidth;\\n        var navbeltWidth = $navbelt.offsetWidth;\\n        var isPartOfNavbarNotVisible = (navbeltWidth + EWCCompactViewWidth) > windowWidth;\\n\\n        if (isPartOfNavbarNotVisible) {\\n          return 0 - (navbeltWidth - scrollXAxis - windowWidth + EWCCompactViewWidth);\\n        } else {\\n          return 0;\\n        }\\n      }\\n\\n      flyout.getEWCRightOffsetCssProperty = function () {\\n        return getEWCRightOffset() + \\'px\\';\\n      }\\n\\n      if (config.isCompactEWCRendered) {\\n        persistentClassOnBody = \\'nav-ewc-persistent-hover nav-ewc-compact-view\\';\\n        if (config.isWiderCompactEWCRendered) { persistentClassOnBody += \\' nav-ewc-wider-compact-view\\'; }\\n      }\\n\\n      flyout.show = function() {\\n        isRTLEnabled\\n          ? (ewcFlyout.style.left = flyout.getEWCRightOffsetCssProperty())\\n          : (ewcFlyout.style.right = flyout.getEWCRightOffsetCssProperty());\\n      };\\n\\n      var isIOSDevice = function() {\\n        return (/iPad|iPhone|iPod/.test(navigator.platform) ||\\n                (navigator.platform === \\'MacIntel\\' && navigator.maxTouchPoints > 1)) &&\\n                !window.MSStream;\\n      }\\n\\n      var checkForPersistent = function() {\\n        if (!hasAui) {\\n          return { result: false, reason: \\'noAui\\' };\\n        }\\n        if (!config.enablePersistent) {\\n          return { result: false, reason: \\'config\\' };\\n        }\\n        if (!viewportQualifyForPersistent()) {\\n          return { result: false, reason: \\'viewport\\' };\\n        }\\n        if (isIOSDevice()) {\\n          return { result: false, reason: \\'iOS\\' };\\n        }\\n        if (!config.cartCount > 0) {\\n          return { result: false, reason: \\'emptycart\\' };\\n        }\\n\\n        return { result: true };\\n      };\\n\\n      flyout.ableToPersist = function() {\\n        return checkForPersistent().result;\\n      };\\n\\n      var persistentClassRegExp = \\'(?:^|\\\\\\\\s)\\' + persistentClassOnBody + \\'(?!\\\\\\\\S)\\';\\n      flyout.applyPageLayoutForPersistent = function() {\\n        if (!document.documentElement.className.match( new RegExp(persistentClassRegExp) )) {\\n          document.documentElement.className += \\' \\' + persistentClassOnBody;\\n        }\\n      };\\n\\n      flyout.unapplyPageLayoutForPersistent = function() {\\n        document.documentElement.className = document.documentElement.className.replace( new RegExp(persistentClassRegExp, \\'g\\'), \\'\\');\\n      };\\n\\n      flyout.persist = function() {\\n        flyout.applyPageLayoutForPersistent();\\n        flyout.show();\\n        if (config.isCompactEWCRendered) {\\n          flyout.align();\\n        }\\n      };\\n\\n      flyout.unpersist = function() {\\n        flyout.unapplyPageLayoutForPersistent();\\n        flyout.hide();\\n      };\\n\\n      var resizeCallback = function() {\\n        if (flyout.ableToPersist()) {\\n          flyout.persist();\\n        }\\n        else {\\n          flyout.unpersist();\\n        }\\n      };\\n\\n      flyout.bindEvents = function() {\\n        if (window.addEventListener) {\\n          window.addEventListener(\\'resize\\', resizeCallback, false);\\n          if (config.isCompactEWCRendered) {\\n            window.addEventListener(\\'scroll\\', flyout.align, false);\\n          }\\n        }\\n      };\\n\\n      flyout.unbindEvents = function() {\\n        if (window.removeEventListener) {\\n          window.removeEventListener(\\'resize\\', resizeCallback, false);\\n          if (config.isCompactEWCRendered) {\\n            window.removeEventListener(\\'scroll\\', flyout.align, false);\\n          }\\n        }\\n      };\\n\\n      var persistentCheck = checkForPersistent();\\n\\n      if (persistentCheck.result) {\\n        flyout.persist();\\n        if (window.ue && ue.tag) {\\n          ue.tag(\\'ewc:persist\\');\\n        }\\n      } else {\\n        if (window.ue && ue.tag) {\\n          ue.tag(\\'ewc:unpersist\\');\\n          if (persistentCheck.reason === \\'noAui\\') {\\n            ue.tag(\\'ewc:unpersist:noAui\\');\\n          }\\n          if (persistentCheck.reason === \\'viewport\\') {\\n            ue.tag(\\'ewc:unpersist:viewport\\');\\n          }\\n          if (persistentCheck.reason === \\'emptycart\\') {\\n            ue.tag(\\'ewc:unpersist:emptycart\\');\\n          }\\n          if (persistentCheck.reason === \\'iOS\\') {\\n            ue.tag(\\'ewc:unpersist:iOS\\');\\n          }\\n        }\\n      }\\n\\n      if (window.ue && ue.tag)  {\\n        if (flyout.hasQualifiedViewportForPersistent()) {\\n          ue.tag(\\'ewc:bview\\');\\n        }\\n        else {\\n          ue.tag(\\'ewc:sview\\');\\n        }\\n      }\\n      flyout.bindEvents();\\n\\n      return flyout;\\n    }());\\n\\n    return config;\\n  }()));\\n\\n  if (typeof uet === \\'function\\') {\\n    uet(\\'x2\\', \\'ewc\\', {wb: 1});\\n    (window.AmazonUIPageJS ? AmazonUIPageJS : P).when(\\'navCF\\').execute(function() {\\n      uet(\\'bb\\', \\'ewc\\', {wb: 1});\\n    });\\n  }\\n\\n  if (window.ue && ue.tag) {\\n    ue.tag(\\'ewc\\');\\n    ue.tag(\\'ewc:unrec\\');\\n    ue.tag(\\'ewc:cartsize:0\\');\\n\\n    if ( window.P && window.P.AUI_BUILD_DATE ) {\\n      ue.tag(\\'ewc:aui\\');\\n    } else {\\n      ue.tag(\\'ewc:noAui\\');\\n    }\\n  }\\n}());\\n</script>\\n    \\n  </div>\\n\\n  \\n  \\n\\n</header>\\n\\n\\n<script type=\\'text/javascript\\'>window.navmet.push({key:\\'NavBar\\',end:+new Date(),begin:window.navmet.main});</script>\\n\\n\\n<script type=\"text/javascript\">\\n  if (window.ue_t0) {\\n    window.navmet.push({key:\"NavMainPaintEnd\",end:+new Date(),begin:window.ue_t0});\\n    window.navmet.push({key:\"NavFirstPaintEnd\",end:+new Date(),begin:window.ue_t0});\\n  }\\n</script>\\n\\n\\n<script type=\\'text/javascript\\'>\\n    <!--\\n    window.$Nav && $Nav.declare(\\'config.fixedBarBeacon\\',false);\\n    window.$Nav && $Nav.when(\"data\").run(function(data) { data({\"freshTimeout\":{\"template\":{\"name\":\"flyoutError\",\"data\":{\"error\":{\"title\":\"<style>#nav-flyout-fresh{width:269px;padding:0;}#nav-flyout-fresh .nav-flyout-content{padding:0;}</style><a href=\\'/amazonfresh\\'><img src=\\'https://images-eu.ssl-images-amazon.com/images/G/02/omaha/images/yoda/flyout_72dpi._V270092858_.png\\' /></a>\"}}}},\"cartTimeout\":{\"template\":{\"name\":\"flyoutError\",\"data\":{\"error\":{\"button\":{\"text\":\"Your Cart\",\"url\":\"/gp/cart/view.html?ref_=nav_err_cart_timeout\"},\"title\":\"Oops!\",\"paragraph\":\"There is a problem loading your cart right now\"}}}},\"primeTimeout\":{\"template\":{\"name\":\"flyoutError\",\"data\":{\"error\":{\"title\":\"<a href=\\'/gp/prime?ref_=nav_prime_btn_fb\\'><img src=\\'https://images-eu.ssl-images-amazon.com/images/G/02/prime/yourprime/yourprime-widget-piv-fallback._V310089192_.jpg\\' /></a>\"}}}},\"ewcTimeout\":{\"template\":{\"name\":\"flyoutError\",\"data\":{\"error\":{\"button\":{\"text\":\"Your Cart\",\"url\":\"/gp/cart/view.html?ref_=nav_err_ewc_timeout\"},\"title\":\"Oops!\",\"paragraph\":\"There is a problem loading your cart right now\"}}}},\"errorWishlist\":{\"template\":{\"name\":\"flyoutError\",\"data\":{\"error\":{\"button\":{\"text\":\"Your Wish List\",\"url\":\"/gp/registry/wishlist/?ref_=nav_err_wishlist\"},\"title\":\"Oops!\",\"paragraph\":\"There is a problem retrieving the list right now\"}}}},\"emptyWishlist\":{\"template\":{\"name\":\"flyoutError\",\"data\":{\"error\":{\"button\":{\"text\":\"Your Wish List\",\"url\":\"/gp/registry/wishlist/?ref_=nav_err_empty_wishlist\"},\"title\":\"Oops!\",\"paragraph\":\"Your list is empty\"}}}},\"yourAccountContent\":{\"template\":{\"name\":\"flyoutError\",\"data\":{\"error\":{\"button\":{\"text\":\"Your Account\",\"url\":\"/gp/css/homepage.html?ref_=nav_err_youraccount\"},\"title\":\"Oops!\",\"paragraph\":\"There is a problem retrieving the list right now\"}}}},\"shopAllTimeout\":{\"template\":{\"name\":\"flyoutError\",\"data\":{\"error\":{\"paragraph\":\"There is a problem retrieving the list right now\"}}}},\"kindleTimeout\":{\"template\":{\"name\":\"flyoutError\",\"data\":{\"error\":{\"paragraph\":\"There is a problem retrieving the list right now\"}}}}}); });\\nwindow.$Nav && $Nav.when(\"util.templates\").run(\"FlyoutErrorTemplate\", function(templates) {\\n      templates.add(\"flyoutError\", \"<# if(error.title) { #><span class=\\'nav-title\\'><#=error.title #></span><# } #><# if(error.paragraph) { #><p class=\\'nav-paragraph\\'><#=error.paragraph #></p><# } #><# if(error.button) { #><a href=\\'<#=error.button.url #>\\' class=\\'nav-action-button\\' ><span class=\\'nav-action-inner\\'><#=error.button.text #></span></a><# } #>\");\\n    });\\n\\n    if (typeof uet == \\'function\\') {\\n    uet(\\'bb\\', \\'iss-init-pc\\', {wb: 1});\\n  }\\n  if (!window.$SearchJS && window.$Nav) {\\n    window.$SearchJS = $Nav.make(\\'sx\\');\\n  }\\n\\n  var opts = {\\n    host: \"completion.amazon.co.uk/search/complete\"\\n  , marketId: \"44571\"\\n  , obfuscatedMarketId: \"A21TJRUUN4KGV\"\\n  , searchAliases: [\"aps\",\"amazonfresh\",\"amazon-devices\",\"stripbooks\",\"audible\",\"computers\",\"digital-text\",\"dvd\",\"instant-video\",\"electronics\",\"hpc\",\"kitchen\",\"furniture\",\"popular\",\"software\",\"videogames\",\"toys\",\"beauty\",\"baby\",\"watches\",\"jewelry\",\"luggage\",\"mobile-apps\",\"apparel\",\"shoes\",\"sporting\",\"gift-cards\",\"grocery\",\"mi\",\"office-products\",\"pets\",\"automotive\",\"industrial\",\"fashion\",\"appliances\",\"pantry\",\"lawngarden\",\"local-services\",\"luxury-beauty\",\"nowstore\",\"more\",\"spar\",\"hypercity\",\"bigbazaar\",\"home-improvement\",\"alexa-skills\",\"collectibles\",\"todays-deals\",\"under-ten-dollars\",\"specialty-aps-sns\"]\\n  , filterAliases: []\\n  , pageType: \"CustomerReviews\"\\n  , requestId: \"HJ1YJSMG8JTNPEQ3GA5G\"\\n  , sessionId: \"000-0000000-0000000\"\\n  , language: \"en_IN\"\\n  , customerId: \"\"\\n  , b2b: 0\\n  , fresh: 0\\n  , isJpOrCn: 0\\n  , isUseAuiIss: 1\\n};\\n\\nvar issOpts = {\\n    fallbackFlag: 1\\n  , isDigitalFeaturesEnabled: 0\\n  , isWayfindingEnabled: 0\\n  , dropdown: \"select.searchSelect\"\\n  , departmentText: \"in {department}\"\\n  , suggestionText: \"Search suggestions\"\\n  , recentSearchesTreatment: \"C\"\\n  , authorSuggestionText: \"all books by {author}\"\\n  , translatedStringsMap: {\"sx-recent-searches\":\"Recent searches\",\"sx-your-recent-search\":\"Inspired by your recent search\"}\\n  , biaTitleText: \"\"\\n  , biaPurchasedText: \"\"\\n  , biaViewAllText: \"\"\\n  , biaViewAllManageText: \"\"\\n  , biaAndText: \"\"\\n  , biaManageText: \"\"\\n  , biaWeblabTreatment: \"\"\\n  , issNavConfig: {}\\n  , np: 0\\n  , issCorpus: []\\n  , cf: 1\\n  , removeDeepNodeISS: \"\"\\n  , trendingTreatment: \"C\"\\n  , useAPIV2: \"\"\\n  , opfSwitch: \"\"\\n  , isISSDesktopRefactorEnabled: \"1\"\\n  , useServiceHighlighting: \"true\"\\n  , isInternal: 0\\n  , isAPICachingDisabled: true\\n  , isBrowseNodeScopingEnabled: false\\n  , isStorefrontTemplateEnabled: false\\n  , disableAutocompleteOnFocus: \"\"\\n};\\n\\n  if (opts.isUseAuiIss === 1 && window.$Nav) {\\n  window.$Nav.when(\\'sx.iss\\').run(\\'iss-mason-init\\', function(iss){\\n    var issInitObj = buildIssInitObject(opts, issOpts, true);\\n\\n    new iss.IssParentCoordinator(issInitObj);\\n\\n    $SearchJS.declare(\\'canCreateAutocomplete\\', issInitObj);\\n  });\\n} else if (window.$SearchJS) {\\n  var iss;\\n\\n  // BEGIN Deprecated globals\\n  var issHost = opts.host\\n    , issMktid = opts.marketId\\n    , issSearchAliases = opts.searchAliases\\n    , updateISSCompletion = function() { iss.updateAutoCompletion(); };\\n  // END deprecated globals\\n\\n\\n  $SearchJS.when(\\'jQuery\\', \\'search-js-autocomplete-lib\\').run(\\'autocomplete-init\\', initializeAutocomplete);\\n  $SearchJS.when(\\'canCreateAutocomplete\\').run(\\'createAutocomplete\\', createAutocomplete);\\n\\n} // END conditional for window.$SearchJS\\n  function initializeAutocomplete(jQuery) {\\n  var issInitObj = buildIssInitObject(opts, issOpts);\\n  $SearchJS.declare(\"canCreateAutocomplete\", issInitObj);\\n} // END initializeAutocomplete\\n  function initSearchCsl(searchCSL, issInitObject) {\\n  searchCSL.init(\\n    opts.pageType,\\n    (window.ue && window.ue.rid) || opts.requestId\\n  );\\n  $SearchJS.declare(\"canCreateAutocomplete\", issInitObject);\\n} // END initSearchCsl\\n  function createAutocomplete(issObject) {\\n  iss = new AutoComplete(issObject);\\n\\n  $SearchJS.publish(\"search-js-autocomplete\", iss);\\n\\n  logMetrics();\\n} // END createAutocomplete\\n  function buildIssInitObject(opts, issOpts, isNewIss) {\\n    var issInitObj = {\\n        src: opts.host\\n      , sessionId: opts.sessionId\\n      , requestId: opts.requestId\\n      , mkt: opts.marketId\\n      , obfMkt: opts.obfuscatedMarketId\\n      , pageType: opts.pageType\\n      , language: opts.language\\n      , customerId: opts.customerId\\n      , fresh: opts.fresh\\n      , b2b: opts.b2b\\n      , aliases: opts.searchAliases\\n      , fb: issOpts.fallbackFlag\\n      , isDigitalFeaturesEnabled: issOpts.isDigitalFeaturesEnabled\\n      , isWayfindingEnabled: issOpts.isWayfindingEnabled\\n      , issPrimeEligible: issOpts.issPrimeEligible\\n      , deptText: issOpts.departmentText\\n      , sugText: issOpts.suggestionText\\n      , filterAliases: opts.filterAliases\\n      , biaWidgetUrl: opts.biaWidgetUrl\\n      , recentSearchesTreatment: issOpts.recentSearchesTreatment\\n      , authorSuggestionText: issOpts.authorSuggestionText\\n      , translatedStringsMap: issOpts.translatedStringsMap\\n      , biaTitleText: \"\"\\n      , biaPurchasedText: \"\"\\n      , biaViewAllText: \"\"\\n      , biaViewAllManageText: \"\"\\n      , biaAndText: \"\"\\n      , biaManageText: \"\"\\n      , biaWeblabTreatment: \"\"\\n      , issNavConfig: issOpts.issNavConfig\\n      , cf: issOpts.cf\\n      , ime: opts.isJpOrCn\\n      , mktid: opts.marketId\\n      , qs: opts.isJpOrCn\\n      , issCorpus: issOpts.issCorpus\\n      , deepNodeISS: {\\n          searchAliasAccessor: function($) {\\n            return (window.SearchPageAccess && window.SearchPageAccess.searchAlias()) ||\\n                   $(\\'select.searchSelect\\').children().attr(\\'data-root-alias\\');\\n          },\\n          searchAliasDisplayNameAccessor: function() {\\n            return (window.SearchPageAccess && window.SearchPageAccess.searchAliasDisplayName());\\n          }\\n        }\\n      , removeDeepNodeISS: issOpts.removeDeepNodeISS\\n      , trendingTreatment: issOpts.trendingTreatment\\n      , useAPIV2: issOpts.useAPIV2\\n      , opfSwitch: issOpts.opfSwitch\\n      , isISSDesktopRefactorEnabled: issOpts.isISSDesktopRefactorEnabled\\n      , useServiceHighlighting: issOpts.useServiceHighlighting\\n      , isInternal: issOpts.isInternal\\n      , isAPICachingDisabled: issOpts.isAPICachingDisabled\\n      , isBrowseNodeScopingEnabled: issOpts.isBrowseNodeScopingEnabled\\n      , isStorefrontTemplateEnabled: issOpts.isStorefrontTemplateEnabled\\n      , disableAutocompleteOnFocus: issOpts.disableAutocompleteOnFocus\\n    };\\n  \\n    // If we aren\\'t using the new ISS then we need to add these properties\\n    \\n    if (!isNewIss) {\\n      issInitObj.dd = issOpts.dropdown; // The element with id searchDropdownBox doesn\\'t exist in C.\\n      issInitObj.imeSpacing = issOpts.imeSpacing;\\n      issInitObj.isNavInline = 1;\\n      issInitObj.triggerISSOnClick = 0;\\n      issInitObj.sc = 1;\\n      issInitObj.np = issOpts.np;\\n    }\\n  \\n    return issInitObj;\\n  } // END buildIssInitObject\\n  function logMetrics() {\\n  if (typeof uet == \\'function\\' && typeof uex == \\'function\\') {\\n      uet(\\'be\\', \\'iss-init-pc\\',\\n          {\\n              wb: 1\\n          });\\n      uex(\\'ld\\', \\'iss-init-pc\\',\\n          {\\n              wb: 1\\n          });\\n  }\\n} // END logMetrics\\n  \\n    \\nwindow.$Nav && $Nav.declare(\\'config.navDeviceType\\',\\'desktop\\');\\n\\nwindow.$Nav && $Nav.declare(\\'config.navDebugHighres\\',false);\\n\\nwindow.$Nav && $Nav.declare(\\'config.pageType\\',\\'CustomerReviews\\');\\nwindow.$Nav && $Nav.declare(\\'config.subPageType\\',\\'remoteProduct\\');\\n\\nwindow.$Nav && $Nav.declare(\\'config.dynamicMenuUrl\\',\\'\\\\x2Fgp\\\\x2Fnavigation\\\\x2Fajax\\\\x2Fdynamic\\\\x2Dmenu.html\\');\\n\\nwindow.$Nav && $Nav.declare(\\'config.dismissNotificationUrl\\',\\'\\\\x2Fgp\\\\x2Fnavigation\\\\x2Fajax\\\\x2Fdismissnotification.html\\');\\n\\nwindow.$Nav && $Nav.declare(\\'config.enableDynamicMenus\\',true);\\n\\nwindow.$Nav && $Nav.declare(\\'config.isInternal\\',false);\\n\\nwindow.$Nav && $Nav.declare(\\'config.isBackup\\',false);\\n\\nwindow.$Nav && $Nav.declare(\\'config.isRecognized\\',false);\\n\\nwindow.$Nav && $Nav.declare(\\'config.transientFlyoutTrigger\\',\\'\\\\x23nav\\\\x2Dtransient\\\\x2Dflyout\\\\x2Dtrigger\\');\\n\\nwindow.$Nav && $Nav.declare(\\'config.subnavFlyoutUrl\\',\\'\\\\x2Fgp\\\\x2Fnavigation\\\\x2Fajax\\\\x2Fgeneric.html\\');\\nwindow.$Nav && $Nav.declare(\\'config.isSubnavFlyoutMigrationEnabled\\',true);\\n\\n\\nwindow.$Nav && $Nav.declare(\\'config.alexaListEnabled\\',true);\\n\\nwindow.$Nav && $Nav.declare(\\'config.readyOnATF\\',false);\\n\\nwindow.$Nav && $Nav.declare(\\'config.dynamicMenuArgs\\',{\"rid\":\"HJ1YJSMG8JTNPEQ3GA5G\",\"isFullWidthPrime\":0,\"isPrime\":0,\"dynamicRequest\":1,\"weblabs\":\"\",\"isFreshRegionAndCustomer\":\"\",\"primeMenuWidth\":310});\\n\\nwindow.$Nav && $Nav.declare(\\'config.customerName\\',false);\\n\\nwindow.$Nav && $Nav.declare(\\'config.yourAccountPrimeURL\\',null);\\n\\nwindow.$Nav && $Nav.declare(\\'config.yourAccountPrimeHover\\',true);\\n\\nwindow.$Nav && $Nav.declare(\\'config.searchBackState\\',{});\\n\\nwindow.$Nav && $Nav.declare(\\'nav.inline\\');\\n\\n(function (i) {\\ni.onload = function() {window.uet && uet(\\'ne\\')};\\ni.src = window._navbarSpriteUrl;\\n}(new Image()));\\n\\nwindow.$Nav && $Nav.declare(\\'config.autoFocus\\',false);\\n\\nwindow.$Nav && $Nav.declare(\\'config.responsiveTouchAgents\\',[\"ieTouch\"]);\\n\\nwindow.$Nav && $Nav.declare(\\'config.responsiveGW\\',false);\\n\\nwindow.$Nav && $Nav.declare(\\'config.pageHideEnabled\\',false);\\n\\nwindow.$Nav && $Nav.declare(\\'config.sslTriggerType\\',\\'null\\');\\nwindow.$Nav && $Nav.declare(\\'config.sslTriggerRetry\\',0);\\n\\nwindow.$Nav && $Nav.declare(\\'config.doubleCart\\',false);\\n\\nwindow.$Nav && $Nav.declare(\\'config.signInOverride\\',false);\\n\\nwindow.$Nav && $Nav.declare(\\'config.signInTooltip\\',true);\\n\\nwindow.$Nav && $Nav.declare(\\'config.isPrimeMember\\',false);\\n\\nwindow.$Nav && $Nav.declare(\\'config.packardGlowTooltip\\',false);\\n\\nwindow.$Nav && $Nav.declare(\\'config.packardGlowFlyout\\',false);\\n\\nwindow.$Nav && $Nav.declare(\\'config.rightMarginAlignEnabled\\',true);\\n\\nwindow.$Nav && $Nav.declare(\\'config.flyoutAnimation\\',false);\\n\\nwindow.$Nav && $Nav.declare(\\'config.campusActivation\\',\\'null\\');\\n\\nwindow.$Nav && $Nav.declare(\\'config.primeTooltip\\',false);\\n\\nwindow.$Nav && $Nav.declare(\\'config.primeDay\\',false);\\n\\nwindow.$Nav && $Nav.declare(\\'config.disableBuyItAgain\\',false);\\n\\nwindow.$Nav && $Nav.declare(\\'config.enableCrossShopBiaFlyout\\',false);\\n\\nwindow.$Nav && $Nav.declare(\\'config.pseudoPrimeFirstBrowse\\',null);\\n\\nwindow.$Nav && $Nav.declare(\\'config.sdaYourAccount\\',false);\\n\\nwindow.$Nav && $Nav.declare(\\'config.csYourAccount\\',false);\\n\\nwindow.$Nav && $Nav.declare(\\'config.cartFlyoutDisabled\\',true);\\n\\nwindow.$Nav && $Nav.declare(\\'config.isTabletBrowser\\',false);\\n\\nwindow.$Nav && $Nav.declare(\\'config.HmenuProximityArea\\',[200,200,200,200]);\\n\\nwindow.$Nav && $Nav.declare(\\'config.HMenuIsProximity\\',true);\\n\\nwindow.$Nav && $Nav.declare(\\'config.isPureAjaxALF\\',false);\\n\\nwindow.$Nav && $Nav.declare(\\'config.accountListFlyoutRedesign\\',false);\\n\\nwindow.$Nav && $Nav.declare(\\'config.navfresh\\',false);\\n\\nwindow.$Nav && $Nav.declare(\\'config.isFreshRegion\\',false);\\n\\nif (window.ue && ue.tag) { ue.tag(\\'navbar\\'); };\\n\\nwindow.$Nav && $Nav.declare(\\'config.blackbelt\\',true);\\n\\nwindow.$Nav && $Nav.declare(\\'config.beaconbelt\\',true);\\n\\nwindow.$Nav && $Nav.declare(\\'config.accountList\\',true);\\n\\nwindow.$Nav && $Nav.declare(\\'config.iPadTablet\\',false);\\n\\nwindow.$Nav && $Nav.declare(\\'config.searchapiEndpoint\\',false);\\n\\nwindow.$Nav && $Nav.declare(\\'config.timeline\\',false);\\n\\nwindow.$Nav && $Nav.declare(\\'config.timelineAsinPriceEnabled\\',false);\\n\\nwindow.$Nav && $Nav.declare(\\'config.timelineDeleteEnabled\\',false);\\n\\n\\n\\nwindow.$Nav && $Nav.declare(\\'config.extendedFlyout\\',false);\\n\\nwindow.$Nav && $Nav.declare(\\'config.flyoutCloseDelay\\',600);\\n\\nwindow.$Nav && $Nav.declare(\\'config.pssFlag\\',0);\\n\\nwindow.$Nav && $Nav.declare(\\'config.isPrimeTooltipMigrated\\',false);\\n\\nwindow.$Nav && $Nav.declare(\\'config.isDynamicWishListMigrationEnabled\\',false);\\n\\nwindow.$Nav && $Nav.declare(\\'config.hashCustomerAndSessionId\\',\\'b54479e8d6371bba2a650babfc38415c298cb83b\\');\\n\\nwindow.$Nav && $Nav.declare(\\'config.isExportMode\\',false);\\n\\nwindow.$Nav && $Nav.declare(\\'config.languageCode\\',\\'en_IN\\');\\n\\nwindow.$Nav && $Nav.declare(\\'config.environmentVFI\\',\\'AmazonNavigationCards\\\\x2Fdevelopment\\\\x40B6054954172\\\\x2DAL2_x86_64\\');\\n\\n\\n\\nwindow.$Nav && $Nav.declare(\\'config.isHMenuBrowserCacheDisable\\',false);\\n\\nwindow.$Nav && $Nav.declare(\\'config.signInUrlWithRefTag\\',\\'https\\\\x3A\\\\x2F\\\\x2Fwww.amazon.in\\\\x2Fap\\\\x2Fsignin\\\\x3Fopenid.pape.max_auth_age\\\\x3D0\\\\x26openid.return_to\\\\x3Dhttps\\\\x253A\\\\x252F\\\\x252Fwww.amazon.in\\\\x252FKaira\\\\x2DMicromax\\\\x2DCanvas\\\\x2DPower\\\\x2DQ4260\\\\x252Fproduct\\\\x2Dreviews\\\\x252FB07C7DW8K7\\\\x252F\\\\x253F_encoding\\\\x253DUTF8\\\\x2526ref_\\\\x253DnavSignInUrlRefTagPlaceHolder\\\\x26openid.identity\\\\x3Dhttp\\\\x253A\\\\x252F\\\\x252Fspecs.openid.net\\\\x252Fauth\\\\x252F2.0\\\\x252Fidentifier_select\\\\x26openid.assoc_handle\\\\x3Dinflex\\\\x26openid.mode\\\\x3Dcheckid_setup\\\\x26openid.claimed_id\\\\x3Dhttp\\\\x253A\\\\x252F\\\\x252Fspecs.openid.net\\\\x252Fauth\\\\x252F2.0\\\\x252Fidentifier_select\\\\x26openid.ns\\\\x3Dhttp\\\\x253A\\\\x252F\\\\x252Fspecs.openid.net\\\\x252Fauth\\\\x252F2.0\\\\x26\\');\\n\\nwindow.$Nav && $Nav.declare(\\'config.isSmile\\',false);\\n\\nwindow.$Nav && $Nav.declare(\\'config.regionalStores\\',[\"ctnow\"]);\\n\\nwindow.$Nav && $Nav.declare(\\'config.isALFRedesignPT2\\',false);\\n\\nwindow.$Nav && $Nav.declare(\\'config.isNavALFRegistryGiftList\\',false);\\n\\nwindow.$Nav && $Nav.declare(\\'config.marketplaceId\\',\\'A21TJRUUN4KGV\\');\\n\\nwindow.$Nav && $Nav.declare(\\'config.exportTransitionState\\',\\'none\\');\\n\\nwindow.$Nav && $Nav.declare(\\'config.enableAeeXopFlyout\\',true);\\n\\nif (window.P && typeof window.P.declare === \"function\" && typeof window.P.now === \"function\") {\\n  window.P.now(\\'packardGlowIngressJsEnabled\\').execute(function(glowEnabled) {\\n    if (!glowEnabled) {\\n      window.P.declare(\\'packardGlowIngressJsEnabled\\', true);\\n    }\\n  });\\n  window.P.now(\\'packardGlowStoreName\\').execute(function(storeName) {\\n    if (!storeName) {\\n      window.P.declare(\\'packardGlowStoreName\\',\\'generic\\');\\n    }\\n  });\\n}\\n\\nwindow.$Nav && $Nav.declare(\\'configComplete\\');\\n\\n    -->\\n</script>\\n\\n\\n<a id=\"skippedLink\" tabindex=\"-1\"></a>\\n\\n<script type=\\'text/javascript\\'>window.navmet.MainEnd = new Date();</script>\\n<script type=\"text/javascript\">\\n    if (window.ue_t0) {\\n      window.navmet.push({key:\"NavMainEnd\",end:+new Date(),begin:window.ue_t0});\\n    }\\n</script>\\n<!-- sp:feature:host-atf -->\\n\\n\\n<div role=\"main\">\\n  <h1 class=\"a-spacing-top-small page-content page-min-width\"><div id=\"cm_cr-brdcmb\" class=\"a-section a-subheader a-breadcrumb celwidget\"><ul class=\"a-unordered-list a-nostyle a-horizontal a-size-base\"><li>\\n      <span class=\"a-list-item\">\\n        <a class=\"a-link-normal\" href=\"/Blue-Tokai-Coffee-Roasters-Attikan/dp/B07968P6RD\">Blue Tokai Coffee Roasters Attikan Estate -Medium Dark Roast - Cold...</a></span>\\n    </li>\\n    <li class=\"a-breadcrumb-divider\">&rsaquo;</li>\\n    <li>\\n      <span class=\"a-list-item\">\\n        <span class=\"a-color-state\">Customer reviews</span></span>\\n    </li>\\n  </ul></div></h1><div class=\"a-fixed-right-grid page-content page-min-width a-spacing-top-medium\"><div class=\"a-fixed-right-grid-inner\" style=\"padding-right:305px\"><div class=\"a-fixed-right-grid-col a-col-left\" style=\"padding-right:1%;float:left;\"><div id=\"cm_cr-product_info\" class=\"a-fixed-left-grid product-details celwidget\"><div class=\"a-fixed-left-grid-inner\" style=\"padding-left:250px\"><div class=\"a-text-left a-fixed-left-grid-col reviewNumericalSummary celwidget a-col-left\" style=\"width:250px;margin-left:-250px;float:left;\"><div class=\"a-row a-spacing-mini customerReviewsTitle\"><h2 class=\"inline-title\">Customer reviews</h2></div><div class=\"a-row a-spacing-small averageStarRatingIconAndCount\"><div class=\"a-fixed-left-grid AverageCustomerReviews\"><div class=\"a-fixed-left-grid-inner\" style=\"padding-left:105px\"><div class=\"a-fixed-left-grid-col a-col-left\" style=\"width:105px;margin-left:-105px;float:left;\"><i data-hook=\"average-star-rating\" class=\"a-icon a-icon-star-medium a-star-medium-4-5 averageStarRating\"><span class=\"a-icon-alt\">4.4 out of 5 stars</span></i></div><div class=\"a-fixed-left-grid-col aok-align-center a-col-right\" style=\"padding-left:0%;float:left;\"><div class=\"a-row\"><span data-hook=\"rating-out-of-text\" class=\"a-size-medium a-color-base\">4.4 out of 5</span></div></div></div></div></div><div data-hook=\"total-review-count\" class=\"a-row a-spacing-medium averageStarRatingNumerical\"><span class=\"a-size-base a-color-secondary\">1,162 global ratings</span></div><div class=\"a-row\"><div class=\"a-section histogram\"><span class=\"a-declarative\" data-action=\"reviews:filter-action:push-state\" data-reviews:filter-action:push-state=\"{&quot;scrollToSelector&quot;:&quot;#reviews-filter-info&quot;,&quot;allowLinkDefault&quot;:&quot;1&quot;}\"><table id=\"histogramTable\" class=\"a-normal a-spacing-none\" role=\"presentation\">\\n\\n\\n\\n\\n\\n\\n\\n\\n<table id=\"histogramTable\" class=\"a-normal a-align-center a-spacing-base\">\\n  \\n\\n\\n\\n\\n\\n\\n\\n\\n\\n\\n\\n\\n\\n\\n  \\n    \\n  \\n  \\n\\n\\n\\n\\n\\n\\n\\n\\n\\n\\n\\n  \\n  \\n\\n    \\n    <tr data-reftag=\"\" data-reviews-state-param=\"{&quot;filterByStar&quot;:&quot;five_star&quot;, &quot;pageNumber&quot;:&quot;1&quot;}\" aria-label=\"60% of reviews have 5 stars\" class=\"a-histogram-row a-align-center\">\\n\\n      <td class=\"aok-nowrap\">\\n        <span class=\"a-size-base\">\\n          <a aria-disabled=\"true\" class=\"a-link-normal 5star\" title=\"60% of reviews have 5 stars\" href=\"/product-reviews/B07968P6RD/ref=acr_dp_hist_5?ie=UTF8&amp;filterByStar=five_star&amp;reviewerType=all_reviews#reviews-filter-bar\">\\n            5 star\\n          </a>\\n        </span>\\n\\n        <span class=\"a-letter-space\"></span>\\n      </td>\\n\\n      <td class=\"a-span10\">\\n        <a aria-disabled=\"true\" class=\"a-link-normal\" title=\"60% of reviews have 5 stars\" href=\"/product-reviews/B07968P6RD/ref=acr_dp_hist_5?ie=UTF8&amp;filterByStar=five_star&amp;reviewerType=all_reviews#reviews-filter-bar\">\\n          <div class=\"a-meter\" role=\"progressbar\" aria-valuenow=\"60%\"><div class=\"a-meter-bar\" style=\"width: 60%;\"></div></div>\\n        </a>\\n      </td>\\n\\n      <td class=\"a-text-right a-nowrap\">\\n        <span class=\"a-letter-space\"></span>\\n        <span class=\"a-size-base\">\\n          <a aria-disabled=\"true\" class=\"a-link-normal\" title=\"60% of reviews have 5 stars\" href=\"/product-reviews/B07968P6RD/ref=acr_dp_hist_5?ie=UTF8&amp;filterByStar=five_star&amp;reviewerType=all_reviews#reviews-filter-bar\">\\n            \\n              60%\\n            \\n          </a>\\n        </span>\\n      </td>\\n    </tr>\\n\\n  \\n\\n\\n  \\n\\n\\n\\n\\n\\n\\n\\n\\n\\n\\n\\n\\n\\n\\n  \\n    \\n  \\n  \\n\\n\\n\\n\\n\\n\\n\\n\\n\\n\\n\\n  \\n  \\n\\n    \\n    <tr data-reftag=\"\" data-reviews-state-param=\"{&quot;filterByStar&quot;:&quot;four_star&quot;, &quot;pageNumber&quot;:&quot;1&quot;}\" aria-label=\"26% of reviews have 4 stars\" class=\"a-histogram-row a-align-center\">\\n\\n      <td class=\"aok-nowrap\">\\n        <span class=\"a-size-base\">\\n          <a aria-disabled=\"true\" class=\"a-link-normal 4star\" title=\"26% of reviews have 4 stars\" href=\"/product-reviews/B07968P6RD/ref=acr_dp_hist_4?ie=UTF8&amp;filterByStar=four_star&amp;reviewerType=all_reviews#reviews-filter-bar\">\\n            4 star\\n          </a>\\n        </span>\\n\\n        <span class=\"a-letter-space\"></span>\\n      </td>\\n\\n      <td class=\"a-span10\">\\n        <a aria-disabled=\"true\" class=\"a-link-normal\" title=\"26% of reviews have 4 stars\" href=\"/product-reviews/B07968P6RD/ref=acr_dp_hist_4?ie=UTF8&amp;filterByStar=four_star&amp;reviewerType=all_reviews#reviews-filter-bar\">\\n          <div class=\"a-meter\" role=\"progressbar\" aria-valuenow=\"26%\"><div class=\"a-meter-bar\" style=\"width: 26%;\"></div></div>\\n        </a>\\n      </td>\\n\\n      <td class=\"a-text-right a-nowrap\">\\n        <span class=\"a-letter-space\"></span>\\n        <span class=\"a-size-base\">\\n          <a aria-disabled=\"true\" class=\"a-link-normal\" title=\"26% of reviews have 4 stars\" href=\"/product-reviews/B07968P6RD/ref=acr_dp_hist_4?ie=UTF8&amp;filterByStar=four_star&amp;reviewerType=all_reviews#reviews-filter-bar\">\\n            \\n              26%\\n            \\n          </a>\\n        </span>\\n      </td>\\n    </tr>\\n\\n  \\n\\n\\n  \\n\\n\\n\\n\\n\\n\\n\\n\\n\\n\\n\\n\\n\\n\\n  \\n    \\n  \\n  \\n\\n\\n\\n\\n\\n\\n\\n\\n\\n\\n\\n  \\n  \\n\\n    \\n    <tr data-reftag=\"\" data-reviews-state-param=\"{&quot;filterByStar&quot;:&quot;three_star&quot;, &quot;pageNumber&quot;:&quot;1&quot;}\" aria-label=\"8% of reviews have 3 stars\" class=\"a-histogram-row a-align-center\">\\n\\n      <td class=\"aok-nowrap\">\\n        <span class=\"a-size-base\">\\n          <a aria-disabled=\"true\" class=\"a-link-normal 3star\" title=\"8% of reviews have 3 stars\" href=\"/product-reviews/B07968P6RD/ref=acr_dp_hist_3?ie=UTF8&amp;filterByStar=three_star&amp;reviewerType=all_reviews#reviews-filter-bar\">\\n            3 star\\n          </a>\\n        </span>\\n\\n        <span class=\"a-letter-space\"></span>\\n      </td>\\n\\n      <td class=\"a-span10\">\\n        <a aria-disabled=\"true\" class=\"a-link-normal\" title=\"8% of reviews have 3 stars\" href=\"/product-reviews/B07968P6RD/ref=acr_dp_hist_3?ie=UTF8&amp;filterByStar=three_star&amp;reviewerType=all_reviews#reviews-filter-bar\">\\n          <div class=\"a-meter\" role=\"progressbar\" aria-valuenow=\"8%\"><div class=\"a-meter-bar\" style=\"width: 8%;\"></div></div>\\n        </a>\\n      </td>\\n\\n      <td class=\"a-text-right a-nowrap\">\\n        <span class=\"a-letter-space\"></span>\\n        <span class=\"a-size-base\">\\n          <a aria-disabled=\"true\" class=\"a-link-normal\" title=\"8% of reviews have 3 stars\" href=\"/product-reviews/B07968P6RD/ref=acr_dp_hist_3?ie=UTF8&amp;filterByStar=three_star&amp;reviewerType=all_reviews#reviews-filter-bar\">\\n            \\n              8%\\n            \\n          </a>\\n        </span>\\n      </td>\\n    </tr>\\n\\n  \\n\\n\\n  \\n\\n\\n\\n\\n\\n\\n\\n\\n\\n\\n\\n\\n\\n\\n  \\n    \\n  \\n  \\n\\n\\n\\n\\n\\n\\n\\n\\n\\n\\n\\n  \\n  \\n\\n    \\n    <tr data-reftag=\"\" data-reviews-state-param=\"{&quot;filterByStar&quot;:&quot;two_star&quot;, &quot;pageNumber&quot;:&quot;1&quot;}\" aria-label=\"2% of reviews have 2 stars\" class=\"a-histogram-row a-align-center\">\\n\\n      <td class=\"aok-nowrap\">\\n        <span class=\"a-size-base\">\\n          <a aria-disabled=\"true\" class=\"a-link-normal 2star\" title=\"2% of reviews have 2 stars\" href=\"/product-reviews/B07968P6RD/ref=acr_dp_hist_2?ie=UTF8&amp;filterByStar=two_star&amp;reviewerType=all_reviews#reviews-filter-bar\">\\n            2 star\\n          </a>\\n        </span>\\n\\n        <span class=\"a-letter-space\"></span>\\n      </td>\\n\\n      <td class=\"a-span10\">\\n        <a aria-disabled=\"true\" class=\"a-link-normal\" title=\"2% of reviews have 2 stars\" href=\"/product-reviews/B07968P6RD/ref=acr_dp_hist_2?ie=UTF8&amp;filterByStar=two_star&amp;reviewerType=all_reviews#reviews-filter-bar\">\\n          <div class=\"a-meter\" role=\"progressbar\" aria-valuenow=\"2%\"><div class=\"a-meter-bar\" style=\"width: 2%;\"></div></div>\\n        </a>\\n      </td>\\n\\n      <td class=\"a-text-right a-nowrap\">\\n        <span class=\"a-letter-space\"></span>\\n        <span class=\"a-size-base\">\\n          <a aria-disabled=\"true\" class=\"a-link-normal\" title=\"2% of reviews have 2 stars\" href=\"/product-reviews/B07968P6RD/ref=acr_dp_hist_2?ie=UTF8&amp;filterByStar=two_star&amp;reviewerType=all_reviews#reviews-filter-bar\">\\n            \\n              2%\\n            \\n          </a>\\n        </span>\\n      </td>\\n    </tr>\\n\\n  \\n\\n\\n  \\n\\n\\n\\n\\n\\n\\n\\n\\n\\n\\n\\n\\n\\n\\n  \\n    \\n  \\n  \\n\\n\\n\\n\\n\\n\\n\\n\\n\\n\\n\\n  \\n  \\n\\n    \\n    <tr data-reftag=\"\" data-reviews-state-param=\"{&quot;filterByStar&quot;:&quot;one_star&quot;, &quot;pageNumber&quot;:&quot;1&quot;}\" aria-label=\"4% of reviews have 1 stars\" class=\"a-histogram-row a-align-center\">\\n\\n      <td class=\"aok-nowrap\">\\n        <span class=\"a-size-base\">\\n          <a aria-disabled=\"true\" class=\"a-link-normal 1star\" title=\"4% of reviews have 1 stars\" href=\"/product-reviews/B07968P6RD/ref=acr_dp_hist_1?ie=UTF8&amp;filterByStar=one_star&amp;reviewerType=all_reviews#reviews-filter-bar\">\\n            1 star\\n          </a>\\n        </span>\\n\\n        <span class=\"a-letter-space\"></span>\\n      </td>\\n\\n      <td class=\"a-span10\">\\n        <a aria-disabled=\"true\" class=\"a-link-normal\" title=\"4% of reviews have 1 stars\" href=\"/product-reviews/B07968P6RD/ref=acr_dp_hist_1?ie=UTF8&amp;filterByStar=one_star&amp;reviewerType=all_reviews#reviews-filter-bar\">\\n          <div class=\"a-meter\" role=\"progressbar\" aria-valuenow=\"4%\"><div class=\"a-meter-bar\" style=\"width: 4%;\"></div></div>\\n        </a>\\n      </td>\\n\\n      <td class=\"a-text-right a-nowrap\">\\n        <span class=\"a-letter-space\"></span>\\n        <span class=\"a-size-base\">\\n          <a aria-disabled=\"true\" class=\"a-link-normal\" title=\"4% of reviews have 1 stars\" href=\"/product-reviews/B07968P6RD/ref=acr_dp_hist_1?ie=UTF8&amp;filterByStar=one_star&amp;reviewerType=all_reviews#reviews-filter-bar\">\\n            \\n              4%\\n            \\n          </a>\\n        </span>\\n      </td>\\n    </tr>\\n\\n  \\n\\n\\n</table>\\n</table></span></div></div></div><div class=\"a-fixed-left-grid-col a-col-right\" style=\"padding-left:2%;float:left;\"><div class=\"a-fixed-left-grid\"><div class=\"a-fixed-left-grid-inner\" style=\"padding-left:55px\"><div class=\"a-text-center a-spacing-top-micro a-fixed-left-grid-col product-image a-col-left\" style=\"width:65px;margin-left:-65px;float:left;\"><a class=\"a-link-normal\" href=\"/Blue-Tokai-Coffee-Roasters-Attikan/dp/B07968P6RD\"><img alt=\"Blue Tokai Coffee Roasters Attikan Estate -Medium Dark Roast - Cold Brew (250 Gm)\" src=\"https://m.media-amazon.com/images/I/41qRxo3ScfL._AC_US60_SCLZZZZZZZ__.jpg\" data-hook=\"cr-product-image\" height=\"60\" width=\"60\" data-a-hires=\"https://m.media-amazon.com/images/I/41qRxo3ScfL._AC_US120_SCLZZZZZZZ__.jpg\"/></a></div><div class=\"a-fixed-left-grid-col product-info a-col-right\" style=\"padding-left:2%;float:left;\"><div class=\"a-row product-title\"><h1 class=\"a-size-large a-text-ellipsis\"><a data-hook=\"product-link\" class=\"a-link-normal\" href=\"/Blue-Tokai-Coffee-Roasters-Attikan/dp/B07968P6RD\">Blue Tokai Coffee Roasters Attikan Estate -Medium Dark Roast - Cold Brew (250 Gm)</a></h1></div><div class=\"a-row product-by-line\"><div data-hook=\"cr-product-byline\" class=\"a-section\">\\n\\n\\n\\n\\n\\n\\n\\n\\n  \\n\\n  \\n  \\n    \\n  \\n\\n  \\n\\n  <span id=\"cr-arp-byline\" class=\"a-size-base\">\\n    by<span class=\"a-letter-space\"></span><a class=\"a-size-base a-link-normal\" href=\"/stores/BlueTokaiCoffeeRoasters/page/8D429B2B-D9F3-47F3-8108-094FCDAC47AF?ref_=ast_bln\">Blue Tokai Coffee Roasters</a>\\n  </span>\\n\\n</div></div><div class=\"a-row a-spacing-top-medium product-variation-strip\"><span class=\"a-size-base a-color-secondary\">Flavor name: Cold Brew<i class=\"a-icon a-icon-text-separator\" role=\"img\" aria-label=\"|\"></i>Size: 250 g (Pack of 1)</span><i class=\"a-icon a-icon-text-separator\" role=\"img\" aria-label=\"|\"></i><a class=\"a-size-base a-link-normal\" href=\"/Blue-Tokai-Coffee-Roasters-Attikan/dp/B07968P6RD\">Change</a></div></div></div></div></div></div></div><div class=\"a-fixed-left-grid ratings-solicitation\"><div class=\"a-fixed-left-grid-inner\" style=\"padding-left:250px\"><div class=\"a-fixed-left-grid-col a-col-right\" style=\"padding-left:2%;float:left;\"><div class=\"a-fixed-left-grid reviewSolicitation\"><div class=\"a-fixed-left-grid-inner\" style=\"padding-left:108px\"><div class=\"a-fixed-left-grid-col a-col-left\" style=\"width:108px;margin-left:-108px;float:left;\"><span class=\"a-button a-button-base writeReviewButton\"><span class=\"a-button-inner\"><a href=\"/review/create-review?channel=reviews-product&amp;asin=B07968P6RD\" class=\"a-button-text\" role=\"button\">Write a review</a></span></span></div></div></div></div></div></div><div class=\"a-fixed-left-grid\"><div class=\"a-fixed-left-grid-inner\" style=\"padding-left:800px\"><div class=\"a-fixed-left-grid-col a-col-left\" style=\"width:800px;margin-left:-800px;float:left;\"><div aria-live=\"polite\" class=\"a-row a-expander-container a-spacing-top-small a-expander-inline-container\"><a href=\"javascript:void(0)\" data-action=\"a-expander-toggle\" class=\"a-expander-header a-declarative a-expander-inline-header a-link-expander\" data-a-expander-toggle=\"{&quot;allowLinkDefault&quot;:true, &quot;expand_prompt&quot;:&quot;&quot;, &quot;collapse_prompt&quot;:&quot;&quot;}\"><i class=\"a-icon a-icon-expand\"></i><span class=\"a-expander-prompt\">How are ratings calculated?</span></a><div aria-expanded=\"false\" class=\"a-expander-content a-expander-inline-content a-expander-inner\" style=\"display:none\">To calculate the overall star rating and percentage breakdown by star, we don’t use a simple average. Instead, our system considers things like how recent a review is and if the reviewer bought the item on Amazon. It also analyses reviews to verify trustworthiness.</div></div></div><div class=\"a-fixed-left-grid-col a-col-right\" style=\"padding-left:3.5%;float:left;\"></div></div></div></div><div class=\"a-text-right a-spacing-top-micro a-fixed-right-grid-col a-col-right\" style=\"width:305px;margin-right:-305px;float:left;\"><div id=\"cm_cr-buy_box\" class=\"a-box reviews-buy-box celwidget\"><div class=\"a-box-inner\"><div class=\"a-row\"><span class=\"a-button a-button-span12 a-button-primary add-to-cart\"><span class=\"a-button-inner\"><a href=\"/Blue-Tokai-Coffee-Roasters-Attikan/dp/B07968P6RD\" class=\"a-button-text\" role=\"button\">See All Buying Options</a></span></span></div><hr aria-hidden=\"true\" class=\"a-spacing-top-small a-divider-text\"/><div class=\"a-row a-spacing-top-small\"><span class=\"a-button a-button-span12 a-button-base add-to-wishlist\"><span class=\"a-button-inner\"><a href=\"/gp/item-dispatch?asin.1=B07968P6RD&amp;submit.add-to-registry=addToRegistry&amp;CSRF=gyJB2TV8%2F%2Bt9dFGj2i5Nj8MfMhrCBF5nzWvP4YpAVDwqAAAADAAAAABhF5r2cmF3AAAAABVX8CwXqz4nuL9RKX%2F%2F%2Fw%3D%3D&amp;type=wishlist&amp;sid=000-0000000-0000000\" class=\"a-button-text\" role=\"button\">Add to Wish List</a></span></span></div></div></div></div></div></div><div class=\"a-section a-spacing-medium a-spacing-top-medium page-content\"><hr id=\"reviews-summary\" aria-hidden=\"true\" class=\"a-divider-normal\"/></div><noscript>\\n    <div class=\"a-section a-spacing-large a-spacing-top-mini a-text-center\"><div class=\"a-box a-alert a-alert-warning reviews-no-js-warning\"><div class=\"a-box-inner a-alert-container\"><i class=\"a-icon a-icon-alert\"></i><div class=\"a-alert-content\">This page works best with JavaScript. Disabling it will result in some disabled or missing features. You can still see all customer reviews for the product.</div></div></div></div></noscript>\\n</div>\\n\\n<div>\\n  <div class=\"a-section a-spacing-small page-content page-min-width\"><script type=\"text/javascript\">\\n     if (ue) {\\n         uet(\\'af\\');\\n     }\\n</script><script>\\n    window.P && P.register(\\'af\\');\\n    window.P && P.register(\\'sp.load.js\\');\\n</script>\\n<div class=\"a-fixed-right-grid view-point\"><div class=\"a-fixed-right-grid-inner\" style=\"padding-right:305px\"><div class=\"a-fixed-right-grid-col a-col-left\" style=\"padding-right:1%;float:left;\"><div id=\"cm_cr-rvw_summary\" class=\"a-section a-spacing-none celwidget\"><script type=\"a-state\" data-a-state=\"{&quot;key&quot;:&quot;review-summary-state&quot;}\">{\"csrfToken\":\"0.7858795683572354;1628936950536;gmnGaX4M1StflBTJjIOxAjVOelT+UE+2BkmEUW0AAAABAAAAAGEXmvZyYXcAAAAA+4kUEk/7iMGR3xPcX6iU\",\"signinUrl\":\"https://www.amazon.in/ap/signin?openid.return_to=https%3A%2F%2Fwww.amazon.in%2FBlue-Tokai-Coffee-Roasters-Attikan%2Fproduct-reviews%2FB07968P6RD%3FreviewerType%3Dall_reviews&openid.identity=http%3A%2F%2Fspecs.openid.net%2Fauth%2F2.0%2Fidentifier_select&openid.claimed_id=http%3A%2F%2Fspecs.openid.net%2Fauth%2F2.0%2Fidentifier_select&openid.assoc_handle=inflex&openid.mode=checkid_setup&openid.ns=http%3A%2F%2Fspecs.openid.net%2Fauth%2F2.0\",\"asin\":\"B07968P6RD\"}</script><div id=\"cm_cr-rvw_summary-viewpoints\" class=\"a-section a-spacing-large celwidget\"><div class=\"a-row view-point\"><div class=\"a-column a-span6 view-point-review positive-review\"><div id=\"viewpoint-R1ZUE8L245OYUH\" aria-live=\"polite\" data-a-expander-collapsed-height=\"300\" class=\"a-expander-collapsed-height a-row a-expander-container a-expander-partial-collapse-container\" style=\"max-height:300px\"><div aria-expanded=\"false\" class=\"a-expander-content a-expander-partial-collapse-content\"><div class=\"a-row a-ws-row\"><h4 class=\"a-size-medium view-point-title\">Top positive review</h4></div><div class=\"a-row a-spacing-mini\"><span class=\"a-declarative\" data-action=\"reviews:filter-action:push-state\" data-reviews:filter-action:push-state=\"{&quot;allowLinkDefault&quot;:&quot;1&quot;}\"><a data-reftag=\"cm_cr_arp_d_viewpnt_lft\" data-reviews-state-param=\"{&quot;filterByStar&quot;:&quot;positive&quot;,&quot;pageNumber&quot;:&quot;1&quot;}\" class=\"a-size-base a-link-normal see-all\" href=\"/Blue-Tokai-Coffee-Roasters-Attikan/product-reviews/B07968P6RD?filterByStar=positive&amp;reviewerType=all_reviews\">All positive reviews</a><span class=\"a-letter-space\"></span><span class=\"a-size-base back-carat a-text-bold\">&rsaquo;&#32;</span></span></div><div data-hook=\"genome-widget\" class=\"a-row a-spacing-mini\"><a href=\"/gp/profile/amzn1.account.AEZJAX5OQGWN2B7NAGP7SKDGHMMA\" class=\"a-profile\" data-a-size=\"small\"><div aria-hidden=\"true\" class=\"a-profile-avatar-wrapper\"><div class=\"a-profile-avatar\"><img src=\"https://images-na.ssl-images-amazon.com/images/G/01/x-locale/common/grey-pixel.gif\" class=\"a-lazy-loaded\" data-src=\"https://images-eu.ssl-images-amazon.com/images/S/amazon-avatars-global/default._CR0,0,1024,1024_SX48_.png\"/><noscript><img src=\"https://images-eu.ssl-images-amazon.com/images/S/amazon-avatars-global/default._CR0,0,1024,1024_SX48_.png\"/></noscript></div></div><div class=\"a-profile-content\"><span class=\"a-profile-name\">madhumita chowdhury</span></div></a></div><div class=\"a-row\"><i data-hook=\"review-star-rating-view-point\" class=\"a-icon a-icon-star a-star-5 review-rating\"><span class=\"a-icon-alt\">5.0 out of 5 stars</span></i><span class=\"a-letter-space\"></span><span data-hook=\"review-title\" class=\"a-size-base review-title a-text-bold\">Absolutely love this flavour.</span></div><div class=\"a-row\"><span class=\"a-size-base a-color-secondary review-date\">Reviewed in India on 30 March 2019</span></div><div class=\"a-row a-spacing-top-mini\"><span class=\"a-size-base\">I have also bought the Byenemara estate and I can give a comparison between the two: attikan estate is fruity and biscuity and has a rich aroma and mildly bitter. The byenemara estate is more earthy and bitter, also has a rich aroma but you will instantly get the bitter aroma. It also has a slightly sweet aftertaste. Both reviews are of black and unsweetened coffee.</span></div></div><div\\n      class=\"a-expander-header a-expander-partial-collapse-header readMore\">\\n      <div class=\"a-expander-content-fade\"></div>\\n      <a aria-label=\"Toggle full review text\" class=\"a-size-base a-link-normal\" href=\"/gp/customer-reviews/R1ZUE8L245OYUH?ASIN=B07968P6RD#R1ZUE8L245OYUH\">Read more</a></div>\\n  </div><div class=\"a-row a-spacing-top-small\"><span class=\"a-size-small a-color-tertiary\"><span class=\"review-votes\">\\n          22 people found this helpful</span>\\n      </span></div></div><div class=\"a-column a-span6 view-point-review critical-review a-span-last\"><div id=\"viewpoint-RM9SXZZZMIUAK\" aria-live=\"polite\" data-a-expander-collapsed-height=\"300\" class=\"a-expander-collapsed-height a-row a-expander-container a-expander-partial-collapse-container\" style=\"max-height:300px\"><div aria-expanded=\"false\" class=\"a-expander-content a-expander-partial-collapse-content\"><div class=\"a-row a-ws-row\"><h4 class=\"a-size-medium view-point-title\">Top critical review</h4></div><div class=\"a-row a-spacing-mini\"><span class=\"a-declarative\" data-action=\"reviews:filter-action:push-state\" data-reviews:filter-action:push-state=\"{&quot;allowLinkDefault&quot;:&quot;1&quot;}\"><a data-reftag=\"cm_cr_arp_d_viewpnt_rgt\" data-reviews-state-param=\"{&quot;filterByStar&quot;:&quot;critical&quot;,&quot;pageNumber&quot;:&quot;1&quot;}\" class=\"a-size-base a-link-normal see-all\" href=\"/Blue-Tokai-Coffee-Roasters-Attikan/product-reviews/B07968P6RD?filterByStar=critical&amp;reviewerType=all_reviews\">All critical reviews</a><span class=\"a-letter-space\"></span><span class=\"a-size-base back-carat a-text-bold\">&rsaquo;&#32;</span></span></div><div data-hook=\"genome-widget\" class=\"a-row a-spacing-mini\"><a href=\"/gp/profile/amzn1.account.AHXKAMG33GFIL7TPHV3JZQ5WR6TA\" class=\"a-profile\" data-a-size=\"small\"><div aria-hidden=\"true\" class=\"a-profile-avatar-wrapper\"><div class=\"a-profile-avatar\"><img src=\"https://images-na.ssl-images-amazon.com/images/G/01/x-locale/common/grey-pixel.gif\" class=\"a-lazy-loaded\" data-src=\"https://images-eu.ssl-images-amazon.com/images/S/amazon-avatars-global/default._CR0,0,1024,1024_SX48_.png\"/><noscript><img src=\"https://images-eu.ssl-images-amazon.com/images/S/amazon-avatars-global/default._CR0,0,1024,1024_SX48_.png\"/></noscript></div></div><div class=\"a-profile-content\"><span class=\"a-profile-name\">Random person</span></div></a></div><div class=\"a-row\"><i data-hook=\"review-star-rating-view-point\" class=\"a-icon a-icon-star a-star-1 review-rating\"><span class=\"a-icon-alt\">1.0 out of 5 stars</span></i><span class=\"a-letter-space\"></span><span data-hook=\"review-title\" class=\"a-size-base review-title a-text-bold\">Not Arabica. Not medium dark roast.</span></div><div class=\"a-row\"><span class=\"a-size-base a-color-secondary review-date\">Reviewed in India on 5 March 2020</span></div><div class=\"a-row a-spacing-top-mini\"><span class=\"a-size-base\">Not high quality Arabica to begin with. Very small size seeds which may seem like Robusta and maybe is Robusta. Most importantly, whatever it maybe low quality Arabica or Robusta, the roasting is very pathetic. It\\'s not a medium dark roast but a light roast, hence if you try brewing an espresso from it, you\\'ll get a sour product. Even other techniques cannot be used to overcome the flaw in this coffee\\'s roasting blunder. You don\\'t roast coffee like peanuts and expect it to taste good. If you have ever tasted good coffee then you will not appreciate what they have done with the roasting. Blue Tokai does not hold any expertise in coffee roasting, it\\'s just they know how to package and send it to you at such a high price. They would have done a better job if they had sent green beans to me for roasting afresh. If a consumer can shift from buying ground coffee to whole beans roasted then why can\\'t a consumer demand green beans and roast them at home. I will never buy again from Blue Tokai.</span></div></div><div\\n      class=\"a-expander-header a-expander-partial-collapse-header readMore\">\\n      <div class=\"a-expander-content-fade\"></div>\\n      <a aria-label=\"Toggle full review text\" class=\"a-size-base a-link-normal\" href=\"/gp/customer-reviews/RM9SXZZZMIUAK?ASIN=B07968P6RD#RM9SXZZZMIUAK\">Read more</a></div>\\n  </div><div class=\"a-row a-spacing-top-small\"><span class=\"a-size-small a-color-tertiary\"><span class=\"review-votes\">\\n          45 people found this helpful</span>\\n      </span></div></div></div></div><hr aria-hidden=\"true\" class=\"a-spacing-large a-divider-normal\"/></div><a id=\"reviews-container\" class=\"a-link-normal celwidget\" href=\"#\"></a><a id=\"reviews-filter-bar\"></a>\\n            <div id=\"cm_cr-view_opt_search\" class=\"a-row a-spacing-large celwidget reviews-sort-filter a-size-base\"><div class=\"a-column a-span6 a-spacing-none reviews-search-section\"><div data-reftag=\"cm_cr_arp_d_viewopt_kywd\" class=\"a-fixed-right-grid reviews-search\"><div class=\"a-fixed-right-grid-inner\" style=\"padding-right:78px\"><div class=\"a-fixed-right-grid-col a-col-left\" style=\"padding-right:3.5%;float:left;\"><span class=\"a-declarative\" data-action=\"reviews:search-textbox\" data-reviews:search-textbox=\"{}\"><div class=\"a-search a-span12\"><i class=\"a-icon a-icon-search\"></i><input type=\"search\" maxlength=\"300\" id=\"filterByKeywordTextBox\" placeholder=\"Search customer reviews\" class=\"a-input-text a-span12\"/></div></span></div><div class=\"a-fixed-right-grid-col a-col-right\" style=\"width:78px;margin-right:-78px;float:left;\"><span class=\"a-declarative\" data-action=\"reviews:search-button\" data-reviews:search-button=\"{}\"><span class=\"a-button a-button-search\"><span class=\"a-button-inner\"><input class=\"a-button-input\" type=\"submit\"/><span class=\"a-button-text a-text-center\" aria-hidden=\"true\">Search</span></span></span></span></div></div></div></div></div><div id=\"cm_cr-view_opt_sort_filter\" class=\"a-row a-spacing-small celwidget reviews-sort-filter a-size-base\"><div class=\"a-section a-spacing-mini reviews-sort-order-options aok-float-left\"><div class=\"a-row a-spacing-small\"><span class=\"a-size-small a-color-base reviews-sort-order-label a-text-bold a-text-caps\">Sort by</span></div><div class=\"a-row\"><span class=\"a-dropdown-container\"><select name=\"\" autocomplete=\"off\" id=\"sort-order-dropdown\" tabindex=\"0\" data-action=\"a-dropdown-select\" class=\"a-native-dropdown a-declarative\"><option data-reftag=\"cm_cr_arp_d_viewopt_srt\" data-reviews-state-param=\"{&quot;pageNumber&quot;:&quot;1&quot;,&quot;sortBy&quot;:&quot;helpful&quot;}\" value=\"helpful\" data-a-css-class=\"sort-order-option\">Top reviews</option><option data-reftag=\"cm_cr_arp_d_viewopt_srt\" data-reviews-state-param=\"{&quot;pageNumber&quot;:&quot;1&quot;,&quot;sortBy&quot;:&quot;recent&quot;}\" value=\"recent\" data-a-css-class=\"sort-order-option\">Most recent</option></select><span tabindex=\"-1\" data-a-class=\"cr-sort-dropdown\" class=\"a-button a-button-dropdown cr-sort-dropdown\" aria-hidden=\"true\"><span class=\"a-button-inner\"><span class=\"a-button-text a-declarative\" data-action=\"a-dropdown-button\" aria-hidden=\"true\"><span class=\"a-dropdown-prompt\">Top reviews</span></span><i class=\"a-icon a-icon-dropdown\"></i></span></span></span></div></div><div class=\"a-section a-spacing-mini reviews-filter-by-options aok-float-left\"><div class=\"a-row a-spacing-small\"><span class=\"a-size-small a-color-base reviews-filter-by-label a-text-bold a-text-caps\">Filter by</span></div><div class=\"a-row reviews-filter-by-dropdown\"><div class=\"a-column a-span3 reviewer-type-select\"><span class=\"a-dropdown-container\"><select name=\"\" autocomplete=\"off\" id=\"reviewer-type-dropdown\" tabindex=\"0\" data-action=\"a-dropdown-select\" class=\"a-native-dropdown a-declarative\"><option data-reftag=\"cm_cr_arp_d_viewopt_rvwer\" data-reviews-state-param=\"{&quot;pageNumber&quot;:&quot;1&quot;,&quot;reviewerType&quot;:&quot;all_reviews&quot;}\" value=\"all_reviews\" data-a-css-class=\"reviewer-filter-option\" selected>All reviewers</option><option data-reftag=\"cm_cr_arp_d_viewopt_rvwer\" data-reviews-state-param=\"{&quot;pageNumber&quot;:&quot;1&quot;,&quot;reviewerType&quot;:&quot;avp_only_reviews&quot;}\" value=\"avp_only_reviews\" data-a-css-class=\"reviewer-filter-option\">Verified purchase only</option></select><span tabindex=\"-1\" data-a-class=\"cr-filter-dropdown\" class=\"a-button a-button-dropdown cr-filter-dropdown\" aria-hidden=\"true\"><span class=\"a-button-inner\"><span class=\"a-button-text a-declarative\" data-action=\"a-dropdown-button\" aria-hidden=\"true\"><span class=\"a-dropdown-prompt\">All reviewers</span></span><i class=\"a-icon a-icon-dropdown\"></i></span></span></span></div><div class=\"a-column a-span3 star-rating-select\"><span class=\"a-dropdown-container\"><select name=\"\" autocomplete=\"off\" id=\"star-count-dropdown\" tabindex=\"0\" data-action=\"a-dropdown-select\" class=\"a-native-dropdown a-declarative\"><optgroup><option data-reftag=\"cm_cr_arp_d_viewopt_sr\" data-reviews-state-param=\"{&quot;pageNumber&quot;:&quot;1&quot;,&quot;filterByStar&quot;:&quot;all_stars&quot;}\" value=\"all_stars\" data-a-css-class=\"star-filter-option\">All stars</option><option data-reftag=\"cm_cr_arp_d_viewopt_sr\" data-reviews-state-param=\"{&quot;pageNumber&quot;:&quot;1&quot;,&quot;filterByStar&quot;:&quot;five_star&quot;}\" value=\"five_star\" data-a-css-class=\"star-filter-option\">5 star only</option><option data-reftag=\"cm_cr_arp_d_viewopt_sr\" data-reviews-state-param=\"{&quot;pageNumber&quot;:&quot;1&quot;,&quot;filterByStar&quot;:&quot;four_star&quot;}\" value=\"four_star\" data-a-css-class=\"star-filter-option\">4 star only</option><option data-reftag=\"cm_cr_arp_d_viewopt_sr\" data-reviews-state-param=\"{&quot;pageNumber&quot;:&quot;1&quot;,&quot;filterByStar&quot;:&quot;three_star&quot;}\" value=\"three_star\" data-a-css-class=\"star-filter-option\">3 star only</option><option data-reftag=\"cm_cr_arp_d_viewopt_sr\" data-reviews-state-param=\"{&quot;pageNumber&quot;:&quot;1&quot;,&quot;filterByStar&quot;:&quot;two_star&quot;}\" value=\"two_star\" data-a-css-class=\"star-filter-option\">2 star only</option><option data-reftag=\"cm_cr_arp_d_viewopt_sr\" data-reviews-state-param=\"{&quot;pageNumber&quot;:&quot;1&quot;,&quot;filterByStar&quot;:&quot;one_star&quot;}\" value=\"one_star\" data-a-css-class=\"star-filter-option\">1 star only</option></optgroup><optgroup><option data-reftag=\"cm_cr_arp_d_viewopt_sr\" data-reviews-state-param=\"{&quot;pageNumber&quot;:&quot;1&quot;,&quot;filterByStar&quot;:&quot;positive&quot;}\" value=\"positive\" data-a-css-class=\"star-filter-option\">All positive</option><option data-reftag=\"cm_cr_arp_d_viewopt_sr\" data-reviews-state-param=\"{&quot;pageNumber&quot;:&quot;1&quot;,&quot;filterByStar&quot;:&quot;critical&quot;}\" value=\"critical\" data-a-css-class=\"star-filter-option\">All critical</option></optgroup></select><span tabindex=\"-1\" data-a-class=\"cr-filter-dropdown\" class=\"a-button a-button-dropdown cr-filter-dropdown\" aria-hidden=\"true\"><span class=\"a-button-inner\"><span class=\"a-button-text a-declarative\" data-action=\"a-dropdown-button\" aria-hidden=\"true\"><span class=\"a-dropdown-prompt\">All stars</span></span><i class=\"a-icon a-icon-dropdown\"></i></span></span></span></div><div class=\"a-column a-span3 format-type-select\"><span class=\"a-dropdown-container\"><select name=\"\" autocomplete=\"off\" id=\"format-type-dropdown\" tabindex=\"0\" data-action=\"a-dropdown-select\" class=\"a-native-dropdown a-declarative\"><option data-reftag=\"cm_cr_arp_d_viewopt_fmt\" data-reviews-state-param=\"{&quot;pageNumber&quot;:&quot;1&quot;,&quot;formatType&quot;:&quot;all_formats&quot;}\" value=\"all_formats\" data-a-css-class=\"format-filter-option\">All formats</option><option data-reftag=\"cm_cr_arp_d_viewopt_fmt\" data-reviews-state-param=\"{&quot;pageNumber&quot;:&quot;1&quot;,&quot;formatType&quot;:&quot;current_format&quot;}\" value=\"current_format\" data-a-css-class=\"format-filter-option\" data-a-html-content=\"Show only reviews for Flavor name: Cold Brew |Size: 250 g (Pack of 1)\">Flavor name: Cold Brew |Size: 250 g (Pack of 1)</option></select><span tabindex=\"-1\" data-a-class=\"cr-filter-dropdown\" class=\"a-button a-button-dropdown cr-filter-dropdown\" aria-hidden=\"true\"><span class=\"a-button-inner\"><span class=\"a-button-text a-declarative\" data-action=\"a-dropdown-button\" aria-hidden=\"true\"><span class=\"a-dropdown-prompt\">All formats</span></span><i class=\"a-icon a-icon-dropdown\"></i></span></span></span></div><div class=\"a-column a-span3 cr-media-type-select a-span-last\"><span class=\"a-dropdown-container\"><select name=\"\" autocomplete=\"off\" id=\"media-type-dropdown\" tabindex=\"0\" data-action=\"a-dropdown-select\" class=\"a-native-dropdown a-declarative\"><option data-reftag=\"cm_cr_arp_d_viewopt_actns\" data-reviews-state-param=\"{&quot;pageNumber&quot;:&quot;1&quot;,&quot;mediaType&quot;:&quot;all_contents&quot;}\" value=\"all_contents\" data-a-css-class=\"cr-media-filter-option\">All text, image and video reviews</option><option data-reftag=\"cm_cr_arp_d_viewopt_mdrvw\" data-reviews-state-param=\"{&quot;pageNumber&quot;:&quot;1&quot;,&quot;mediaType&quot;:&quot;media_reviews_only&quot;}\" value=\"media_reviews_only\" data-a-css-class=\"cr-media-filter-option\">Image and video reviews only</option></select><span tabindex=\"-1\" data-a-class=\"cr-filter-dropdown\" class=\"a-button a-button-dropdown cr-filter-dropdown\" aria-hidden=\"true\"><span class=\"a-button-inner\"><span class=\"a-button-text a-declarative\" data-action=\"a-dropdown-button\" aria-hidden=\"true\"><span class=\"a-dropdown-prompt\">All text, image and video reviews</span></span><i class=\"a-icon a-icon-dropdown\"></i></span></span></span></div></div></div></div><div id=\"filter-info-section\" data-hook=\"cr-filter-info-section\" class=\"a-section a-spacing-medium\"><div data-hook=\"cr-filter-info-review-rating-count\" class=\"a-row a-spacing-base a-size-base\">\\n\\n\\n\\n\\n\\n\\n\\n\\n\\n\\n\\n\\n\\n\\n\\n\\n\\n\\n\\n    \\n        \\n            \\n            \\n                <span>\\n                    1,162 global ratings | 249 global reviews\\n                </span>\\n            \\n        \\n    \\n    \\n\\n\\n</div><hr aria-hidden=\"true\" class=\"a-spacing-medium a-divider-normal cr-full-screen-width\"/></div><div class=\"a-section a-spacing-none reviews-content a-size-base\"><div class=\"a-section cr-list-loading reviews-loading aok-hidden\"></div><div class=\"a-section a-spacing-top-large a-text-center review-filter-error aok-hidden\"><div class=\"a-box a-alert a-alert-error cr-error\" aria-live=\"assertive\" role=\"alert\"><div class=\"a-box-inner a-alert-container\"><h4 class=\"a-alert-heading\">There was a problem filtering reviews right now. Please try again later.</h4><i class=\"a-icon a-icon-alert\"></i><div class=\"a-alert-content\"></div></div></div></div><div class=\"a-section a-spacing-none reviews-content a-size-base\"><div id=\"cm_cr-review_list\" class=\"a-section a-spacing-none review-views celwidget\"><h3 data-hook=\"arp-local-reviews-header\" class=\"a-spacing-medium\">\\n\\n\\n\\n\\n\\n\\n\\n\\nFrom India\\n</h3><div id=\"RM9SXZZZMIUAK\" data-hook=\"review\" class=\"a-section review aok-relative\"><div id=\"RM9SXZZZMIUAK-review-card\" class=\"a-row a-spacing-none\"><div id=\"customer_review-RM9SXZZZMIUAK\" class=\"a-section celwidget\"><div data-hook=\"genome-widget\" class=\"a-row a-spacing-mini\"><a href=\"/gp/profile/amzn1.account.AHXKAMG33GFIL7TPHV3JZQ5WR6TA\" class=\"a-profile\" data-a-size=\"small\"><div aria-hidden=\"true\" class=\"a-profile-avatar-wrapper\"><div class=\"a-profile-avatar\"><img src=\"https://images-na.ssl-images-amazon.com/images/G/01/x-locale/common/grey-pixel.gif\" class=\"a-lazy-loaded\" data-src=\"https://images-eu.ssl-images-amazon.com/images/S/amazon-avatars-global/default._CR0,0,1024,1024_SX48_.png\"/><noscript><img src=\"https://images-eu.ssl-images-amazon.com/images/S/amazon-avatars-global/default._CR0,0,1024,1024_SX48_.png\"/></noscript></div></div><div class=\"a-profile-content\"><span class=\"a-profile-name\">Random person</span></div></a></div><div class=\"a-row\"><a class=\"a-link-normal\" title=\"1.0 out of 5 stars\" href=\"/gp/customer-reviews/RM9SXZZZMIUAK?ASIN=B07968P6RD\"><i data-hook=\"review-star-rating\" class=\"a-icon a-icon-star a-star-1 review-rating\"><span class=\"a-icon-alt\">1.0 out of 5 stars</span></i></a><span class=\"a-letter-space\"></span><a data-hook=\"review-title\" class=\"a-size-base a-link-normal review-title a-color-base review-title-content a-text-bold\" href=\"/gp/customer-reviews/RM9SXZZZMIUAK?ASIN=B07968P6RD\">\\n\\n\\n\\n\\n\\n\\n\\n  \\n  \\n    <span>Not Arabica. Not medium dark roast.</span>\\n  \\n</a></div><span data-hook=\"review-date\" class=\"a-size-base a-color-secondary review-date\">Reviewed in India on 5 March 2020</span><div class=\"a-row a-spacing-mini review-data review-format-strip\"><a data-hook=\"format-strip\" class=\"a-size-mini a-link-normal a-color-secondary\" href=\"/Blue-Tokai-Coffee-Roasters-Attikan/product-reviews/B00N5010BK?formatType=current_format\">Flavor name: Whole Bean<i class=\"a-icon a-icon-text-separator\" role=\"img\" aria-label=\"|\"></i>Size: 250 g (Pack of 1)</a><i class=\"a-icon a-icon-text-separator\" role=\"img\" aria-label=\"|\"></i><span class=\"a-declarative\" data-action=\"reviews:filter-action:push-state\" data-reviews:filter-action:push-state=\"{}\"><a data-reftag=\"cm_cr_arp_d_rvw_rvwer\" data-reviews-state-param=\"{&quot;pageNumber&quot;:&quot;1&quot;,&quot;reviewerType&quot;:&quot;avp_only_reviews&quot;}\" class=\"a-link-normal\" href=\"/Blue-Tokai-Coffee-Roasters-Attikan/product-reviews/B07968P6RD?reviewerType=avp_only_reviews\"><span data-hook=\"avp-badge\" class=\"a-size-mini a-color-state a-text-bold\">Verified Purchase</span></a></span></div><div class=\"a-row a-spacing-small review-data\"><span data-hook=\"review-body\" class=\"a-size-base review-text review-text-content\">\\n\\n\\n\\n\\n\\n\\n\\n\\n\\n  \\n  \\n    <span>\\n  Not high quality Arabica to begin with. Very small size seeds which may seem like Robusta and maybe is Robusta. Most importantly, whatever it maybe low quality Arabica or Robusta, the roasting is very pathetic. It\\'s not a medium dark roast but a light roast, hence if you try brewing an espresso from it, you\\'ll get a sour product. Even other techniques cannot be used to overcome the flaw in this coffee\\'s roasting blunder. You don\\'t roast coffee like peanuts and expect it to taste good. If you have ever tasted good coffee then you will not appreciate what they have done with the roasting. Blue Tokai does not hold any expertise in coffee roasting, it\\'s just they know how to package and send it to you at such a high price. They would have done a better job if they had sent green beans to me for roasting afresh. If a consumer can shift from buying ground coffee to whole beans roasted then why can\\'t a consumer demand green beans and roast them at home. I will never buy again from Blue Tokai.\\n</span>\\n  \\n</span></div><div class=\"a-row review-comments comments-for-RM9SXZZZMIUAK\"><div data-reftag=\"cm_cr_arp_d_cmt_opn\" aria-live=\"polite\" data-a-expander-name=\"review_comment_expander\" class=\"a-row a-expander-container a-expander-inline-container cr-vote-action-bar\"><span class=\"cr-vote\" data-hook=\"review-voting-widget\">\\n  <div class=\"a-row a-spacing-small\"><span data-hook=\"helpful-vote-statement\" class=\"a-size-base a-color-tertiary cr-vote-text\">45 people found this helpful</span></div><div class=\"cr-helpful-button aok-float-left\">\\n      <span class=\"a-button a-button-base\"><span class=\"a-button-inner\"><a href=\"https://www.amazon.in/ap/signin?openid.return_to=https%3A%2F%2Fwww.amazon.in%2FBlue-Tokai-Coffee-Roasters-Attikan%2Fproduct-reviews%2FB07968P6RD%3FvoteInstanceId%3DRM9SXZZZMIUAK%26voteValue%3D1%26reviewerType%3Dall_reviews%26csrfT%3Dgh%252BE8ewBuRXqfDO1zDHpHUcUZqQWTJM%252FJODWuEYAAAABAAAAAGEXmvZyYXcAAAAA%252B4kUEk%252F7iMGR3xPcX6iU&amp;openid.identity=http%3A%2F%2Fspecs.openid.net%2Fauth%2F2.0%2Fidentifier_select&amp;openid.claimed_id=http%3A%2F%2Fspecs.openid.net%2Fauth%2F2.0%2Fidentifier_select&amp;openid.assoc_handle=inflex&amp;openid.mode=checkid_setup&amp;openid.ns=http%3A%2F%2Fspecs.openid.net%2Fauth%2F2.0\" data-hook=\"vote-helpful-button\" class=\"a-button-text\" role=\"button\"><div class=\"cr-helpful-text\">\\n          Helpful</div>\\n      </a></span></span></div>\\n  </span><span class=\"cr-footer-line-height\">\\n          <span><i class=\"a-icon a-icon-text-separator\" role=\"img\" aria-label=\"|\"></i><span class=\"a-declarative\" data-action=\"cr-popup\" data-cr-popup=\"{&quot;width&quot;:&quot;580&quot;,&quot;title&quot;:&quot;ReportAbuse&quot;,&quot;url&quot;:&quot;/hz/reviews-render/report-abuse?voteDomain=Reviews&amp;ref=cm_cr_arp_d_rvw_hlp&amp;csrfT=gh%2BE8ewBuRXqfDO1zDHpHUcUZqQWTJM%2FJODWuEYAAAABAAAAAGEXmvZyYXcAAAAA%2B4kUEk%2F7iMGR3xPcX6iU&amp;entityId=RM9SXZZZMIUAK&amp;sessionId=000-0000000-0000000&quot;,&quot;height&quot;:&quot;380&quot;}\"><a class=\"a-size-base a-link-normal a-color-secondary report-abuse-link a-text-normal\" href=\"/hz/reviews-render/report-abuse?voteDomain=Reviews&amp;ref=cm_cr_arp_d_rvw_hlp&amp;csrfT=gh%2BE8ewBuRXqfDO1zDHpHUcUZqQWTJM%2FJODWuEYAAAABAAAAAGEXmvZyYXcAAAAA%2B4kUEk%2F7iMGR3xPcX6iU&amp;entityId=RM9SXZZZMIUAK&amp;sessionId=000-0000000-0000000\">Report abuse</a></span></span></span>\\n\\n        <div aria-expanded=\"false\" class=\"a-expander-content a-spacing-top-base a-spacing-large a-expander-inline-content a-expander-inner\" style=\"display:none\"><div class=\"a-row a-spacing-mini review-comments-header aok-hidden\"><ul class=\"a-viewoptions-list a-viewoptions-section a-span12\">\\n    <div class=\"a-row a-spacing-none a-grid-vertical-align a-grid-center\"><div class=\"a-column a-span6\"><span class=\"a-size-base a-viewoptions-list-label\">Showing <span class=\\'review-comment-count\\'>0</span> comments</span></div></div></ul>\\n</div><div class=\"a-section a-spacing-extra-large a-spacing-top-medium a-text-center comment-load-error aok-hidden\"><div class=\"a-box a-alert a-alert-error cr-error\" aria-live=\"assertive\" role=\"alert\"><div class=\"a-box-inner a-alert-container\"><h4 class=\"a-alert-heading\">There was a problem loading comments right now. Please try again later.</h4><i class=\"a-icon a-icon-alert\"></i><div class=\"a-alert-content\"></div></div></div></div><div class=\"a-section a-spacing-none review-comments\"></div><div class=\"a-spinner-wrapper comment-loading aok-hidden a-spacing-top-medium a-spacing-extra-large\"><span class=\"a-spinner a-spinner-medium\"></span></div><hr aria-hidden=\"true\" class=\"a-spacing-none a-spacing-top-large a-divider-normal\"/></div></div></div></div></div></div><div id=\"R1ZUE8L245OYUH\" data-hook=\"review\" class=\"a-section review aok-relative\"><div id=\"R1ZUE8L245OYUH-review-card\" class=\"a-row a-spacing-none\"><div id=\"customer_review-R1ZUE8L245OYUH\" class=\"a-section celwidget\"><div data-hook=\"genome-widget\" class=\"a-row a-spacing-mini\"><a href=\"/gp/profile/amzn1.account.AEZJAX5OQGWN2B7NAGP7SKDGHMMA\" class=\"a-profile\" data-a-size=\"small\"><div aria-hidden=\"true\" class=\"a-profile-avatar-wrapper\"><div class=\"a-profile-avatar\"><img src=\"https://images-na.ssl-images-amazon.com/images/G/01/x-locale/common/grey-pixel.gif\" class=\"a-lazy-loaded\" data-src=\"https://images-eu.ssl-images-amazon.com/images/S/amazon-avatars-global/default._CR0,0,1024,1024_SX48_.png\"/><noscript><img src=\"https://images-eu.ssl-images-amazon.com/images/S/amazon-avatars-global/default._CR0,0,1024,1024_SX48_.png\"/></noscript></div></div><div class=\"a-profile-content\"><span class=\"a-profile-name\">madhumita chowdhury</span></div></a></div><div class=\"a-row\"><a class=\"a-link-normal\" title=\"5.0 out of 5 stars\" href=\"/gp/customer-reviews/R1ZUE8L245OYUH?ASIN=B07968P6RD\"><i data-hook=\"review-star-rating\" class=\"a-icon a-icon-star a-star-5 review-rating\"><span class=\"a-icon-alt\">5.0 out of 5 stars</span></i></a><span class=\"a-letter-space\"></span><a data-hook=\"review-title\" class=\"a-size-base a-link-normal review-title a-color-base review-title-content a-text-bold\" href=\"/gp/customer-reviews/R1ZUE8L245OYUH?ASIN=B07968P6RD\">\\n\\n\\n\\n\\n\\n\\n\\n  \\n  \\n    <span>Absolutely love this flavour.</span>\\n  \\n</a></div><span data-hook=\"review-date\" class=\"a-size-base a-color-secondary review-date\">Reviewed in India on 30 March 2019</span><div class=\"a-row a-spacing-mini review-data review-format-strip\"><a data-hook=\"format-strip\" class=\"a-size-mini a-link-normal a-color-secondary\" href=\"/Blue-Tokai-Coffee-Roasters-Attikan/product-reviews/B00N500WC8?formatType=current_format\">Flavor name: French Press<i class=\"a-icon a-icon-text-separator\" role=\"img\" aria-label=\"|\"></i>Size: 250 g (Pack of 1)</a><i class=\"a-icon a-icon-text-separator\" role=\"img\" aria-label=\"|\"></i><span class=\"a-declarative\" data-action=\"reviews:filter-action:push-state\" data-reviews:filter-action:push-state=\"{}\"><a data-reftag=\"cm_cr_arp_d_rvw_rvwer\" data-reviews-state-param=\"{&quot;pageNumber&quot;:&quot;1&quot;,&quot;reviewerType&quot;:&quot;avp_only_reviews&quot;}\" class=\"a-link-normal\" href=\"/Blue-Tokai-Coffee-Roasters-Attikan/product-reviews/B07968P6RD?reviewerType=avp_only_reviews\"><span data-hook=\"avp-badge\" class=\"a-size-mini a-color-state a-text-bold\">Verified Purchase</span></a></span></div><div class=\"a-row a-spacing-small review-data\"><span data-hook=\"review-body\" class=\"a-size-base review-text review-text-content\">\\n\\n\\n\\n\\n\\n\\n\\n\\n\\n  \\n  \\n    <span>\\n  I have also bought the Byenemara estate and I can give a comparison between the two: attikan estate is fruity and biscuity and has a rich aroma and mildly bitter. The byenemara estate is more earthy and bitter, also has a rich aroma but you will instantly get the bitter aroma. It also has a slightly sweet aftertaste. Both reviews are of black and unsweetened coffee.\\n</span>\\n  \\n</span></div><div class=\"a-row review-comments comments-for-R1ZUE8L245OYUH\"><div data-reftag=\"cm_cr_arp_d_cmt_opn\" aria-live=\"polite\" data-a-expander-name=\"review_comment_expander\" class=\"a-row a-expander-container a-expander-inline-container cr-vote-action-bar\"><span class=\"cr-vote\" data-hook=\"review-voting-widget\">\\n  <div class=\"a-row a-spacing-small\"><span data-hook=\"helpful-vote-statement\" class=\"a-size-base a-color-tertiary cr-vote-text\">22 people found this helpful</span></div><div class=\"cr-helpful-button aok-float-left\">\\n      <span class=\"a-button a-button-base\"><span class=\"a-button-inner\"><a href=\"https://www.amazon.in/ap/signin?openid.return_to=https%3A%2F%2Fwww.amazon.in%2FBlue-Tokai-Coffee-Roasters-Attikan%2Fproduct-reviews%2FB07968P6RD%3FvoteInstanceId%3DR1ZUE8L245OYUH%26voteValue%3D1%26reviewerType%3Dall_reviews%26csrfT%3Dgr3pFANj00DOSIALcjqsvuZuY76cxGr9SctPqK0AAAABAAAAAGEXmvZyYXcAAAAA%252B4kUEk%252F7iMGR3xPcX6iU&amp;openid.identity=http%3A%2F%2Fspecs.openid.net%2Fauth%2F2.0%2Fidentifier_select&amp;openid.claimed_id=http%3A%2F%2Fspecs.openid.net%2Fauth%2F2.0%2Fidentifier_select&amp;openid.assoc_handle=inflex&amp;openid.mode=checkid_setup&amp;openid.ns=http%3A%2F%2Fspecs.openid.net%2Fauth%2F2.0\" data-hook=\"vote-helpful-button\" class=\"a-button-text\" role=\"button\"><div class=\"cr-helpful-text\">\\n          Helpful</div>\\n      </a></span></span></div>\\n  </span><span class=\"cr-footer-line-height\">\\n          <span><i class=\"a-icon a-icon-text-separator\" role=\"img\" aria-label=\"|\"></i><span class=\"a-declarative\" data-action=\"cr-popup\" data-cr-popup=\"{&quot;width&quot;:&quot;580&quot;,&quot;title&quot;:&quot;ReportAbuse&quot;,&quot;url&quot;:&quot;/hz/reviews-render/report-abuse?voteDomain=Reviews&amp;ref=cm_cr_arp_d_rvw_hlp&amp;csrfT=gr3pFANj00DOSIALcjqsvuZuY76cxGr9SctPqK0AAAABAAAAAGEXmvZyYXcAAAAA%2B4kUEk%2F7iMGR3xPcX6iU&amp;entityId=R1ZUE8L245OYUH&amp;sessionId=000-0000000-0000000&quot;,&quot;height&quot;:&quot;380&quot;}\"><a class=\"a-size-base a-link-normal a-color-secondary report-abuse-link a-text-normal\" href=\"/hz/reviews-render/report-abuse?voteDomain=Reviews&amp;ref=cm_cr_arp_d_rvw_hlp&amp;csrfT=gr3pFANj00DOSIALcjqsvuZuY76cxGr9SctPqK0AAAABAAAAAGEXmvZyYXcAAAAA%2B4kUEk%2F7iMGR3xPcX6iU&amp;entityId=R1ZUE8L245OYUH&amp;sessionId=000-0000000-0000000\">Report abuse</a></span></span></span>\\n\\n        <div aria-expanded=\"false\" class=\"a-expander-content a-spacing-top-base a-spacing-large a-expander-inline-content a-expander-inner\" style=\"display:none\"><div class=\"a-row a-spacing-mini review-comments-header aok-hidden\"><ul class=\"a-viewoptions-list a-viewoptions-section a-span12\">\\n    <div class=\"a-row a-spacing-none a-grid-vertical-align a-grid-center\"><div class=\"a-column a-span6\"><span class=\"a-size-base a-viewoptions-list-label\">Showing <span class=\\'review-comment-count\\'>0</span> comments</span></div></div></ul>\\n</div><div class=\"a-section a-spacing-extra-large a-spacing-top-medium a-text-center comment-load-error aok-hidden\"><div class=\"a-box a-alert a-alert-error cr-error\" aria-live=\"assertive\" role=\"alert\"><div class=\"a-box-inner a-alert-container\"><h4 class=\"a-alert-heading\">There was a problem loading comments right now. Please try again later.</h4><i class=\"a-icon a-icon-alert\"></i><div class=\"a-alert-content\"></div></div></div></div><div class=\"a-section a-spacing-none review-comments\"></div><div class=\"a-spinner-wrapper comment-loading aok-hidden a-spacing-top-medium a-spacing-extra-large\"><span class=\"a-spinner a-spinner-medium\"></span></div><hr aria-hidden=\"true\" class=\"a-spacing-none a-spacing-top-large a-divider-normal\"/></div></div></div></div></div></div><div id=\"R3MD1ROW2XECUD\" data-hook=\"review\" class=\"a-section review aok-relative\"><div id=\"R3MD1ROW2XECUD-review-card\" class=\"a-row a-spacing-none\"><div id=\"customer_review-R3MD1ROW2XECUD\" class=\"a-section celwidget\"><div data-hook=\"genome-widget\" class=\"a-row a-spacing-mini\"><a href=\"/gp/profile/amzn1.account.AGHFRUI2Z5O56SO24IKBAWBJ2XHA\" class=\"a-profile\" data-a-size=\"small\"><div aria-hidden=\"true\" class=\"a-profile-avatar-wrapper\"><div class=\"a-profile-avatar\"><img src=\"https://images-na.ssl-images-amazon.com/images/G/01/x-locale/common/grey-pixel.gif\" class=\"a-lazy-loaded\" data-src=\"https://images-eu.ssl-images-amazon.com/images/S/amazon-avatars-global/default._CR0,0,1024,1024_SX48_.png\"/><noscript><img src=\"https://images-eu.ssl-images-amazon.com/images/S/amazon-avatars-global/default._CR0,0,1024,1024_SX48_.png\"/></noscript></div></div><div class=\"a-profile-content\"><span class=\"a-profile-name\">Indranil Choudhury</span></div></a></div><div class=\"a-row\"><a class=\"a-link-normal\" title=\"5.0 out of 5 stars\" href=\"/gp/customer-reviews/R3MD1ROW2XECUD?ASIN=B07968P6RD\"><i data-hook=\"review-star-rating\" class=\"a-icon a-icon-star a-star-5 review-rating\"><span class=\"a-icon-alt\">5.0 out of 5 stars</span></i></a><span class=\"a-letter-space\"></span><a data-hook=\"review-title\" class=\"a-size-base a-link-normal review-title a-color-base review-title-content a-text-bold\" href=\"/gp/customer-reviews/R3MD1ROW2XECUD?ASIN=B07968P6RD\">\\n\\n\\n\\n\\n\\n\\n\\n  \\n  \\n    <span>Excellent</span>\\n  \\n</a></div><span data-hook=\"review-date\" class=\"a-size-base a-color-secondary review-date\">Reviewed in India on 17 February 2019</span><div class=\"a-row a-spacing-mini review-data review-format-strip\"><a data-hook=\"format-strip\" class=\"a-size-mini a-link-normal a-color-secondary\" href=\"/Blue-Tokai-Coffee-Roasters-Attikan/product-reviews/B00N500SPO?formatType=current_format\">Flavor name: Coffee Filter<i class=\"a-icon a-icon-text-separator\" role=\"img\" aria-label=\"|\"></i>Size: 250 g (Pack of 1)</a><i class=\"a-icon a-icon-text-separator\" role=\"img\" aria-label=\"|\"></i><span class=\"a-declarative\" data-action=\"reviews:filter-action:push-state\" data-reviews:filter-action:push-state=\"{}\"><a data-reftag=\"cm_cr_arp_d_rvw_rvwer\" data-reviews-state-param=\"{&quot;pageNumber&quot;:&quot;1&quot;,&quot;reviewerType&quot;:&quot;avp_only_reviews&quot;}\" class=\"a-link-normal\" href=\"/Blue-Tokai-Coffee-Roasters-Attikan/product-reviews/B07968P6RD?reviewerType=avp_only_reviews\"><span data-hook=\"avp-badge\" class=\"a-size-mini a-color-state a-text-bold\">Verified Purchase</span></a></span></div><div class=\"a-row a-spacing-small review-data\"><span data-hook=\"review-body\" class=\"a-size-base review-text review-text-content\">\\n\\n\\n\\n\\n\\n\\n\\n\\n\\n  \\n  \\n    <span>\\n  I was tired of paying 750 every time for Starbucks beans for mediocre coffee.<br />This coffee was wonderful in balance of depth of flavor and bitterness. Will buy again.\\n</span>\\n  \\n</span></div><div class=\"a-row review-comments comments-for-R3MD1ROW2XECUD\"><div data-reftag=\"cm_cr_arp_d_cmt_opn\" aria-live=\"polite\" data-a-expander-name=\"review_comment_expander\" class=\"a-row a-expander-container a-expander-inline-container cr-vote-action-bar\"><span class=\"cr-vote\" data-hook=\"review-voting-widget\">\\n  <div class=\"a-row a-spacing-small\"><span data-hook=\"helpful-vote-statement\" class=\"a-size-base a-color-tertiary cr-vote-text\">17 people found this helpful</span></div><div class=\"cr-helpful-button aok-float-left\">\\n      <span class=\"a-button a-button-base\"><span class=\"a-button-inner\"><a href=\"https://www.amazon.in/ap/signin?openid.return_to=https%3A%2F%2Fwww.amazon.in%2FBlue-Tokai-Coffee-Roasters-Attikan%2Fproduct-reviews%2FB07968P6RD%3FvoteInstanceId%3DR3MD1ROW2XECUD%26voteValue%3D1%26reviewerType%3Dall_reviews%26csrfT%3Dgo3c3RMtaKVsIM5IvHR2xg0UlXKsSrLk0Quhlw8AAAABAAAAAGEXmvZyYXcAAAAA%252B4kUEk%252F7iMGR3xPcX6iU&amp;openid.identity=http%3A%2F%2Fspecs.openid.net%2Fauth%2F2.0%2Fidentifier_select&amp;openid.claimed_id=http%3A%2F%2Fspecs.openid.net%2Fauth%2F2.0%2Fidentifier_select&amp;openid.assoc_handle=inflex&amp;openid.mode=checkid_setup&amp;openid.ns=http%3A%2F%2Fspecs.openid.net%2Fauth%2F2.0\" data-hook=\"vote-helpful-button\" class=\"a-button-text\" role=\"button\"><div class=\"cr-helpful-text\">\\n          Helpful</div>\\n      </a></span></span></div>\\n  </span><span class=\"cr-footer-line-height\">\\n          <span><i class=\"a-icon a-icon-text-separator\" role=\"img\" aria-label=\"|\"></i><span class=\"a-declarative\" data-action=\"cr-popup\" data-cr-popup=\"{&quot;width&quot;:&quot;580&quot;,&quot;title&quot;:&quot;ReportAbuse&quot;,&quot;url&quot;:&quot;/hz/reviews-render/report-abuse?voteDomain=Reviews&amp;ref=cm_cr_arp_d_rvw_hlp&amp;csrfT=go3c3RMtaKVsIM5IvHR2xg0UlXKsSrLk0Quhlw8AAAABAAAAAGEXmvZyYXcAAAAA%2B4kUEk%2F7iMGR3xPcX6iU&amp;entityId=R3MD1ROW2XECUD&amp;sessionId=000-0000000-0000000&quot;,&quot;height&quot;:&quot;380&quot;}\"><a class=\"a-size-base a-link-normal a-color-secondary report-abuse-link a-text-normal\" href=\"/hz/reviews-render/report-abuse?voteDomain=Reviews&amp;ref=cm_cr_arp_d_rvw_hlp&amp;csrfT=go3c3RMtaKVsIM5IvHR2xg0UlXKsSrLk0Quhlw8AAAABAAAAAGEXmvZyYXcAAAAA%2B4kUEk%2F7iMGR3xPcX6iU&amp;entityId=R3MD1ROW2XECUD&amp;sessionId=000-0000000-0000000\">Report abuse</a></span></span></span>\\n\\n        <div aria-expanded=\"false\" class=\"a-expander-content a-spacing-top-base a-spacing-large a-expander-inline-content a-expander-inner\" style=\"display:none\"><div class=\"a-row a-spacing-mini review-comments-header aok-hidden\"><ul class=\"a-viewoptions-list a-viewoptions-section a-span12\">\\n    <div class=\"a-row a-spacing-none a-grid-vertical-align a-grid-center\"><div class=\"a-column a-span6\"><span class=\"a-size-base a-viewoptions-list-label\">Showing <span class=\\'review-comment-count\\'>0</span> comments</span></div></div></ul>\\n</div><div class=\"a-section a-spacing-extra-large a-spacing-top-medium a-text-center comment-load-error aok-hidden\"><div class=\"a-box a-alert a-alert-error cr-error\" aria-live=\"assertive\" role=\"alert\"><div class=\"a-box-inner a-alert-container\"><h4 class=\"a-alert-heading\">There was a problem loading comments right now. Please try again later.</h4><i class=\"a-icon a-icon-alert\"></i><div class=\"a-alert-content\"></div></div></div></div><div class=\"a-section a-spacing-none review-comments\"></div><div class=\"a-spinner-wrapper comment-loading aok-hidden a-spacing-top-medium a-spacing-extra-large\"><span class=\"a-spinner a-spinner-medium\"></span></div><hr aria-hidden=\"true\" class=\"a-spacing-none a-spacing-top-large a-divider-normal\"/></div></div></div></div></div></div><div id=\"R1KKUVMU2RBCSN\" data-hook=\"review\" class=\"a-section review aok-relative\"><div id=\"R1KKUVMU2RBCSN-review-card\" class=\"a-row a-spacing-none\"><div id=\"customer_review-R1KKUVMU2RBCSN\" class=\"a-section celwidget\"><div data-hook=\"genome-widget\" class=\"a-row a-spacing-mini\"><a href=\"/gp/profile/amzn1.account.AHIFF4JR45VFWKDINQEHRJNWL3CA\" class=\"a-profile\" data-a-size=\"small\"><div aria-hidden=\"true\" class=\"a-profile-avatar-wrapper\"><div class=\"a-profile-avatar\"><img src=\"https://images-na.ssl-images-amazon.com/images/G/01/x-locale/common/grey-pixel.gif\" class=\"a-lazy-loaded\" data-src=\"https://images-eu.ssl-images-amazon.com/images/S/amazon-avatars-global/default._CR0,0,1024,1024_SX48_.png\"/><noscript><img src=\"https://images-eu.ssl-images-amazon.com/images/S/amazon-avatars-global/default._CR0,0,1024,1024_SX48_.png\"/></noscript></div></div><div class=\"a-profile-content\"><span class=\"a-profile-name\">Kalc</span></div></a></div><div class=\"a-row\"><a class=\"a-link-normal\" title=\"5.0 out of 5 stars\" href=\"/gp/customer-reviews/R1KKUVMU2RBCSN?ASIN=B07968P6RD\"><i data-hook=\"review-star-rating\" class=\"a-icon a-icon-star a-star-5 review-rating\"><span class=\"a-icon-alt\">5.0 out of 5 stars</span></i></a><span class=\"a-letter-space\"></span><a data-hook=\"review-title\" class=\"a-size-base a-link-normal review-title a-color-base review-title-content a-text-bold\" href=\"/gp/customer-reviews/R1KKUVMU2RBCSN?ASIN=B07968P6RD\">\\n\\n\\n\\n\\n\\n\\n\\n  \\n  \\n    <span>Excellent</span>\\n  \\n</a></div><span data-hook=\"review-date\" class=\"a-size-base a-color-secondary review-date\">Reviewed in India on 25 May 2019</span><div class=\"a-row a-spacing-mini review-data review-format-strip\"><a data-hook=\"format-strip\" class=\"a-size-mini a-link-normal a-color-secondary\" href=\"/Blue-Tokai-Coffee-Roasters-Attikan/product-reviews/B00N5010BK?formatType=current_format\">Flavor name: Whole Bean<i class=\"a-icon a-icon-text-separator\" role=\"img\" aria-label=\"|\"></i>Size: 250 g (Pack of 1)</a><i class=\"a-icon a-icon-text-separator\" role=\"img\" aria-label=\"|\"></i><span class=\"a-declarative\" data-action=\"reviews:filter-action:push-state\" data-reviews:filter-action:push-state=\"{}\"><a data-reftag=\"cm_cr_arp_d_rvw_rvwer\" data-reviews-state-param=\"{&quot;pageNumber&quot;:&quot;1&quot;,&quot;reviewerType&quot;:&quot;avp_only_reviews&quot;}\" class=\"a-link-normal\" href=\"/Blue-Tokai-Coffee-Roasters-Attikan/product-reviews/B07968P6RD?reviewerType=avp_only_reviews\"><span data-hook=\"avp-badge\" class=\"a-size-mini a-color-state a-text-bold\">Verified Purchase</span></a></span></div><div class=\"a-row a-spacing-small review-data\"><span data-hook=\"review-body\" class=\"a-size-base review-text review-text-content\">\\n\\n\\n\\n\\n\\n\\n\\n\\n\\n  \\n  \\n    <span>\\n  I am long time customer of blue tokkai coffee beans. I have my own grinder and espresso machine so i use them to get freshly roasted beans. They are definitely the best in ncr. The taste and aroma of freshly roasted coffee is way superior to the standard packed beans normally available. If you are a coffee aficionado , then you should give these guys a shot.\\n</span>\\n  \\n</span></div><div class=\"a-row review-comments comments-for-R1KKUVMU2RBCSN\"><div data-reftag=\"cm_cr_arp_d_cmt_opn\" aria-live=\"polite\" data-a-expander-name=\"review_comment_expander\" class=\"a-row a-expander-container a-expander-inline-container cr-vote-action-bar\"><span class=\"cr-vote\" data-hook=\"review-voting-widget\">\\n  <div class=\"a-row a-spacing-small\"><span data-hook=\"helpful-vote-statement\" class=\"a-size-base a-color-tertiary cr-vote-text\">8 people found this helpful</span></div><div class=\"cr-helpful-button aok-float-left\">\\n      <span class=\"a-button a-button-base\"><span class=\"a-button-inner\"><a href=\"https://www.amazon.in/ap/signin?openid.return_to=https%3A%2F%2Fwww.amazon.in%2FBlue-Tokai-Coffee-Roasters-Attikan%2Fproduct-reviews%2FB07968P6RD%3FvoteInstanceId%3DR1KKUVMU2RBCSN%26voteValue%3D1%26reviewerType%3Dall_reviews%26csrfT%3DggUqU6j2qYEdpE93jxMMD2hCfSp%252BhpplKSnmrbQAAAABAAAAAGEXmvZyYXcAAAAA%252B4kUEk%252F7iMGR3xPcX6iU&amp;openid.identity=http%3A%2F%2Fspecs.openid.net%2Fauth%2F2.0%2Fidentifier_select&amp;openid.claimed_id=http%3A%2F%2Fspecs.openid.net%2Fauth%2F2.0%2Fidentifier_select&amp;openid.assoc_handle=inflex&amp;openid.mode=checkid_setup&amp;openid.ns=http%3A%2F%2Fspecs.openid.net%2Fauth%2F2.0\" data-hook=\"vote-helpful-button\" class=\"a-button-text\" role=\"button\"><div class=\"cr-helpful-text\">\\n          Helpful</div>\\n      </a></span></span></div>\\n  </span><span class=\"cr-footer-line-height\">\\n          <span><i class=\"a-icon a-icon-text-separator\" role=\"img\" aria-label=\"|\"></i><span class=\"a-declarative\" data-action=\"cr-popup\" data-cr-popup=\"{&quot;width&quot;:&quot;580&quot;,&quot;title&quot;:&quot;ReportAbuse&quot;,&quot;url&quot;:&quot;/hz/reviews-render/report-abuse?voteDomain=Reviews&amp;ref=cm_cr_arp_d_rvw_hlp&amp;csrfT=ggUqU6j2qYEdpE93jxMMD2hCfSp%2BhpplKSnmrbQAAAABAAAAAGEXmvZyYXcAAAAA%2B4kUEk%2F7iMGR3xPcX6iU&amp;entityId=R1KKUVMU2RBCSN&amp;sessionId=000-0000000-0000000&quot;,&quot;height&quot;:&quot;380&quot;}\"><a class=\"a-size-base a-link-normal a-color-secondary report-abuse-link a-text-normal\" href=\"/hz/reviews-render/report-abuse?voteDomain=Reviews&amp;ref=cm_cr_arp_d_rvw_hlp&amp;csrfT=ggUqU6j2qYEdpE93jxMMD2hCfSp%2BhpplKSnmrbQAAAABAAAAAGEXmvZyYXcAAAAA%2B4kUEk%2F7iMGR3xPcX6iU&amp;entityId=R1KKUVMU2RBCSN&amp;sessionId=000-0000000-0000000\">Report abuse</a></span></span></span>\\n\\n        <div aria-expanded=\"false\" class=\"a-expander-content a-spacing-top-base a-spacing-large a-expander-inline-content a-expander-inner\" style=\"display:none\"><div class=\"a-row a-spacing-mini review-comments-header aok-hidden\"><ul class=\"a-viewoptions-list a-viewoptions-section a-span12\">\\n    <div class=\"a-row a-spacing-none a-grid-vertical-align a-grid-center\"><div class=\"a-column a-span6\"><span class=\"a-size-base a-viewoptions-list-label\">Showing <span class=\\'review-comment-count\\'>0</span> comments</span></div></div></ul>\\n</div><div class=\"a-section a-spacing-extra-large a-spacing-top-medium a-text-center comment-load-error aok-hidden\"><div class=\"a-box a-alert a-alert-error cr-error\" aria-live=\"assertive\" role=\"alert\"><div class=\"a-box-inner a-alert-container\"><h4 class=\"a-alert-heading\">There was a problem loading comments right now. Please try again later.</h4><i class=\"a-icon a-icon-alert\"></i><div class=\"a-alert-content\"></div></div></div></div><div class=\"a-section a-spacing-none review-comments\"></div><div class=\"a-spinner-wrapper comment-loading aok-hidden a-spacing-top-medium a-spacing-extra-large\"><span class=\"a-spinner a-spinner-medium\"></span></div><hr aria-hidden=\"true\" class=\"a-spacing-none a-spacing-top-large a-divider-normal\"/></div></div></div></div></div></div><div id=\"R36K5EYN22ZOGM\" data-hook=\"review\" class=\"a-section review aok-relative\"><div id=\"R36K5EYN22ZOGM-review-card\" class=\"a-row a-spacing-none\"><div id=\"customer_review-R36K5EYN22ZOGM\" class=\"a-section celwidget\"><div data-hook=\"genome-widget\" class=\"a-row a-spacing-mini\"><a href=\"/gp/profile/amzn1.account.AE33ZY4F26MXNTXW44PFZPUCQGHQ\" class=\"a-profile\" data-a-size=\"small\"><div aria-hidden=\"true\" class=\"a-profile-avatar-wrapper\"><div class=\"a-profile-avatar\"><img src=\"https://images-na.ssl-images-amazon.com/images/G/01/x-locale/common/grey-pixel.gif\" class=\"a-lazy-loaded\" data-src=\"https://images-eu.ssl-images-amazon.com/images/S/amazon-avatars-global/default._CR0,0,1024,1024_SX48_.png\"/><noscript><img src=\"https://images-eu.ssl-images-amazon.com/images/S/amazon-avatars-global/default._CR0,0,1024,1024_SX48_.png\"/></noscript></div></div><div class=\"a-profile-content\"><span class=\"a-profile-name\">Sunil Madan</span></div></a></div><div class=\"a-row\"><a class=\"a-link-normal\" title=\"2.0 out of 5 stars\" href=\"/gp/customer-reviews/R36K5EYN22ZOGM?ASIN=B07968P6RD\"><i data-hook=\"review-star-rating\" class=\"a-icon a-icon-star a-star-2 review-rating\"><span class=\"a-icon-alt\">2.0 out of 5 stars</span></i></a><span class=\"a-letter-space\"></span><a data-hook=\"review-title\" class=\"a-size-base a-link-normal review-title a-color-base review-title-content a-text-bold\" href=\"/gp/customer-reviews/R36K5EYN22ZOGM?ASIN=B07968P6RD\">\\n\\n\\n\\n\\n\\n\\n\\n  \\n  \\n    <span>Smells like sawdust tastes like dirt</span>\\n  \\n</a></div><span data-hook=\"review-date\" class=\"a-size-base a-color-secondary review-date\">Reviewed in India on 27 January 2020</span><div class=\"a-row a-spacing-mini review-data review-format-strip\"><a data-hook=\"format-strip\" class=\"a-size-mini a-link-normal a-color-secondary\" href=\"/Blue-Tokai-Coffee-Roasters-Attikan/product-reviews/B00N500WC8?formatType=current_format\">Flavor name: French Press<i class=\"a-icon a-icon-text-separator\" role=\"img\" aria-label=\"|\"></i>Size: 250 g (Pack of 1)</a><i class=\"a-icon a-icon-text-separator\" role=\"img\" aria-label=\"|\"></i><span class=\"a-declarative\" data-action=\"reviews:filter-action:push-state\" data-reviews:filter-action:push-state=\"{}\"><a data-reftag=\"cm_cr_arp_d_rvw_rvwer\" data-reviews-state-param=\"{&quot;pageNumber&quot;:&quot;1&quot;,&quot;reviewerType&quot;:&quot;avp_only_reviews&quot;}\" class=\"a-link-normal\" href=\"/Blue-Tokai-Coffee-Roasters-Attikan/product-reviews/B07968P6RD?reviewerType=avp_only_reviews\"><span data-hook=\"avp-badge\" class=\"a-size-mini a-color-state a-text-bold\">Verified Purchase</span></a></span></div><div class=\"a-row a-spacing-small review-data\"><span data-hook=\"review-body\" class=\"a-size-base review-text review-text-content\">\\n\\n\\n\\n\\n\\n\\n\\n\\n\\n  \\n  \\n    <span>\\n  I purchased this for use in a French press. I\\'m quite fastidious about how I brew my coffee and ensure I get it right most times.<br />This coffee has no body, no mouthfeel and lacks flavour. In terms of aroma, besides the initial whiff it reminds me of sawdust and tastes like dirt.\\n</span>\\n  \\n</span></div><div class=\"a-row review-comments comments-for-R36K5EYN22ZOGM\"><div data-reftag=\"cm_cr_arp_d_cmt_opn\" aria-live=\"polite\" data-a-expander-name=\"review_comment_expander\" class=\"a-row a-expander-container a-expander-inline-container cr-vote-action-bar\"><span class=\"cr-vote\" data-hook=\"review-voting-widget\">\\n  <div class=\"a-row a-spacing-small\"><span data-hook=\"helpful-vote-statement\" class=\"a-size-base a-color-tertiary cr-vote-text\">6 people found this helpful</span></div><div class=\"cr-helpful-button aok-float-left\">\\n      <span class=\"a-button a-button-base\"><span class=\"a-button-inner\"><a href=\"https://www.amazon.in/ap/signin?openid.return_to=https%3A%2F%2Fwww.amazon.in%2FBlue-Tokai-Coffee-Roasters-Attikan%2Fproduct-reviews%2FB07968P6RD%3FvoteInstanceId%3DR36K5EYN22ZOGM%26voteValue%3D1%26reviewerType%3Dall_reviews%26csrfT%3DgqTCIwJr%252F9rBv81vuFN4MHAQKNpSvnZAO2BjqhoAAAABAAAAAGEXmvZyYXcAAAAA%252B4kUEk%252F7iMGR3xPcX6iU&amp;openid.identity=http%3A%2F%2Fspecs.openid.net%2Fauth%2F2.0%2Fidentifier_select&amp;openid.claimed_id=http%3A%2F%2Fspecs.openid.net%2Fauth%2F2.0%2Fidentifier_select&amp;openid.assoc_handle=inflex&amp;openid.mode=checkid_setup&amp;openid.ns=http%3A%2F%2Fspecs.openid.net%2Fauth%2F2.0\" data-hook=\"vote-helpful-button\" class=\"a-button-text\" role=\"button\"><div class=\"cr-helpful-text\">\\n          Helpful</div>\\n      </a></span></span></div>\\n  </span><span class=\"cr-footer-line-height\">\\n          <span><i class=\"a-icon a-icon-text-separator\" role=\"img\" aria-label=\"|\"></i><span class=\"a-declarative\" data-action=\"cr-popup\" data-cr-popup=\"{&quot;width&quot;:&quot;580&quot;,&quot;title&quot;:&quot;ReportAbuse&quot;,&quot;url&quot;:&quot;/hz/reviews-render/report-abuse?voteDomain=Reviews&amp;ref=cm_cr_arp_d_rvw_hlp&amp;csrfT=gqTCIwJr%2F9rBv81vuFN4MHAQKNpSvnZAO2BjqhoAAAABAAAAAGEXmvZyYXcAAAAA%2B4kUEk%2F7iMGR3xPcX6iU&amp;entityId=R36K5EYN22ZOGM&amp;sessionId=000-0000000-0000000&quot;,&quot;height&quot;:&quot;380&quot;}\"><a class=\"a-size-base a-link-normal a-color-secondary report-abuse-link a-text-normal\" href=\"/hz/reviews-render/report-abuse?voteDomain=Reviews&amp;ref=cm_cr_arp_d_rvw_hlp&amp;csrfT=gqTCIwJr%2F9rBv81vuFN4MHAQKNpSvnZAO2BjqhoAAAABAAAAAGEXmvZyYXcAAAAA%2B4kUEk%2F7iMGR3xPcX6iU&amp;entityId=R36K5EYN22ZOGM&amp;sessionId=000-0000000-0000000\">Report abuse</a></span></span></span>\\n\\n        <div aria-expanded=\"false\" class=\"a-expander-content a-spacing-top-base a-spacing-large a-expander-inline-content a-expander-inner\" style=\"display:none\"><div class=\"a-row a-spacing-mini review-comments-header aok-hidden\"><ul class=\"a-viewoptions-list a-viewoptions-section a-span12\">\\n    <div class=\"a-row a-spacing-none a-grid-vertical-align a-grid-center\"><div class=\"a-column a-span6\"><span class=\"a-size-base a-viewoptions-list-label\">Showing <span class=\\'review-comment-count\\'>0</span> comments</span></div></div></ul>\\n</div><div class=\"a-section a-spacing-extra-large a-spacing-top-medium a-text-center comment-load-error aok-hidden\"><div class=\"a-box a-alert a-alert-error cr-error\" aria-live=\"assertive\" role=\"alert\"><div class=\"a-box-inner a-alert-container\"><h4 class=\"a-alert-heading\">There was a problem loading comments right now. Please try again later.</h4><i class=\"a-icon a-icon-alert\"></i><div class=\"a-alert-content\"></div></div></div></div><div class=\"a-section a-spacing-none review-comments\"></div><div class=\"a-spinner-wrapper comment-loading aok-hidden a-spacing-top-medium a-spacing-extra-large\"><span class=\"a-spinner a-spinner-medium\"></span></div><hr aria-hidden=\"true\" class=\"a-spacing-none a-spacing-top-large a-divider-normal\"/></div></div></div></div></div></div><div id=\"R3HS24V2CMP6YT\" data-hook=\"review\" class=\"a-section review aok-relative\"><div id=\"R3HS24V2CMP6YT-review-card\" class=\"a-row a-spacing-none\"><div id=\"customer_review-R3HS24V2CMP6YT\" class=\"a-section celwidget\"><div data-hook=\"genome-widget\" class=\"a-row a-spacing-mini\"><a href=\"/gp/profile/amzn1.account.AFXSZLOCXF7ZPMJKIC27BY3JVOVA\" class=\"a-profile\" data-a-size=\"small\"><div aria-hidden=\"true\" class=\"a-profile-avatar-wrapper\"><div class=\"a-profile-avatar\"><img src=\"https://images-na.ssl-images-amazon.com/images/G/01/x-locale/common/grey-pixel.gif\" class=\"a-lazy-loaded\" data-src=\"https://images-eu.ssl-images-amazon.com/images/S/amazon-avatars-global/ae8d6769-1abf-4d53-a1a9-6ffee9e65c63._CR0,0,500,500_SX48_.jpg\"/><noscript><img src=\"https://images-eu.ssl-images-amazon.com/images/S/amazon-avatars-global/ae8d6769-1abf-4d53-a1a9-6ffee9e65c63._CR0,0,500,500_SX48_.jpg\"/></noscript></div></div><div class=\"a-profile-content\"><span class=\"a-profile-name\">Ethan</span></div></a></div><div class=\"a-row\"><a class=\"a-link-normal\" title=\"3.0 out of 5 stars\" href=\"/gp/customer-reviews/R3HS24V2CMP6YT?ASIN=B07968P6RD\"><i data-hook=\"review-star-rating\" class=\"a-icon a-icon-star a-star-3 review-rating\"><span class=\"a-icon-alt\">3.0 out of 5 stars</span></i></a><span class=\"a-letter-space\"></span><a data-hook=\"review-title\" class=\"a-size-base a-link-normal review-title a-color-base review-title-content a-text-bold\" href=\"/gp/customer-reviews/R3HS24V2CMP6YT?ASIN=B07968P6RD\">\\n\\n\\n\\n\\n\\n\\n\\n  \\n  \\n    <span>Decent beans but roasted light</span>\\n  \\n</a></div><span data-hook=\"review-date\" class=\"a-size-base a-color-secondary review-date\">Reviewed in India on 5 March 2019</span><div class=\"a-row a-spacing-mini review-data review-format-strip\"><a data-hook=\"format-strip\" class=\"a-size-mini a-link-normal a-color-secondary\" href=\"/Blue-Tokai-Coffee-Roasters-Attikan/product-reviews/B00N5010BK?formatType=current_format\">Flavor name: Whole Bean<i class=\"a-icon a-icon-text-separator\" role=\"img\" aria-label=\"|\"></i>Size: 250 g (Pack of 1)</a><i class=\"a-icon a-icon-text-separator\" role=\"img\" aria-label=\"|\"></i><span class=\"a-declarative\" data-action=\"reviews:filter-action:push-state\" data-reviews:filter-action:push-state=\"{}\"><a data-reftag=\"cm_cr_arp_d_rvw_rvwer\" data-reviews-state-param=\"{&quot;pageNumber&quot;:&quot;1&quot;,&quot;reviewerType&quot;:&quot;avp_only_reviews&quot;}\" class=\"a-link-normal\" href=\"/Blue-Tokai-Coffee-Roasters-Attikan/product-reviews/B07968P6RD?reviewerType=avp_only_reviews\"><span data-hook=\"avp-badge\" class=\"a-size-mini a-color-state a-text-bold\">Verified Purchase</span></a></span></div><div class=\"a-row a-spacing-small review-data\"><span data-hook=\"review-body\" class=\"a-size-base review-text review-text-content\">\\n\\n\\n\\n\\n\\n\\n\\n\\n\\n  \\n  \\n    <span>\\n  The beans have intense aroma and an earthy flavor. But the roast is nowhere close to medium dark..it seems more like an American or Vienna roast (both are relatively mild light roasts)..compared to the current beans I use (sumatra from Starbucks) the ground beans lack the characteristic caffeine punch (mainly I think because of the light roast). Having said that this could be the light coffee that you can drink before you go to sleep :)\\n</span>\\n  \\n</span></div><div class=\"a-popover-preload\" id=\"a-popover-R3HS24V2CMP6YT_gallerySection_main\">\\n\\n\\n\\n\\n\\n\\n\\n\\n\\n\\n\\n\\n\\n<div id=\"R3HS24V2CMP6YT_image_popover\" data-hook=\"image-popover\" class=\"a-section cr-lightbox-popover-container\">\\n\\n    \\n        \\n        \\n            <div class=\"cr-lightbox-image-viewer\">\\n        <div class=\"cr-lightbox-main-image-container\">\\n            <img alt=\"Customer image\" src=\"https://images-na.ssl-images-amazon.com/images/G/01/x-locale/common/transparent-pixel._V192234675_.gif\" class=\"cr-lightbox-main-image\"/>\\n        </div>\\n        <div class=\"cr-lightbox-navigator-container cr-lightbox-navigator-container__back\">\\n            <div class=\"cr-lightbox-navigator-button cr-lightbox-navigator-button__back\">\\n            </div>\\n        </div>\\n        <div class=\"cr-lightbox-navigator-container cr-lightbox-navigator-container__next\">\\n            <div class=\"cr-lightbox-navigator-button cr-lightbox-navigator-button__next\">\\n            </div>\\n        </div>\\n    </div>\\n    <div class=\"a-section cr-lightbox-review-information\">\\n        <div class=\"a-section a-spacing-mini\">\\n            <i class=\"a-icon a-icon-star a-star-3 cr-lightbox-review-rating\"><span class=\"a-icon-alt\">3.0 out of 5 stars</span></i>\\n            <span class=\"a-size-base cr-lightbox-review-title a-text-bold\">\\n                Decent beans but roasted light\\n            </span>\\n            <br>\\n            <span class=\"a-size-small a-color-secondary cr-lightbox-review-origin\">\\n                \\n                    \\n                    \\n                        \\n                            \\n                                By Ethan on 5 March 2019\\n                            \\n                            \\n                        \\n                    \\n                \\n            </span>\\n        </div>\\n        <span class=\"a-size-base cr-lightbox-review-body\">\\n            The beans have intense aroma and an earthy flavor. But the roast is nowhere close to medium dark..it seems more like an American or Vienna roast (both are relatively mild light roasts)..compared to the current beans I use (sumatra from Starbucks) the ground beans lack the characteristic caffeine punch (mainly I think because of the light roast). Having said that this could be the light coffee that you can drink before you go to sleep :)\\n        </span>\\n        <div class=\"a-section a-spacing-top-base\">\\n            <span class=\"a-size-medium a-color-secondary\">\\n                Images in this review \\n            </span>\\n            <div class=\"a-section a-spacing-top-mini cr-lightbox-image-thumbnails\">\\n                \\n                    <img alt=\"Customer image\" src=\"https://images-na.ssl-images-amazon.com/images/I/716ULMGomKL._SY88.jpg\" class=\"cr-lightbox-image-thumbnail\"/>\\n                \\n            </div>\\n        </div>\\n    </div>\\n        \\n    \\n</div>\\n\\n</div><div id=\"R3HS24V2CMP6YT_imageSection_main\" class=\"a-section a-spacing-medium review-image-container\"><div class=\"review-image-tile-section\" data-reviewid=\"R3HS24V2CMP6YT\">\\n       <span class=\"a-declarative\" data-action=\"a-modal\" data-a-modal=\"{&quot;name&quot;:&quot;R3HS24V2CMP6YT_gallerySection_main&quot;}\" id=\"R3HS24V2CMP6YT-0\"><a href=\"javascript:void(0)\" class=\"a-popover-trigger a-declarative\"><img alt=\"Customer image\" src=\"https://images-na.ssl-images-amazon.com/images/I/716ULMGomKL._SY88.jpg\" data-hook=\"review-image-tile\" class=\"review-image-tile\" height=\"88\" width=\"100%\"/><i class=\"a-icon a-icon-popover\"></i></a></span></div>\\n</div><script>\\n        P.when(\\'A\\', \\'cr-image-popover-controller\\').execute(function(A, imagePopoverController) {\\n          A.on(\"a:popover:beforeShow:R3HS24V2CMP6YT_gallerySection_main\", function(data) {\\n            imagePopoverController.initImagePopover(\"R3HS24V2CMP6YT\", \"[https://images-na.ssl-images-amazon.com/images/I/716ULMGomKL.jpg]\", data);\\n          });\\n        });\\n    </script>\\n<div class=\"a-row review-comments comments-for-R3HS24V2CMP6YT\"><div data-reftag=\"cm_cr_arp_d_cmt_opn\" aria-live=\"polite\" data-a-expander-name=\"review_comment_expander\" class=\"a-row a-expander-container a-expander-inline-container cr-vote-action-bar\"><span class=\"cr-vote\" data-hook=\"review-voting-widget\">\\n  <div class=\"a-row a-spacing-small\"><span data-hook=\"helpful-vote-statement\" class=\"a-size-base a-color-tertiary cr-vote-text\">6 people found this helpful</span></div><div class=\"cr-helpful-button aok-float-left\">\\n      <span class=\"a-button a-button-base\"><span class=\"a-button-inner\"><a href=\"https://www.amazon.in/ap/signin?openid.return_to=https%3A%2F%2Fwww.amazon.in%2FBlue-Tokai-Coffee-Roasters-Attikan%2Fproduct-reviews%2FB07968P6RD%3FvoteInstanceId%3DR3HS24V2CMP6YT%26voteValue%3D1%26reviewerType%3Dall_reviews%26csrfT%3Dgq3ROhjYquvLIwLqokgvFZZ4uOHB0MNaGVKkpg4AAAABAAAAAGEXmvZyYXcAAAAA%252B4kUEk%252F7iMGR3xPcX6iU&amp;openid.identity=http%3A%2F%2Fspecs.openid.net%2Fauth%2F2.0%2Fidentifier_select&amp;openid.claimed_id=http%3A%2F%2Fspecs.openid.net%2Fauth%2F2.0%2Fidentifier_select&amp;openid.assoc_handle=inflex&amp;openid.mode=checkid_setup&amp;openid.ns=http%3A%2F%2Fspecs.openid.net%2Fauth%2F2.0\" data-hook=\"vote-helpful-button\" class=\"a-button-text\" role=\"button\"><div class=\"cr-helpful-text\">\\n          Helpful</div>\\n      </a></span></span></div>\\n  </span><span class=\"cr-footer-line-height\">\\n          <span><i class=\"a-icon a-icon-text-separator\" role=\"img\" aria-label=\"|\"></i><span class=\"a-declarative\" data-action=\"cr-popup\" data-cr-popup=\"{&quot;width&quot;:&quot;580&quot;,&quot;title&quot;:&quot;ReportAbuse&quot;,&quot;url&quot;:&quot;/hz/reviews-render/report-abuse?voteDomain=Reviews&amp;ref=cm_cr_arp_d_rvw_hlp&amp;csrfT=gq3ROhjYquvLIwLqokgvFZZ4uOHB0MNaGVKkpg4AAAABAAAAAGEXmvZyYXcAAAAA%2B4kUEk%2F7iMGR3xPcX6iU&amp;entityId=R3HS24V2CMP6YT&amp;sessionId=000-0000000-0000000&quot;,&quot;height&quot;:&quot;380&quot;}\"><a class=\"a-size-base a-link-normal a-color-secondary report-abuse-link a-text-normal\" href=\"/hz/reviews-render/report-abuse?voteDomain=Reviews&amp;ref=cm_cr_arp_d_rvw_hlp&amp;csrfT=gq3ROhjYquvLIwLqokgvFZZ4uOHB0MNaGVKkpg4AAAABAAAAAGEXmvZyYXcAAAAA%2B4kUEk%2F7iMGR3xPcX6iU&amp;entityId=R3HS24V2CMP6YT&amp;sessionId=000-0000000-0000000\">Report abuse</a></span></span></span>\\n\\n        <div aria-expanded=\"false\" class=\"a-expander-content a-spacing-top-base a-spacing-large a-expander-inline-content a-expander-inner\" style=\"display:none\"><div class=\"a-row a-spacing-mini review-comments-header aok-hidden\"><ul class=\"a-viewoptions-list a-viewoptions-section a-span12\">\\n    <div class=\"a-row a-spacing-none a-grid-vertical-align a-grid-center\"><div class=\"a-column a-span6\"><span class=\"a-size-base a-viewoptions-list-label\">Showing <span class=\\'review-comment-count\\'>0</span> comments</span></div></div></ul>\\n</div><div class=\"a-section a-spacing-extra-large a-spacing-top-medium a-text-center comment-load-error aok-hidden\"><div class=\"a-box a-alert a-alert-error cr-error\" aria-live=\"assertive\" role=\"alert\"><div class=\"a-box-inner a-alert-container\"><h4 class=\"a-alert-heading\">There was a problem loading comments right now. Please try again later.</h4><i class=\"a-icon a-icon-alert\"></i><div class=\"a-alert-content\"></div></div></div></div><div class=\"a-section a-spacing-none review-comments\"></div><div class=\"a-spinner-wrapper comment-loading aok-hidden a-spacing-top-medium a-spacing-extra-large\"><span class=\"a-spinner a-spinner-medium\"></span></div><hr aria-hidden=\"true\" class=\"a-spacing-none a-spacing-top-large a-divider-normal\"/></div></div></div></div></div></div><div id=\"RE19K8UEJL5EJ\" data-hook=\"review\" class=\"a-section review aok-relative\"><div id=\"RE19K8UEJL5EJ-review-card\" class=\"a-row a-spacing-none\"><div id=\"customer_review-RE19K8UEJL5EJ\" class=\"a-section celwidget\"><div data-hook=\"genome-widget\" class=\"a-row a-spacing-mini\"><a href=\"/gp/profile/amzn1.account.AG35XPDXLTUMNA3GR5E3KVGKSFYQ\" class=\"a-profile\" data-a-size=\"small\"><div aria-hidden=\"true\" class=\"a-profile-avatar-wrapper\"><div class=\"a-profile-avatar\"><img src=\"https://images-na.ssl-images-amazon.com/images/G/01/x-locale/common/grey-pixel.gif\" class=\"a-lazy-loaded\" data-src=\"https://images-eu.ssl-images-amazon.com/images/S/amazon-avatars-global/default._CR0,0,1024,1024_SX48_.png\"/><noscript><img src=\"https://images-eu.ssl-images-amazon.com/images/S/amazon-avatars-global/default._CR0,0,1024,1024_SX48_.png\"/></noscript></div></div><div class=\"a-profile-content\"><span class=\"a-profile-name\">SK</span></div></a></div><div class=\"a-row\"><a class=\"a-link-normal\" title=\"5.0 out of 5 stars\" href=\"/gp/customer-reviews/RE19K8UEJL5EJ?ASIN=B07968P6RD\"><i data-hook=\"review-star-rating\" class=\"a-icon a-icon-star a-star-5 review-rating\"><span class=\"a-icon-alt\">5.0 out of 5 stars</span></i></a><span class=\"a-letter-space\"></span><a data-hook=\"review-title\" class=\"a-size-base a-link-normal review-title a-color-base review-title-content a-text-bold\" href=\"/gp/customer-reviews/RE19K8UEJL5EJ?ASIN=B07968P6RD\">\\n\\n\\n\\n\\n\\n\\n\\n  \\n  \\n    <span>Amazing Single Origin Coffee!</span>\\n  \\n</a></div><span data-hook=\"review-date\" class=\"a-size-base a-color-secondary review-date\">Reviewed in India on 3 November 2019</span><div class=\"a-row a-spacing-mini review-data review-format-strip\"><a data-hook=\"format-strip\" class=\"a-size-mini a-link-normal a-color-secondary\" href=\"/Blue-Tokai-Coffee-Roasters-Attikan/product-reviews/B00N5010BK?formatType=current_format\">Flavor name: Whole Bean<i class=\"a-icon a-icon-text-separator\" role=\"img\" aria-label=\"|\"></i>Size: 250 g (Pack of 1)</a><i class=\"a-icon a-icon-text-separator\" role=\"img\" aria-label=\"|\"></i><span class=\"a-declarative\" data-action=\"reviews:filter-action:push-state\" data-reviews:filter-action:push-state=\"{}\"><a data-reftag=\"cm_cr_arp_d_rvw_rvwer\" data-reviews-state-param=\"{&quot;pageNumber&quot;:&quot;1&quot;,&quot;reviewerType&quot;:&quot;avp_only_reviews&quot;}\" class=\"a-link-normal\" href=\"/Blue-Tokai-Coffee-Roasters-Attikan/product-reviews/B07968P6RD?reviewerType=avp_only_reviews\"><span data-hook=\"avp-badge\" class=\"a-size-mini a-color-state a-text-bold\">Verified Purchase</span></a></span></div><div class=\"a-row a-spacing-small review-data\"><span data-hook=\"review-body\" class=\"a-size-base review-text review-text-content\">\\n\\n\\n\\n\\n\\n\\n\\n\\n\\n  \\n  \\n    <span>\\n  This coffee is premium quality, Single Origin arabica, unlike any branded mediocre Starbucks or Lavazza blends.<br />It\\'s a real treat for coffee enthusiasts. The roast was perfect to second crack! I bought this after reading about this startup. I have to say I\\'m impressed! I like pour-over and 15g medium coarse grind brewed in Hario V60 makes a perfect cup.<br /><br />Pro-tip: If you\\'re a Cold Brew fan, then this particular variety seems to make a great one. The 1:8 ratio coarse grind, brewed for 18-20 hours in refrigerator worked great for me!<br /><br />I have ordered more, would try different varieties!\\n</span>\\n  \\n</span></div><div class=\"a-row review-comments comments-for-RE19K8UEJL5EJ\"><div data-reftag=\"cm_cr_arp_d_cmt_opn\" aria-live=\"polite\" data-a-expander-name=\"review_comment_expander\" class=\"a-row a-expander-container a-expander-inline-container cr-vote-action-bar\"><span class=\"cr-vote\" data-hook=\"review-voting-widget\">\\n  <div class=\"a-row a-spacing-small\"><span data-hook=\"helpful-vote-statement\" class=\"a-size-base a-color-tertiary cr-vote-text\">4 people found this helpful</span></div><div class=\"cr-helpful-button aok-float-left\">\\n      <span class=\"a-button a-button-base\"><span class=\"a-button-inner\"><a href=\"https://www.amazon.in/ap/signin?openid.return_to=https%3A%2F%2Fwww.amazon.in%2FBlue-Tokai-Coffee-Roasters-Attikan%2Fproduct-reviews%2FB07968P6RD%3FvoteInstanceId%3DRE19K8UEJL5EJ%26voteValue%3D1%26reviewerType%3Dall_reviews%26csrfT%3DgvD0sRQvElHJC89QBrHSKxq5r6YzX8qmODOH%252BEsAAAABAAAAAGEXmvZyYXcAAAAA%252B4kUEk%252F7iMGR3xPcX6iU&amp;openid.identity=http%3A%2F%2Fspecs.openid.net%2Fauth%2F2.0%2Fidentifier_select&amp;openid.claimed_id=http%3A%2F%2Fspecs.openid.net%2Fauth%2F2.0%2Fidentifier_select&amp;openid.assoc_handle=inflex&amp;openid.mode=checkid_setup&amp;openid.ns=http%3A%2F%2Fspecs.openid.net%2Fauth%2F2.0\" data-hook=\"vote-helpful-button\" class=\"a-button-text\" role=\"button\"><div class=\"cr-helpful-text\">\\n          Helpful</div>\\n      </a></span></span></div>\\n  </span><span class=\"cr-footer-line-height\">\\n          <span><i class=\"a-icon a-icon-text-separator\" role=\"img\" aria-label=\"|\"></i><span class=\"a-declarative\" data-action=\"cr-popup\" data-cr-popup=\"{&quot;width&quot;:&quot;580&quot;,&quot;title&quot;:&quot;ReportAbuse&quot;,&quot;url&quot;:&quot;/hz/reviews-render/report-abuse?voteDomain=Reviews&amp;ref=cm_cr_arp_d_rvw_hlp&amp;csrfT=gvD0sRQvElHJC89QBrHSKxq5r6YzX8qmODOH%2BEsAAAABAAAAAGEXmvZyYXcAAAAA%2B4kUEk%2F7iMGR3xPcX6iU&amp;entityId=RE19K8UEJL5EJ&amp;sessionId=000-0000000-0000000&quot;,&quot;height&quot;:&quot;380&quot;}\"><a class=\"a-size-base a-link-normal a-color-secondary report-abuse-link a-text-normal\" href=\"/hz/reviews-render/report-abuse?voteDomain=Reviews&amp;ref=cm_cr_arp_d_rvw_hlp&amp;csrfT=gvD0sRQvElHJC89QBrHSKxq5r6YzX8qmODOH%2BEsAAAABAAAAAGEXmvZyYXcAAAAA%2B4kUEk%2F7iMGR3xPcX6iU&amp;entityId=RE19K8UEJL5EJ&amp;sessionId=000-0000000-0000000\">Report abuse</a></span></span></span>\\n\\n        <div aria-expanded=\"false\" class=\"a-expander-content a-spacing-top-base a-spacing-large a-expander-inline-content a-expander-inner\" style=\"display:none\"><div class=\"a-row a-spacing-mini review-comments-header aok-hidden\"><ul class=\"a-viewoptions-list a-viewoptions-section a-span12\">\\n    <div class=\"a-row a-spacing-none a-grid-vertical-align a-grid-center\"><div class=\"a-column a-span6\"><span class=\"a-size-base a-viewoptions-list-label\">Showing <span class=\\'review-comment-count\\'>0</span> comments</span></div></div></ul>\\n</div><div class=\"a-section a-spacing-extra-large a-spacing-top-medium a-text-center comment-load-error aok-hidden\"><div class=\"a-box a-alert a-alert-error cr-error\" aria-live=\"assertive\" role=\"alert\"><div class=\"a-box-inner a-alert-container\"><h4 class=\"a-alert-heading\">There was a problem loading comments right now. Please try again later.</h4><i class=\"a-icon a-icon-alert\"></i><div class=\"a-alert-content\"></div></div></div></div><div class=\"a-section a-spacing-none review-comments\"></div><div class=\"a-spinner-wrapper comment-loading aok-hidden a-spacing-top-medium a-spacing-extra-large\"><span class=\"a-spinner a-spinner-medium\"></span></div><hr aria-hidden=\"true\" class=\"a-spacing-none a-spacing-top-large a-divider-normal\"/></div></div></div></div></div></div><div id=\"R1VF9A85Z2EDBK\" data-hook=\"review\" class=\"a-section review aok-relative\"><div id=\"R1VF9A85Z2EDBK-review-card\" class=\"a-row a-spacing-none\"><div id=\"customer_review-R1VF9A85Z2EDBK\" class=\"a-section celwidget\"><div data-hook=\"genome-widget\" class=\"a-row a-spacing-mini\"><a href=\"/gp/profile/amzn1.account.AGS32RSY435VSMSGIGY5VZRDZNQQ\" class=\"a-profile\" data-a-size=\"small\"><div aria-hidden=\"true\" class=\"a-profile-avatar-wrapper\"><div class=\"a-profile-avatar\"><img src=\"https://images-na.ssl-images-amazon.com/images/G/01/x-locale/common/grey-pixel.gif\" class=\"a-lazy-loaded\" data-src=\"https://images-eu.ssl-images-amazon.com/images/S/amazon-avatars-global/default._CR0,0,1024,1024_SX48_.png\"/><noscript><img src=\"https://images-eu.ssl-images-amazon.com/images/S/amazon-avatars-global/default._CR0,0,1024,1024_SX48_.png\"/></noscript></div></div><div class=\"a-profile-content\"><span class=\"a-profile-name\">Jvalant N. Sampat</span></div></a></div><div class=\"a-row\"><a class=\"a-link-normal\" title=\"4.0 out of 5 stars\" href=\"/gp/customer-reviews/R1VF9A85Z2EDBK?ASIN=B07968P6RD\"><i data-hook=\"review-star-rating\" class=\"a-icon a-icon-star a-star-4 review-rating\"><span class=\"a-icon-alt\">4.0 out of 5 stars</span></i></a><span class=\"a-letter-space\"></span><a data-hook=\"review-title\" class=\"a-size-base a-link-normal review-title a-color-base review-title-content a-text-bold\" href=\"/gp/customer-reviews/R1VF9A85Z2EDBK?ASIN=B07968P6RD\">\\n\\n\\n\\n\\n\\n\\n\\n  \\n  \\n    <span>Extremely satisfying</span>\\n  \\n</a></div><span data-hook=\"review-date\" class=\"a-size-base a-color-secondary review-date\">Reviewed in India on 19 September 2020</span><div class=\"a-row a-spacing-mini review-data review-format-strip\"><a data-hook=\"format-strip\" class=\"a-size-mini a-link-normal a-color-secondary\" href=\"/Blue-Tokai-Coffee-Roasters-Attikan/product-reviews/B07XX1BVZ4?formatType=current_format\">Flavor name: Home Espresso<i class=\"a-icon a-icon-text-separator\" role=\"img\" aria-label=\"|\"></i>Size: 250 g (Pack of 1)</a><i class=\"a-icon a-icon-text-separator\" role=\"img\" aria-label=\"|\"></i><span class=\"a-declarative\" data-action=\"reviews:filter-action:push-state\" data-reviews:filter-action:push-state=\"{}\"><a data-reftag=\"cm_cr_arp_d_rvw_rvwer\" data-reviews-state-param=\"{&quot;pageNumber&quot;:&quot;1&quot;,&quot;reviewerType&quot;:&quot;avp_only_reviews&quot;}\" class=\"a-link-normal\" href=\"/Blue-Tokai-Coffee-Roasters-Attikan/product-reviews/B07968P6RD?reviewerType=avp_only_reviews\"><span data-hook=\"avp-badge\" class=\"a-size-mini a-color-state a-text-bold\">Verified Purchase</span></a></span></div><div class=\"a-row a-spacing-small review-data\"><span data-hook=\"review-body\" class=\"a-size-base review-text review-text-content\">\\n\\n\\n\\n\\n\\n\\n\\n\\n\\n  \\n  \\n    <span>\\n  There aren\\'t any Blue Tokai outlets in Southern Bombay so I hadn\\'t even heard of them. I tasted their coffee at a Pop up and liked it quite a bit. I was pleasantly surprised to find them on Amazon.<br /><br />Excellent quality coffee, really well ground (I ordered the Home Espresso blend), ideal for my Espresso machine.<br /><br />I mostly have Nespresso but this was really excellent. Will definitely be ordering again. Shame they don\\'t have a decaf option.\\n</span>\\n  \\n</span></div><div class=\"a-row review-comments comments-for-R1VF9A85Z2EDBK\"><div data-reftag=\"cm_cr_arp_d_cmt_opn\" aria-live=\"polite\" data-a-expander-name=\"review_comment_expander\" class=\"a-row a-expander-container a-expander-inline-container cr-vote-action-bar\"><span class=\"cr-vote\" data-hook=\"review-voting-widget\">\\n  <div class=\"a-row a-spacing-small\"><span data-hook=\"helpful-vote-statement\" class=\"a-size-base a-color-tertiary cr-vote-text\">One person found this helpful</span></div><div class=\"cr-helpful-button aok-float-left\">\\n      <span class=\"a-button a-button-base\"><span class=\"a-button-inner\"><a href=\"https://www.amazon.in/ap/signin?openid.return_to=https%3A%2F%2Fwww.amazon.in%2FBlue-Tokai-Coffee-Roasters-Attikan%2Fproduct-reviews%2FB07968P6RD%3FvoteInstanceId%3DR1VF9A85Z2EDBK%26voteValue%3D1%26reviewerType%3Dall_reviews%26csrfT%3DgpQGSIA5s%252BVrPAUsMsccuB3G22aX5hdmuUYF%252Fy4AAAABAAAAAGEXmvZyYXcAAAAA%252B4kUEk%252F7iMGR3xPcX6iU&amp;openid.identity=http%3A%2F%2Fspecs.openid.net%2Fauth%2F2.0%2Fidentifier_select&amp;openid.claimed_id=http%3A%2F%2Fspecs.openid.net%2Fauth%2F2.0%2Fidentifier_select&amp;openid.assoc_handle=inflex&amp;openid.mode=checkid_setup&amp;openid.ns=http%3A%2F%2Fspecs.openid.net%2Fauth%2F2.0\" data-hook=\"vote-helpful-button\" class=\"a-button-text\" role=\"button\"><div class=\"cr-helpful-text\">\\n          Helpful</div>\\n      </a></span></span></div>\\n  </span><span class=\"cr-footer-line-height\">\\n          <span><i class=\"a-icon a-icon-text-separator\" role=\"img\" aria-label=\"|\"></i><span class=\"a-declarative\" data-action=\"cr-popup\" data-cr-popup=\"{&quot;width&quot;:&quot;580&quot;,&quot;title&quot;:&quot;ReportAbuse&quot;,&quot;url&quot;:&quot;/hz/reviews-render/report-abuse?voteDomain=Reviews&amp;ref=cm_cr_arp_d_rvw_hlp&amp;csrfT=gpQGSIA5s%2BVrPAUsMsccuB3G22aX5hdmuUYF%2Fy4AAAABAAAAAGEXmvZyYXcAAAAA%2B4kUEk%2F7iMGR3xPcX6iU&amp;entityId=R1VF9A85Z2EDBK&amp;sessionId=000-0000000-0000000&quot;,&quot;height&quot;:&quot;380&quot;}\"><a class=\"a-size-base a-link-normal a-color-secondary report-abuse-link a-text-normal\" href=\"/hz/reviews-render/report-abuse?voteDomain=Reviews&amp;ref=cm_cr_arp_d_rvw_hlp&amp;csrfT=gpQGSIA5s%2BVrPAUsMsccuB3G22aX5hdmuUYF%2Fy4AAAABAAAAAGEXmvZyYXcAAAAA%2B4kUEk%2F7iMGR3xPcX6iU&amp;entityId=R1VF9A85Z2EDBK&amp;sessionId=000-0000000-0000000\">Report abuse</a></span></span></span>\\n\\n        <div aria-expanded=\"false\" class=\"a-expander-content a-spacing-top-base a-spacing-large a-expander-inline-content a-expander-inner\" style=\"display:none\"><div class=\"a-row a-spacing-mini review-comments-header aok-hidden\"><ul class=\"a-viewoptions-list a-viewoptions-section a-span12\">\\n    <div class=\"a-row a-spacing-none a-grid-vertical-align a-grid-center\"><div class=\"a-column a-span6\"><span class=\"a-size-base a-viewoptions-list-label\">Showing <span class=\\'review-comment-count\\'>0</span> comments</span></div></div></ul>\\n</div><div class=\"a-section a-spacing-extra-large a-spacing-top-medium a-text-center comment-load-error aok-hidden\"><div class=\"a-box a-alert a-alert-error cr-error\" aria-live=\"assertive\" role=\"alert\"><div class=\"a-box-inner a-alert-container\"><h4 class=\"a-alert-heading\">There was a problem loading comments right now. Please try again later.</h4><i class=\"a-icon a-icon-alert\"></i><div class=\"a-alert-content\"></div></div></div></div><div class=\"a-section a-spacing-none review-comments\"></div><div class=\"a-spinner-wrapper comment-loading aok-hidden a-spacing-top-medium a-spacing-extra-large\"><span class=\"a-spinner a-spinner-medium\"></span></div><hr aria-hidden=\"true\" class=\"a-spacing-none a-spacing-top-large a-divider-normal\"/></div></div></div></div></div></div><div id=\"R2PZZ8AS18I22L\" data-hook=\"review\" class=\"a-section review aok-relative\"><div id=\"R2PZZ8AS18I22L-review-card\" class=\"a-row a-spacing-none\"><div id=\"customer_review-R2PZZ8AS18I22L\" class=\"a-section celwidget\"><div data-hook=\"genome-widget\" class=\"a-row a-spacing-mini\"><a href=\"/gp/profile/amzn1.account.AHANDZ6A7AIZM3MBZJM6GIKUCYPA\" class=\"a-profile\" data-a-size=\"small\"><div aria-hidden=\"true\" class=\"a-profile-avatar-wrapper\"><div class=\"a-profile-avatar\"><img src=\"https://images-na.ssl-images-amazon.com/images/G/01/x-locale/common/grey-pixel.gif\" class=\"a-lazy-loaded\" data-src=\"https://images-eu.ssl-images-amazon.com/images/S/amazon-avatars-global/default._CR0,0,1024,1024_SX48_.png\"/><noscript><img src=\"https://images-eu.ssl-images-amazon.com/images/S/amazon-avatars-global/default._CR0,0,1024,1024_SX48_.png\"/></noscript></div></div><div class=\"a-profile-content\"><span class=\"a-profile-name\">Anon</span></div></a></div><div class=\"a-row\"><a class=\"a-link-normal\" title=\"4.0 out of 5 stars\" href=\"/gp/customer-reviews/R2PZZ8AS18I22L?ASIN=B07968P6RD\"><i data-hook=\"review-star-rating\" class=\"a-icon a-icon-star a-star-4 review-rating\"><span class=\"a-icon-alt\">4.0 out of 5 stars</span></i></a><span class=\"a-letter-space\"></span><a data-hook=\"review-title\" class=\"a-size-base a-link-normal review-title a-color-base review-title-content a-text-bold\" href=\"/gp/customer-reviews/R2PZZ8AS18I22L?ASIN=B07968P6RD\">\\n\\n\\n\\n\\n\\n\\n\\n  \\n  \\n    <span>Mild aromatic best fine grinded and cone dripped. Enjoy black,</span>\\n  \\n</a></div><span data-hook=\"review-date\" class=\"a-size-base a-color-secondary review-date\">Reviewed in India on 12 August 2021</span><div class=\"a-row a-spacing-mini review-data review-format-strip\"><a data-hook=\"format-strip\" class=\"a-size-mini a-link-normal a-color-secondary\" href=\"/Blue-Tokai-Coffee-Roasters-Attikan/product-reviews/B00N5010BK?formatType=current_format\">Flavor name: Whole Bean<i class=\"a-icon a-icon-text-separator\" role=\"img\" aria-label=\"|\"></i>Size: 250 g (Pack of 1)</a><i class=\"a-icon a-icon-text-separator\" role=\"img\" aria-label=\"|\"></i><span class=\"a-declarative\" data-action=\"reviews:filter-action:push-state\" data-reviews:filter-action:push-state=\"{}\"><a data-reftag=\"cm_cr_arp_d_rvw_rvwer\" data-reviews-state-param=\"{&quot;pageNumber&quot;:&quot;1&quot;,&quot;reviewerType&quot;:&quot;avp_only_reviews&quot;}\" class=\"a-link-normal\" href=\"/Blue-Tokai-Coffee-Roasters-Attikan/product-reviews/B07968P6RD?reviewerType=avp_only_reviews\"><span data-hook=\"avp-badge\" class=\"a-size-mini a-color-state a-text-bold\">Verified Purchase</span></a></span></div><div class=\"a-row a-spacing-small review-data\"><span data-hook=\"review-body\" class=\"a-size-base review-text review-text-content\">\\n\\n\\n\\n\\n\\n\\n\\n\\n\\n  \\n  \\n    <span>\\n  I am a coffee junkie. Everyone teases me about coffee running thru my veins. I\\'ve had coffee from all over the world and this rates as good El Salvadore or light roasted Costa Rican. This coffee is best enjoyed black, it\\'s a mild brew so I just add a little more. I\\'ve only had my bag a few days and it\\'s almost gone. In the US I purchased coffee like this by the five pound bag which lasted a month. I would enjoy purchasing again. I\\'m eating it a 4 just because of the price to value ratio. But its certainly worth a try if you like to drink your coffee black,\\n</span>\\n  \\n</span></div><div class=\"a-row review-comments comments-for-R2PZZ8AS18I22L\"><div data-reftag=\"cm_cr_arp_d_cmt_opn\" aria-live=\"polite\" data-a-expander-name=\"review_comment_expander\" class=\"a-row a-expander-container a-expander-inline-container cr-vote-action-bar\"><span class=\"cr-vote\" data-hook=\"review-voting-widget\">\\n  <div class=\"cr-helpful-button aok-float-left\">\\n      <span class=\"a-button a-button-base\"><span class=\"a-button-inner\"><a href=\"https://www.amazon.in/ap/signin?openid.return_to=https%3A%2F%2Fwww.amazon.in%2FBlue-Tokai-Coffee-Roasters-Attikan%2Fproduct-reviews%2FB07968P6RD%3FvoteInstanceId%3DR2PZZ8AS18I22L%26voteValue%3D1%26reviewerType%3Dall_reviews%26csrfT%3Dglg2f0%252Bsb91o9oTRintsDmCSZWJQedfimwIkOIQAAAABAAAAAGEXmvZyYXcAAAAA%252B4kUEk%252F7iMGR3xPcX6iU&amp;openid.identity=http%3A%2F%2Fspecs.openid.net%2Fauth%2F2.0%2Fidentifier_select&amp;openid.claimed_id=http%3A%2F%2Fspecs.openid.net%2Fauth%2F2.0%2Fidentifier_select&amp;openid.assoc_handle=inflex&amp;openid.mode=checkid_setup&amp;openid.ns=http%3A%2F%2Fspecs.openid.net%2Fauth%2F2.0\" data-hook=\"vote-helpful-button\" class=\"a-button-text\" role=\"button\"><div class=\"cr-helpful-text\">\\n          Helpful</div>\\n      </a></span></span></div>\\n  </span><span class=\"cr-footer-line-height\">\\n          <span><i class=\"a-icon a-icon-text-separator\" role=\"img\" aria-label=\"|\"></i><span class=\"a-declarative\" data-action=\"cr-popup\" data-cr-popup=\"{&quot;width&quot;:&quot;580&quot;,&quot;title&quot;:&quot;ReportAbuse&quot;,&quot;url&quot;:&quot;/hz/reviews-render/report-abuse?voteDomain=Reviews&amp;ref=cm_cr_arp_d_rvw_hlp&amp;csrfT=glg2f0%2Bsb91o9oTRintsDmCSZWJQedfimwIkOIQAAAABAAAAAGEXmvZyYXcAAAAA%2B4kUEk%2F7iMGR3xPcX6iU&amp;entityId=R2PZZ8AS18I22L&amp;sessionId=000-0000000-0000000&quot;,&quot;height&quot;:&quot;380&quot;}\"><a class=\"a-size-base a-link-normal a-color-secondary report-abuse-link a-text-normal\" href=\"/hz/reviews-render/report-abuse?voteDomain=Reviews&amp;ref=cm_cr_arp_d_rvw_hlp&amp;csrfT=glg2f0%2Bsb91o9oTRintsDmCSZWJQedfimwIkOIQAAAABAAAAAGEXmvZyYXcAAAAA%2B4kUEk%2F7iMGR3xPcX6iU&amp;entityId=R2PZZ8AS18I22L&amp;sessionId=000-0000000-0000000\">Report abuse</a></span></span></span>\\n\\n        <div aria-expanded=\"false\" class=\"a-expander-content a-spacing-top-base a-spacing-large a-expander-inline-content a-expander-inner\" style=\"display:none\"><div class=\"a-row a-spacing-mini review-comments-header aok-hidden\"><ul class=\"a-viewoptions-list a-viewoptions-section a-span12\">\\n    <div class=\"a-row a-spacing-none a-grid-vertical-align a-grid-center\"><div class=\"a-column a-span6\"><span class=\"a-size-base a-viewoptions-list-label\">Showing <span class=\\'review-comment-count\\'>0</span> comments</span></div></div></ul>\\n</div><div class=\"a-section a-spacing-extra-large a-spacing-top-medium a-text-center comment-load-error aok-hidden\"><div class=\"a-box a-alert a-alert-error cr-error\" aria-live=\"assertive\" role=\"alert\"><div class=\"a-box-inner a-alert-container\"><h4 class=\"a-alert-heading\">There was a problem loading comments right now. Please try again later.</h4><i class=\"a-icon a-icon-alert\"></i><div class=\"a-alert-content\"></div></div></div></div><div class=\"a-section a-spacing-none review-comments\"></div><div class=\"a-spinner-wrapper comment-loading aok-hidden a-spacing-top-medium a-spacing-extra-large\"><span class=\"a-spinner a-spinner-medium\"></span></div><hr aria-hidden=\"true\" class=\"a-spacing-none a-spacing-top-large a-divider-normal\"/></div></div></div></div></div></div><div id=\"R1UJH896UAM0ZI\" data-hook=\"review\" class=\"a-section review aok-relative\"><div id=\"R1UJH896UAM0ZI-review-card\" class=\"a-row a-spacing-none\"><div id=\"customer_review-R1UJH896UAM0ZI\" class=\"a-section celwidget\"><div data-hook=\"genome-widget\" class=\"a-row a-spacing-mini\"><a href=\"/gp/profile/amzn1.account.AFRVV2RKBZDHC4QO4ILEFLYYMB4Q\" class=\"a-profile\" data-a-size=\"small\"><div aria-hidden=\"true\" class=\"a-profile-avatar-wrapper\"><div class=\"a-profile-avatar\"><img src=\"https://images-na.ssl-images-amazon.com/images/G/01/x-locale/common/grey-pixel.gif\" class=\"a-lazy-loaded\" data-src=\"https://images-eu.ssl-images-amazon.com/images/S/amazon-avatars-global/default._CR0,0,1024,1024_SX48_.png\"/><noscript><img src=\"https://images-eu.ssl-images-amazon.com/images/S/amazon-avatars-global/default._CR0,0,1024,1024_SX48_.png\"/></noscript></div></div><div class=\"a-profile-content\"><span class=\"a-profile-name\">Amazon Customer</span></div></a></div><div class=\"a-row\"><a class=\"a-link-normal\" title=\"2.0 out of 5 stars\" href=\"/gp/customer-reviews/R1UJH896UAM0ZI?ASIN=B07968P6RD\"><i data-hook=\"review-star-rating\" class=\"a-icon a-icon-star a-star-2 review-rating\"><span class=\"a-icon-alt\">2.0 out of 5 stars</span></i></a><span class=\"a-letter-space\"></span><a data-hook=\"review-title\" class=\"a-size-base a-link-normal review-title a-color-base review-title-content a-text-bold\" href=\"/gp/customer-reviews/R1UJH896UAM0ZI?ASIN=B07968P6RD\">\\n\\n\\n\\n\\n\\n\\n\\n  \\n  \\n    <span>Overpriced for the quantity</span>\\n  \\n</a></div><span data-hook=\"review-date\" class=\"a-size-base a-color-secondary review-date\">Reviewed in India on 15 July 2020</span><div class=\"a-row a-spacing-mini review-data review-format-strip\"><a data-hook=\"format-strip\" class=\"a-size-mini a-link-normal a-color-secondary\" href=\"/Blue-Tokai-Coffee-Roasters-Attikan/product-reviews/B00N500Z0W?formatType=current_format\">Flavor name: South Indian Filter<i class=\"a-icon a-icon-text-separator\" role=\"img\" aria-label=\"|\"></i>Size: 250 g (Pack of 1)</a><i class=\"a-icon a-icon-text-separator\" role=\"img\" aria-label=\"|\"></i><span class=\"a-declarative\" data-action=\"reviews:filter-action:push-state\" data-reviews:filter-action:push-state=\"{}\"><a data-reftag=\"cm_cr_arp_d_rvw_rvwer\" data-reviews-state-param=\"{&quot;pageNumber&quot;:&quot;1&quot;,&quot;reviewerType&quot;:&quot;avp_only_reviews&quot;}\" class=\"a-link-normal\" href=\"/Blue-Tokai-Coffee-Roasters-Attikan/product-reviews/B07968P6RD?reviewerType=avp_only_reviews\"><span data-hook=\"avp-badge\" class=\"a-size-mini a-color-state a-text-bold\">Verified Purchase</span></a></span></div><div class=\"a-row a-spacing-small review-data\"><span data-hook=\"review-body\" class=\"a-size-base review-text review-text-content\">\\n\\n\\n\\n\\n\\n\\n\\n\\n\\n  \\n  \\n    <span>\\n  I opened the packet and found it almost half empty for Rs 400. It took me two wasted cups of coffee to figure out that I need to add 3 tbsp of coffee in the filter to get a decent cup. The zip packaging didn\\'t close back once I opened the packet so I will have to keep it in an air tight container. The taste reminds me of honey. I guess it will last only 10 days. It\\'s too fancy for its own good. Not your decent cup of filter coffee. I won\\'t be buying again.\\n</span>\\n  \\n</span></div><div class=\"a-row review-comments comments-for-R1UJH896UAM0ZI\"><div data-reftag=\"cm_cr_arp_d_cmt_opn\" aria-live=\"polite\" data-a-expander-name=\"review_comment_expander\" class=\"a-row a-expander-container a-expander-inline-container cr-vote-action-bar\"><span class=\"cr-vote\" data-hook=\"review-voting-widget\">\\n  <div class=\"a-row a-spacing-small\"><span data-hook=\"helpful-vote-statement\" class=\"a-size-base a-color-tertiary cr-vote-text\">3 people found this helpful</span></div><div class=\"cr-helpful-button aok-float-left\">\\n      <span class=\"a-button a-button-base\"><span class=\"a-button-inner\"><a href=\"https://www.amazon.in/ap/signin?openid.return_to=https%3A%2F%2Fwww.amazon.in%2FBlue-Tokai-Coffee-Roasters-Attikan%2Fproduct-reviews%2FB07968P6RD%3FvoteInstanceId%3DR1UJH896UAM0ZI%26voteValue%3D1%26reviewerType%3Dall_reviews%26csrfT%3Dgij5O9XR8rHgYhU1WtV%252Fp07WkTWPXmYx6k8Pl%252F8AAAABAAAAAGEXmvZyYXcAAAAA%252B4kUEk%252F7iMGR3xPcX6iU&amp;openid.identity=http%3A%2F%2Fspecs.openid.net%2Fauth%2F2.0%2Fidentifier_select&amp;openid.claimed_id=http%3A%2F%2Fspecs.openid.net%2Fauth%2F2.0%2Fidentifier_select&amp;openid.assoc_handle=inflex&amp;openid.mode=checkid_setup&amp;openid.ns=http%3A%2F%2Fspecs.openid.net%2Fauth%2F2.0\" data-hook=\"vote-helpful-button\" class=\"a-button-text\" role=\"button\"><div class=\"cr-helpful-text\">\\n          Helpful</div>\\n      </a></span></span></div>\\n  </span><span class=\"cr-footer-line-height\">\\n          <span><i class=\"a-icon a-icon-text-separator\" role=\"img\" aria-label=\"|\"></i><span class=\"a-declarative\" data-action=\"cr-popup\" data-cr-popup=\"{&quot;width&quot;:&quot;580&quot;,&quot;title&quot;:&quot;ReportAbuse&quot;,&quot;url&quot;:&quot;/hz/reviews-render/report-abuse?voteDomain=Reviews&amp;ref=cm_cr_arp_d_rvw_hlp&amp;csrfT=gij5O9XR8rHgYhU1WtV%2Fp07WkTWPXmYx6k8Pl%2F8AAAABAAAAAGEXmvZyYXcAAAAA%2B4kUEk%2F7iMGR3xPcX6iU&amp;entityId=R1UJH896UAM0ZI&amp;sessionId=000-0000000-0000000&quot;,&quot;height&quot;:&quot;380&quot;}\"><a class=\"a-size-base a-link-normal a-color-secondary report-abuse-link a-text-normal\" href=\"/hz/reviews-render/report-abuse?voteDomain=Reviews&amp;ref=cm_cr_arp_d_rvw_hlp&amp;csrfT=gij5O9XR8rHgYhU1WtV%2Fp07WkTWPXmYx6k8Pl%2F8AAAABAAAAAGEXmvZyYXcAAAAA%2B4kUEk%2F7iMGR3xPcX6iU&amp;entityId=R1UJH896UAM0ZI&amp;sessionId=000-0000000-0000000\">Report abuse</a></span></span></span>\\n\\n        <div aria-expanded=\"false\" class=\"a-expander-content a-spacing-top-base a-spacing-large a-expander-inline-content a-expander-inner\" style=\"display:none\"><div class=\"a-row a-spacing-mini review-comments-header aok-hidden\"><ul class=\"a-viewoptions-list a-viewoptions-section a-span12\">\\n    <div class=\"a-row a-spacing-none a-grid-vertical-align a-grid-center\"><div class=\"a-column a-span6\"><span class=\"a-size-base a-viewoptions-list-label\">Showing <span class=\\'review-comment-count\\'>0</span> comments</span></div></div></ul>\\n</div><div class=\"a-section a-spacing-extra-large a-spacing-top-medium a-text-center comment-load-error aok-hidden\"><div class=\"a-box a-alert a-alert-error cr-error\" aria-live=\"assertive\" role=\"alert\"><div class=\"a-box-inner a-alert-container\"><h4 class=\"a-alert-heading\">There was a problem loading comments right now. Please try again later.</h4><i class=\"a-icon a-icon-alert\"></i><div class=\"a-alert-content\"></div></div></div></div><div class=\"a-section a-spacing-none review-comments\"></div><div class=\"a-spinner-wrapper comment-loading aok-hidden a-spacing-top-medium a-spacing-extra-large\"><span class=\"a-spinner a-spinner-medium\"></span></div><hr aria-hidden=\"true\" class=\"a-spacing-none a-spacing-top-large a-divider-normal\"/></div></div></div></div></div></div><div class=\"a-form-actions a-spacing-top-extra-large\"><span class=\"a-declarative\" data-action=\"reviews:page-action\" data-reviews:page-action=\"{&quot;allowLinkDefault&quot;:&quot;1&quot;}\"><div id=\"cm_cr-pagination_bar\" data-hook=\"pagination-bar\" data-reftag=\"cm_cr_arp_d_paging_btm\" class=\"a-text-center celwidget a-text-base\" role=\"navigation\"><ul class=\"a-pagination\"><li class=\"a-disabled\">←<span class=\"a-letter-space\"></span><span class=\"a-letter-space\"></span>Previous page</li><li class=\"a-last\"><a href=\"/Blue-Tokai-Coffee-Roasters-Attikan/product-reviews/B07968P6RD?pageNumber=2&amp;reviewerType=all_reviews\">Next page<span class=\"a-letter-space\"></span><span class=\"a-letter-space\"></span>→</a></li></ul></div></span></div></div></div><div class=\"a-spinner-wrapper reviews-load-progess aok-hidden a-spacing-top-large\"><span class=\"a-spinner a-spinner-medium\"></span></div></div><div id=\"reviews-spacing\" class=\"a-section\"></div></div><script type=\"text/javascript\">\\n     if (ue) {\\n         uet(\\'cf\\');\\n     }\\n</script><script>window.P.register(\\'cf\\');</script>\\n<div class=\"a-fixed-right-grid-col right-column a-col-right\" style=\"width:305px;margin-right:-305px;float:left;\">\\n\\n\\n\\n\\n\\n\\n\\n\\n\\n\\n\\n\\n\\n\\n\\n\\n\\n\\n\\n<a name=\"Ask\"></a>\\n<div class=\"a-section askReviewsPageAskWidget\">\\n  <h4 class=\"a-spacing-mini a-text-bold\">\\n    Questions? Get fast answers from reviewers\\n  </h4>\\n  <form class=\"askQuestionForm\" method=\"POST\" action=\"/ask/questions/asin/B07968P6RD/create\">\\n    <input type=\"hidden\" name=\"askQuestionSource\" value=\"SIMPLE_STACK_SEE_ALL_REVIEWS_PAGE\"/>\\n    <input type=\"hidden\" name=\"askQuestionSourcePage\" value=\"REVIEW_PAGE\"/>\\n    <input type=\"hidden\" name=\"askErrorUrl\" value=\"/gp/customer-reviews/product/B07968P6RD#Ask\"/>\\n    <input type=\\'hidden\\' name=\\'__token_\\' value=\\'5rVSa1DZ6JTE6PlzhWBUr7WyVBEj3D\\' />\\n    <div class=\"a-input-text-wrapper a-span12 a-spacing-base\"><textarea maxlength=\"150\" placeholder=\"What do you want to know about Blue Tokai Coffee Roasters Attikan Estate -Medium Dark Roast - Cold Brew (250 Gm)?\" name=\"askQuestionText\" style=\"height:70px;\"></textarea></div>\\n\\n    <span class=\"a-button a-button-base askSubmitQuestion\"><span class=\"a-button-inner\"><input class=\"a-button-input\" type=\"submit\" value=\"Ask\"/><span class=\"a-button-text\" aria-hidden=\"true\">\\n      Ask\\n    </span></span></span>\\n    <div class=\"a-section a-spacing-micro cdFailedQuestionMessage badQuestion\">Please make sure that you\\'ve entered a valid question.  You can edit your question or post anyway.</div>\\n    <div class=\"a-section a-spacing-micro cdFailedQuestionMessage emptyQuestion\">Please enter a question.</div>\\n    \\n      \\n\\n\\n\\n\\n\\n\\n    \\n<a class=\"a-link-normal askSeeAllQuestionsLink\" href=\"/ask/questions/asin/B07968P6RD/ref=ask_rp_reva_ql_hza\">\\n    See all 43 answered questions\\n</a>\\n\\n    \\n  </form>\\n  \\n\\n\\n\\n\\n\\n\\n</div>\\n<hr aria-hidden=\"true\" class=\"a-divider-normal\"/><div id=\"cm_cr_customer_service_widget\" class=\"a-row celwidget\"><span class=\"a-size-base\">Need customer service? <a class=\"a-link-normal\" target=\"_blank\" href=\"/gp/help/customer/contact-us?initialIssue=cust-review\">Click here</a></span></div></div></div></div><div id=\"cm_cr-footer_dp_link\" class=\"a-section a-spacing-top-large celwidget\"><span class=\"a-size-base back-carat a-text-bold\">&lsaquo;&#32;</span><a class=\"a-size-base a-link-normal a-text-bold\" href=\"/Blue-Tokai-Coffee-Roasters-Attikan/dp/B07968P6RD\">See all details for Blue Tokai Coffee Roasters Attikan Estate -Medium Dark Roast - Cold...</a></div></div><!--&&&Portal&Delimiter&&&--><!-- sp:end-feature:host-atf -->\\n<!-- sp:feature:nav-btf -->\\n<!-- NAVYAAN BTF START -->\\n\\n\\n\\n\\n  \\n\\n\\n\\n\\n\\n\\n\\n\\n\\n\\n<style type=\"text/css\">\\n\\n\\n\\n#csr-hcb-wrapper {\\n  display: none;\\n}\\n\\n.bia-item .bia-action-button {\\n  display: inline-block;\\n  height: 22px;\\n  margin-top: 3px;\\n  padding: 0px;\\n  overflow: hidden;\\n  text-align: center;\\n  vertical-align: middle;\\n  text-decoration: none;\\n  color: #111;\\n  font-family: Arial,sans-serif;\\n  font-size: 11px;\\n  font-style: normal;\\n  font-weight: normal;\\n  line-height: 19px;\\n  cursor: pointer;\\n  outline: 0;\\n  border: 1px solid;\\n  -webkit-border-radius: 3px 3px 3px 3px;\\n  -moz-border-radius: 3px 3px 3px 3px;\\n  border-radius: 3px 3px 3px 3px;\\n  border-radius: 0\\\\9;\\n  border-color: #bcc1c8 #bababa #adb2bb;\\n  background: #eff0f3;\\n  background: -moz-linear-gradient(top, #f7f8fa, #e7e9ec);\\n  background: -webkit-gradient(linear, left top, left bottom, color-stop(0%, #f7f8fa), color-stop(100%, #e7e9ec));\\n  background: -webkit-linear-gradient(top, #f7f8fa, #e7e9ec);\\n  background: -o-linear-gradient(top, #f7f8fa, #e7e9ec);\\n  background: -ms-linear-gradient(top, #f7f8fa, #e7e9ec);\\n  background: linear-gradient(top, #f7f8fa, #e7e9ec);\\n  filter: progid:DXImageTransform.Microsoft.gradient(startColorstr=\\'#f7f8fa\\', endColorstr=\\'#e7e9ec\\',GradientType=0);\\n  *zoom: 1;\\n  -webkit-box-shadow: inset 0 1px 0 0 #fff;\\n  -moz-box-shadow: inset 0 1px 0 0 #fff;\\n  box-shadow: inset 0 1px 0 0 #fff;\\n  box-sizing: border-box;\\n}\\n\\n#bia-hcb-widget .a-button-text {\\n    font-family: Arial,sans-serif !important;\\n}\\n\\n#bia_content .a-icon-row {\\n    display: none;\\n}\\n\\n#bia-hcb-widget .a-icon-row {\\n      display: none;\\n}\\n\\n#bia_content {\\n    width: 266px;\\n}\\n\\n.nav-flyout-sidePanel {\\n    width: 266px !important;\\n}\\n.aui-atc-button {\\n    margin-top: 3px;\\n    overflow: hidden;\\n    color: #111;\\n    font-family: Arial,sans-serif;\\n    font-size: 11px;\\n    font-style: normal;\\n    font-weight: normal;\\n}\\n.bia-item .bia-action-button:hover {\\n  border-color: #aeb4bd #adadad #9fa5af;\\n  background: #e0e3e8;\\n  background: -moz-linear-gradient(top, #e7eaf0, #d9dce1);\\n  background: -webkit-gradient(linear, left top, left bottom, color-stop(0%, #e7eaf0), color-stop(100%, #d9dce1));\\n  background: -webkit-linear-gradient(top, #e7eaf0, #d9dce1);\\n  background: -o-linear-gradient(top, #e7eaf0, #d9dce1);\\n  background: -ms-linear-gradient(top, #e7eaf0, #d9dce1);\\n  background: linear-gradient(top, #e7eaf0, #d9dce1);\\n  filter: progid:DXImageTransform.Microsoft.gradient(startColorstr=\\'#e7eaf0\\', endColorstr=\\'#d9dce1\\',GradientType=0);\\n  *zoom: 1;\\n  -webkit-box-shadow: 0 1px 3px rgba(255, 255, 255, 0.6) inset;\\n  -moz-box-shadow: 0 1px 3px rgba(255, 255, 255, 0.6) inset;\\n  box-shadow: 0 1px 3px rgba(255, 255, 255, 0.6) inset;\\n}\\n\\n.bia-item .bia-action-button:active {\\n  background-color: #dcdfe3;\\n  -webkit-box-shadow: 0 1px 3px rgba(0, 0, 0, 0.2) inset;\\n  -moz-box-shadow: 0 1px 3px rgba(0, 0, 0, 0.2) inset;\\n  box-shadow: 0 1px 3px rgba(0, 0, 0, 0.2) inset;\\n}\\n\\n.bia-item .bia-action-button-disabled {\\n  background: #f7f8fa;\\n  color: #b7b7b7;\\n  border-color: #e0e0e0;\\n  box-shadow: none;\\n  cursor: default;\\n}\\n\\n.bia-item .bia-action-button-disabled:hover {\\n  background: #f7f8fa;\\n  color: #b7b7b7;\\n  border-color: #e0e0e0;\\n  box-shadow: none;\\n  cursor: default;\\n}\\n\\n.bia-action-button-inner {\\n  border-bottom-color: #111111;\\n  border-bottom-style: none;\\n  border-bottom-width: 0px;\\n  border-image-outset: 0px;\\n  border-image-repeat: stretch;\\n  border-image-slice: 100%;\\n  border-image-width: 1;\\n  border-left-color: #111111;\\n  border-left-style: none;\\n  border-left-width: 0px;\\n  border-right-color: #111111;\\n  border-right-style: none;\\n  border-right-width: 0px;\\n  border-top-color: #111111;\\n  border-top-style: none;\\n  border-top-width: 0px;\\n  box-sizing: border-box;\\n  display: block;\\n  height: 20px;\\n  line-height: 19px;\\n  overflow: hidden;\\n  position: relative;\\n  padding: 0;\\n  vertical-align: baseline;\\n}\\n\\n.bia-action-inner {\\n  border: 0;\\n  display: inline;\\n  font-size: 11px;\\n  height: auto;\\n  line-height: 19px;\\n  padding: 0px 4px 0px 4px;\\n  text-align: center;\\n  width: auto;\\n  white-space: nowrap;\\n}\\n\\n.csr-content {\\n  font-family: Arial, Verdana, Helvetica, sans-serif;\\n  width: 220px;\\n  line-height: 19px;\\n}\\n\\n.bia-header {\\n  font-size: 16px;\\n  color: #E47911;\\n  padding-bottom: 10px;\\n}\\n\\n.bia-header-widget {\\n  white-space: nowrap;\\n  overflow: hidden;\\n}\\n\\n.b2b-nav-header {\\n  white-space: nowrap;\\n  overflow: hidden;\\n  margin-bottom: 18px;\\n}\\n\\n.bia-space-right {\\n  padding-right: 18px;\\n  white-space: normal;\\n  float: left;\\n}\\n\\n.b2b-see-more-link a {\\n  display: inline;\\n  float: left;\\n  margin-top: 3px;\\n  margin-left: 3px;\\n}\\n\\n.hcb-see-more-link a {\\n  color: #333;\\n  font-size: 13px;\\n  text-decoration: none;\\n  font-family: Arial, Verdana, Helvetica, sans-serif;\\n}\\n\\n.bia-hcb-body {\\n  overflow: hidden;\\n}\\n\\n.bia-item {\\n  width: 220px;\\n  display: inline-block;\\n  margin-bottom: 20px;\\n}\\n\\n.bia-item-image {\\n  float: left;\\n  margin-right: 15px;\\n  width: 75px;\\n  height: 75px;\\n}\\n\\n.bia-image {\\n  max-height: 75px;\\n  max-width: 75px;\\n  border: 0;\\n}\\n\\n.bia-item-data {\\n  float: left;\\n  width: 130px;\\n}\\n\\n.bia-title {\\n  line-height: 19px;\\n  font-size: 13px;\\n  max-height: 60px;\\n  overflow: hidden;\\n}\\n\\n.bia-link:link {\\n  text-decoration: none;\\n  font-family: Arial, Verdana, Helvetica, sans-serif;\\n}\\n\\n.bia-link:visited {\\n  text-decoration: none;\\n  color: #004B91;\\n}\\n\\n.bia-price-nav {\\n  margin-top: -4px;\\n  color: #800;\\n  font-size: 12px;\\n  vertical-align: bottom;\\n}\\n\\n.bia-price-yorr {\\n    margin-top: -8px;\\n    color: #800;\\n    font-size: 12px;\\n    vertical-align: bottom;\\n}\\n\\n.bia-price {\\n  color: #800;\\n  font-size: 12px;\\n  vertical-align: bottom;\\n}\\n\\n.bia-vpc-t1{\\n  color: #008a00;\\n  font-size: 12px;\\n  font-weight: bold;\\n}\\n\\n.bia-vpc-t2{\\n  color: #008a00;\\n  font-size: 12px;\\n}\\n\\n.bia-vpc-t3{\\n  font-size: 12px;\\n  line-height: 20px;\\n}\\n\\n.bia-vpc-t3-badge{\\n  color: #ffffff;\\n  background-color: #e47911;\\n  font-weight: normal;\\n\\n}\\n\\n.bia-vpc-t3-badge::before{\\n  border-bottom: 10px solid #e47911;\\n}\\n\\n.bia-vpc-t3-badge:after{\\n  border-top: 10px solid #e47911;\\n}\\n\\n.bia-ppu {\\n  color: #800;\\n  font-size: 10px;\\n}\\n\\n.bia-prime-badge {\\n  border: 0;\\n  vertical-align: middle;\\n}\\n\\n.bia-cart-action {\\n  display: none;\\n}\\n\\n.bia-cart-msg {\\n  display: block;\\n  font-family: Arial, Verdana, Helvetica, sans-serif;\\n  line-height: 19px;\\n}\\n\\n.bia-cart-icon {\\n  background-image:\\n      url(\"https://images-eu.ssl-images-amazon.com/images/G/31/Recommendations/MissionExperience/BIA/bia-atc-confirm-icon.jpg\");\\n  display: inline-block;\\n  width: 14px;\\n  height: 13px;\\n  top: 3px;\\n  line-height: 19px;\\n  position: relative;\\n  vertical-align: top;\\n}\\n\\n.bia-cart-success {\\n  color: #090!important;\\n  display: inline-block;\\n  margin: 0;\\n  font-size: 13px;\\n  font-style: normal;\\n  font-weight: bold;\\n  font-family: Arial, Verdana, Helvetica, sans-serif;\\n}\\n\\n.bia-cart-title {\\n  margin-bottom: 3px;\\n}\\n\\n.bia-cart-form {\\n  margin: 0px;\\n}\\n\\n.bia-inline-cart-form {\\n  margin: 0px;\\n}\\n\\n.bia-cart-submit {\\n  cursor: inherit;\\n  left: 0;\\n  top: 0;\\n  line-height: 19px;\\n  height: 100%;\\n  width: 100%;\\n  padding: 1px 6px 1px 6px;\\n  position: absolute;\\n  opacity: 0.01;\\n  overflow: visible;\\n  filter: alpha(opacity=1);\\n  z-index: 20;\\n}\\n\\n.bia-link-caret {\\n  color: #e47911;\\n}\\n\\n</style>\\n\\n\\n\\n\\n<script type=\"text/javascript\">\\n(function ($Nav) {\\n\"use strict\";\\n\\nif (typeof $Nav === \\'undefined\\' || $Nav === null || typeof $Nav.when !== \\'function\\') {\\n    return;\\n}\\n$Nav.when(\\'$\\', \\'data\\', \\'flyout.yourAccount\\', \\'sidepanel.csYourAccount\\',\\n          \\'config\\')\\n    .run(\"BuyitAgain-YourAccount-SidePanel\",\\n    function ($, data, yaFlyout, csYourAccount, config) {\\n        if (config.disableBuyItAgain) {\\n          return;\\n        }\\n        var render = function (data) {\\n            if (data.status) {\\n                var widgetHtml = data.widgetBegin +\\n                                 data.faceouts.join(\\'\\') +\\n                                 data.widgetEnd;\\n                navbar.sidePanel({\\n                    flyoutName: \\'yourAccount\\',\\n                    data: {html: widgetHtml}\\n                });\\n            }\\n        };\\n\\n        var renderBuyItAgain = function (biaData) {\\n            if (csYourAccount) {\\n                csYourAccount.register(render, biaData);\\n            } else {\\n                render(biaData);\\n            }\\n        };\\n\\n        yaFlyout.sidePanel.onData(function() {\\n            enableInlineAddToCart($);\\n            enableImpressionLogging($);\\n\\n            P.when(\\'A\\',\\'p13n-sc-static-list\\').execute(function(A, StaticList) {\\n                var navContainer = A.$(\"#bia-hcb-widget\");\\n                var navList = navContainer.find(\\'.p13n-sc-static-list\\');\\n                A.$(navList).bind(\\'truncateList\\', function() {\\n                    var staticList = new StaticList(navList);\\n                });\\n\\n                A.$(navList).trigger(\\'truncateList\\');\\n            });\\n\\n            if (window.P) {\\n                P.when(\\'A\\', \\'a-truncate\\').execute(function(A, truncate) {\\n                    var truncateElements = A.$(\\'.a-truncate\\');\\n                    A.each(truncateElements, function(element) {\\n                        truncate.get(element).update();\\n                    });\\n                });\\n            }\\n\\n        });\\n\\n    yaFlyout.onRender(function() {\\n            $.ajax({\\n                url: \\'/gp/bia/external/bia-hcb-ajax-handler.html\\',\\n                data: {\"biaHcbRid\":\"SRJW3QYRNBB6GYY6688E\"},\\n                dataType: \\'json\\',\\n                timeout: 4*1000,\\n                success: renderBuyItAgain,\\n                error: function (jqXHR, textStatus, errorThrown) {\\n                }\\n            });\\n        });\\n\\n\\n    var updateNavCartQty = function(qty) {\\n        if (typeof window.navbar === \\'object\\' && typeof window.navbar.setCartCount === \\'function\\') {\\n            window.navbar.setCartCount(qty);\\n        }\\n    };\\n\\n    var addToCart = function(params, callback) {\\n        $.ajax({\\n           url: \\'/gp/bia/external/bia-cart-ajax-handler.html\\',\\n           data: params,\\n           dataType: \\'json\\', \\n           timeout: 2000,\\n           success: function(response) { callback(response); },\\n           error: function() { callback({ok:0}); }\\n        });\\n    };\\n\\n    var enableInlineAddToCart = function ($) {\\n        if ($(\".bia-inline-cart-form\").length === 0) {\\n            return;\\n        }\\n\\n        var inlineAddToCartHandler = function(e) {\\n            e.preventDefault();\\n\\n            var $target = $(e.target);\\n            var $item = $target.parents(\".bia-item\");\\n            var $submit = $item.find(\".bia-cart-submit\");\\n            var params = $target.attr(\\'data-order\\');\\n\\n            $submit.attr(\"disabled\", true);\\n            $item.find(\".bia-action-button\").addClass(\"bia-action-button-disabled\");\\n\\n            addToCart(params, \\n                function(response) {\\n                    if(response && response.ok && response.ok === \\'1\\') {\\n                        $item.find(\".bia-faceout\").hide();\\n                        $item.find(\".bia-cart-action\").show();\\n                        updateNavCartQty(response.numActiveItemsInCart); \\n                        //TODO: add metric\\n                    } else {\\n                        $target.unbind(\"submit\", inlineAddToCartHandler);\\n                        $submit.attr(\"disabled\", false);\\n                        $submit.click();\\n                        //TODO: add metric\\n                    }\\n                }\\n            );\\n        };\\n\\n        $(\".bia-inline-cart-form\").bind(\"submit\", inlineAddToCartHandler);\\n    };\\n\\n    var enableImpressionLogging = function ($) {\\n\\n        var registerToLog = function (p13nLogger, callOnVisible) {\\n            var featureEl = $(\"#bia-hcb-widget\");\\n            callOnVisible.register(featureEl, function () {\\n                p13nLogger.logAction({\\n                                action: \\'view\\', \\n                                featureElement: featureEl, \\n                                replicateAsinImpressions: true\\n                              });\\n            });\\n        };\\n        \\n        AmazonUIPageJS.when(\\'p13n-sc-logger\\', \\'p13n-sc-call-on-visible\\')\\n            .execute(function(p13nLogger, callOnVisible) {\\n                    registerToLog(p13nLogger, callOnVisible);});\\n    };\\n\\n    });\\n\\n})(window.$Nav);\\n//# sourceURL=bia-hcb-js.mi\\n</script>\\n\\n\\n<script type=\"text/javascript\">\\n  window.$Nav && $Nav.when(\"data\").run(function(data){\\n    data({\\n      \"accountListContent\":{\"html\":\"<div id=\\'nav-al-container\\'><div id=\\'nav-al-signin\\'><div id=\\'nav-flyout-ya-signin\\' class=\\'nav-flyout-content nav-flyout-accessibility\\'><a href=\\'https://www.amazon.in/ap/signin?openid.pape.max_auth_age=0&openid.return_to=https%3A%2F%2Fwww.amazon.in%2Fa%2Fproduct-reviews%2FB07DMBKVWW%2Fref%3Dcm_cr_othr_d_paging_btm_1%2F%3F_encoding%3DUTF8%26ie%3DUTF8%26pageNumber%3D1%26pageSize%3D50%26sortBy%3Drecent%26ref_%3Dnav_signin&openid.identity=http%3A%2F%2Fspecs.openid.net%2Fauth%2F2.0%2Fidentifier_select&openid.assoc_handle=inflex&openid.mode=checkid_setup&openid.claimed_id=http%3A%2F%2Fspecs.openid.net%2Fauth%2F2.0%2Fidentifier_select&openid.ns=http%3A%2F%2Fspecs.openid.net%2Fauth%2F2.0&\\' rel=\\'nofollow\\' class=\\'nav-action-button\\' data-nav-role=\\'signin\\' data-nav-ref=\\'nav_signin\\'><span class=\\'nav-action-inner\\'>Sign in</span></a><div id=\\'nav-flyout-ya-newCust\\' class=\\'nav_pop_new_cust nav-flyout-content nav-flyout-accessibility\\'>New customer? <a href=\\'https://www.amazon.in/ap/register?openid.pape.max_auth_age=0&openid.return_to=https%3A%2F%2Fwww.amazon.in%2Fa%2Fproduct-reviews%2FB07DMBKVWW%2Fref%3Dcm_cr_othr_d_paging_btm_1%2F%3F_encoding%3DUTF8%26ie%3DUTF8%26pageNumber%3D1%26pageSize%3D50%26sortBy%3Drecent%26ref_%3Dnav_newcust&openid.identity=http%3A%2F%2Fspecs.openid.net%2Fauth%2F2.0%2Fidentifier_select&openid.assoc_handle=inflex&openid.mode=checkid_setup&openid.claimed_id=http%3A%2F%2Fspecs.openid.net%2Fauth%2F2.0%2Fidentifier_select&openid.ns=http%3A%2F%2Fspecs.openid.net%2Fauth%2F2.0&\\' rel=\\'nofollow\\' class=\\'nav-a\\'>Start here.</a></div></div></div><div id=\\'nav-al-wishlist\\' class=\\'nav-al-column nav-tpl-itemList nav-flyout-content nav-flyout-accessibility\\'><div class=\\'nav-title\\' id=\\'nav-al-title\\'>Your Lists</div><a href=\\'/gp/registry/wishlist?triggerElementID=createList&ref_=nav_ListFlyout_gno_createwl\\' class=\\'nav-link nav-item\\'><span class=\\'nav-text\\'>Create a Wish List</span></a> <a href=\\'/wishlist/universal?ref_=nav_ListFlyout_gno_listpop_uwl\\' class=\\'nav-link nav-item\\'><span class=\\'nav-text\\'>Wish from Any Website</span></a> <a href=\\'/baby-reg/homepage?ref_=nav_ListFlyout_gno_listpop_br\\' class=\\'nav-link nav-item\\'><span class=\\'nav-text\\'>Baby Wish List</span></a> <a href=\\'/discover/?ref_=nav_ListFlyout_sbl\\' class=\\'nav-link nav-item\\'><span class=\\'nav-text\\'>Discover Your Style</span></a> <a href=\\'/showroom?ref_=nav_ListFlyout_srm_your_desk_wl_in\\' class=\\'nav-link nav-item\\'><span class=\\'nav-text\\'>Explore Showroom</span></a></div><div id=\\'nav-al-your-account\\' class=\\'nav-al-column nav-template nav-flyout-content nav-tpl-itemList nav-flyout-accessibility\\'><div class=\\'nav-title\\'>Your Account</div><a href=\\'/gp/css/homepage.html?ref_=nav_AccountFlyout_ya\\' class=\\'nav-link nav-item\\'><span class=\\'nav-text\\'>Your Account</span></a> <a id=\\'nav_prefetch_yourorders\\' href=\\'/gp/css/order-history?ref_=nav_AccountFlyout_orders\\' class=\\'nav-link nav-item\\'><span class=\\'nav-text\\'>Your Orders</span></a> <a href=\\'/gp/registry/wishlist?requiresSignIn=1&ref_=nav_AccountFlyout_wl\\' class=\\'nav-link nav-item\\'><span class=\\'nav-text\\'>Your Wish List</span></a> <a href=\\'/gp/yourstore?ref_=nav_AccountFlyout_recs\\' class=\\'nav-link nav-item\\'><span class=\\'nav-text\\'>Your Recommendations</span></a> <a href=\\'/gp/primecentral?ref_=nav_AccountFlyout_prime\\' class=\\'nav-link nav-item\\'><span class=\\'nav-text\\'>Your Prime Membership</span></a> <a href=\\'/gp/redirect.html?location=https%3A%2F%2Fwww.primevideo.com%2F%3Fref_%3D_apv&source=nav_linktree&token=13D4F90D28CD96790B94E6091246BB1B2AE9FA05\\' class=\\'nav-link nav-item\\'><span class=\\'nav-text\\'>Your Prime Video</span></a> <a href=\\'/auto-deliveries?ref_=nav_AccountFlyout_sns\\' class=\\'nav-link nav-item\\'><span class=\\'nav-text\\'>Your Subscribe & Save Items</span></a> <a href=\\'/hz5/yourmembershipsandsubscriptions?ref_=nav_AccountFlyout_digital_subscriptions\\' class=\\'nav-link nav-item\\'><span class=\\'nav-text\\'>Memberships & Subscriptions</span></a> <a href=\\'/gp/browse.html?node=21102587031&ref_=nav_ya_flyout_b2b_reg\\' class=\\'nav-link nav-item\\'><span class=\\'nav-text\\'>Your Amazon Business Account</span></a> <a href=\\'/b/?node=2838698031&ld=AZINSOAYAFlyout&ref_=nav_AccountFlyout_sell\\' class=\\'nav-link nav-item\\'><span class=\\'nav-text\\'>Your Seller Account</span></a> <a href=\\'/hz/mycd/myx?ref_=nav_AccountFlyout_myk\\' class=\\'nav-link nav-item\\'><span class=\\'nav-text\\'>Manage Your Content and Devices</span></a></div></div>\"},\\n      \"signinContent\":{\"html\":\"<div id=\\'nav-signin-tooltip\\'><a href=\\'https://www.amazon.in/ap/signin?openid.pape.max_auth_age=0&openid.return_to=https%3A%2F%2Fwww.amazon.in%2Fa%2Fproduct-reviews%2FB07DMBKVWW%2Fref%3Dcm_cr_othr_d_paging_btm_1%2F%3F_encoding%3DUTF8%26ie%3DUTF8%26pageNumber%3D1%26pageSize%3D50%26sortBy%3Drecent%26ref_%3Dnav_custrec_signin&openid.identity=http%3A%2F%2Fspecs.openid.net%2Fauth%2F2.0%2Fidentifier_select&openid.assoc_handle=inflex&openid.mode=checkid_setup&openid.claimed_id=http%3A%2F%2Fspecs.openid.net%2Fauth%2F2.0%2Fidentifier_select&openid.ns=http%3A%2F%2Fspecs.openid.net%2Fauth%2F2.0&\\' class=\\'nav-action-button\\' data-nav-role=\\'signin\\' data-nav-ref=\\'nav_custrec_signin\\'><span class=\\'nav-action-inner\\'>Sign in</span></a><div class=\\'nav-signin-tooltip-footer\\'>New customer? <a href=\\'https://www.amazon.in/ap/register?openid.pape.max_auth_age=0&openid.return_to=https%3A%2F%2Fwww.amazon.in%2Fa%2Fproduct-reviews%2FB07DMBKVWW%2Fref%3Dcm_cr_othr_d_paging_btm_1%2F%3F_encoding%3DUTF8%26ie%3DUTF8%26pageNumber%3D1%26pageSize%3D50%26sortBy%3Drecent%26ref_%3Dnav_custrec_newcust&openid.identity=http%3A%2F%2Fspecs.openid.net%2Fauth%2F2.0%2Fidentifier_select&openid.assoc_handle=inflex&openid.mode=checkid_setup&openid.claimed_id=http%3A%2F%2Fspecs.openid.net%2Fauth%2F2.0%2Fidentifier_select&openid.ns=http%3A%2F%2Fspecs.openid.net%2Fauth%2F2.0&\\' class=\\'nav-a\\'>Start here.</a></div></div>\"},\\n      \"templates\":{\"itemList\":\"<# var hasColumns = (function () {  var checkColumns = function (_items) {    if (!_items) {      return false;    }    for (var i=0; i<_items.length; i++) {      if (_items[i].columnBreak || (_items[i].items && checkColumns(_items[i].items))) {        return true;      }    }    return false;  };  return checkColumns(items);}()); #><# if(hasColumns) { #>  <# if(items[0].image && items[0].image.src) { #>    <div class=\\'nav-column nav-column-first nav-column-image\\'>  <# } else if (items[0].greeting) { #>    <div class=\\'nav-column nav-column-first nav-column-greeting\\'>  <# } else { #>    <div class=\\'nav-column nav-column-first\\'>  <# } #><# } #><# var renderItems = function(items) { #>  <# jQuery.each(items, function (i, item) { #>    <# if(hasColumns && item.columnBreak) { #>      <# if(item.image && item.image.src) { #>        </div><div class=\\'nav-column nav-column-notfirst nav-column-break nav-column-image\\'>      <# } else if (item.greeting) { #>        </div><div class=\\'nav-column nav-column-notfirst nav-column-break nav-column-greeting\\'>      <# } else { #>        </div><div class=\\'nav-column nav-column-notfirst nav-column-break\\'>      <# } #>    <# } #>    <# if(item.dividerBefore) { #>      <div class=\\'nav-divider\\'></div>    <# } #>    <# if(item.text || item.content) { #>      <# if(item.url) { #>        <a href=\\'<#=item.url #>\\' class=\\'nav-link      <# } else {#>        <span class=\\'      <# } #>      <# if(item.panelKey) { #>        nav-hasPanel      <# } #>      <# if(item.items) { #>        nav-title      <# } #>      <# if(item.decorate == \\'carat\\') { #>        nav-carat      <# } #>      <# if(item.decorate == \\'nav-action-button\\') { #>        nav-action-button      <# } #>      nav-item\\'      <# if(item.extra) { #>        <#=item.extra #>      <# } #>      <# if(item.id) { #>        id=\\'<#=item.id #>\\'      <# } #>      <# if(item.dataNavRole) { #>        data-nav-role=\\'<#=item.dataNavRole #>\\'      <# } #>      <# if(item.dataNavRef) { #>        data-nav-ref=\\'<#=item.dataNavRef #>\\'      <# } #>      <# if(item.panelKey) { #>        data-nav-panelkey=\\'<#=item.panelKey #>\\'        role=\\'navigation\\'        aria-label=\\'<#=item.text#>\\'      <# } #>      <# if(item.subtextKey) { #>        data-nav-subtextkey=\\'<#=item.subtextKey #>\\'      <# } #>      <# if(item.image && item.image.height > 16) { #>        style=\\'line-height:<#=item.image.height #>px;\\'      <# } #>      >      <# if(item.decorate == \\'carat\\') { #>        <i class=\\'nav-icon\\'></i>      <# } #>      <# if(item.image && item.image.src) { #>        <img class=\\'nav-image\\' src=\\'<#=item.image.src #>\\' style=\\'height:<#=item.image.height #>px; width:<#=item.image.width #>px;\\' />      <# } #>      <# if(item.text) { #>        <span class=\\'nav-text<# if(item.classname) { #> <#=item.classname #><# } #>\\'><#=item.text#><# if(item.badgeText) { #>          <span class=\\'nav-badge\\'><#=item.badgeText#></span>        <# } #></span>      <# } else if (item.content) { #>        <span class=\\'nav-content\\'><# jQuery.each(item.content, function (j, cItem) { #><# if(cItem.url && cItem.text) { #><a href=\\'<#=cItem.url #>\\' class=\\'nav-a\\'><#=cItem.text #></a><# } else if (cItem.text) { #><#=cItem.text#><# } #><# }); #></span>      <# } #>      <# if(item.subtext) { #>        <span class=\\'nav-subtext\\'><#=item.subtext #></span>      <# } #>      <# if(item.url) { #>        </a>      <# } else {#>        </span>      <# } #>    <# } #>    <# if(item.image && item.image.src) { #>      <# if(item.url) { #>        <a href=\\'<#=item.url #>\\'>       <# } #>      <img class=\\'nav-image\\'      <# if(item.id) { #>        id=\\'<#=item.id #>\\'      <# } #>      src=\\'<#=item.image.src #>\\' <# if (item.alt) { #> alt=\\'<#= item.alt #>\\'<# } #>/>      <# if(item.url) { #>        </a>       <# } #>    <# } #>    <# if(item.items) { #>      <div class=\\'nav-panel\\'> <# renderItems(item.items); #> </div>    <# } #>  <# }); #><# }; #><# renderItems(items); #><# if(hasColumns) { #>  </div><# } #>\",\"subnav\":\"<# if (obj && obj.type === \\'vertical\\') { #>  <# jQuery.each(obj.rows, function (i, row) { #>    <# if (row.flyoutElement === \\'button\\') { #>      <div class=\\'nav_sv_fo_v_button\\'        <# if (row.elementStyle) { #>          style=\\'<#= row.elementStyle #>\\'        <# } #>      >        <a href=\\'<#=row.url #>\\' class=\\'nav-action-button nav-sprite\\'>          <#=row.text #>        </a>      </div>    <# } else if (row.flyoutElement === \\'list\\' && row.list) { #>      <# jQuery.each(row.list, function (j, list) { #>        <div class=\\'nav_sv_fo_v_column <#=(j === 0) ? \\'nav_sv_fo_v_first\\' : \\'\\' #>\\'>          <ul class=\\'<#=list.elementClass #>\\'>          <# jQuery.each(list.linkList, function (k, link) { #>            <# if (k === 0) { link.elementClass += \\' nav_sv_fo_v_first\\'; } #>            <li class=\\'<#=link.elementClass #>\\'>              <# if (link.url) { #>                <a href=\\'<#=link.url #>\\' class=\\'nav_a\\'><#=link.text #></a>              <# } else { #>                <span class=\\'nav_sv_fo_v_span\\'><#=link.text #></span>              <# } #>            </li>          <# }); #>          </ul>        </div>      <# }); #>    <# } else if (row.flyoutElement === \\'link\\') { #>      <# if (row.topSpacer) { #>        <div class=\\'nav_sv_fo_v_clear\\'></div>      <# } #>      <div class=\\'<#=row.elementClass #>\\'>        <a href=\\'<#=row.url #>\\' class=\\'nav_sv_fo_v_lmargin nav_a\\'>          <#=row.text #>        </a>      </div>    <# } #>  <# }); #><# } else if (obj) { #>  <div class=\\'nav_sv_fo_scheduled\\'>    <#= obj #>  </div><# } #>\",\"htmlList\":\"<# jQuery.each(items, function (i, item) { #>  <div class=\\'nav-item\\'>    <#=item #>  </div><# }); #>\"}\\n    })\\n  })\\n</script>\\n\\n<script type=\"text/javascript\">\\n  window.$Nav && $Nav.declare(\\'config.flyoutURL\\', null);\\n  window.$Nav && $Nav.declare(\\'btf.lite\\');\\n  window.$Nav && $Nav.declare(\\'btf.full\\');\\n  window.$Nav && $Nav.declare(\\'btf.exists\\');\\n  (window.AmazonUIPageJS ? AmazonUIPageJS : P).register(\\'navCF\\');\\n</script>\\n\\n\\n\\n\\n<!-- NAVYAAN BTF END -->\\n<!-- sp:feature:host-btf -->\\n\\n\\n  <input type=\"hidden\" name=\"reviews-page-loaded\"/></div>\\n<!-- sp:end-feature:host-btf -->\\n<!-- sp:feature:aui-preload -->\\n<!-- sp:feature:nav-footer -->\\n\\n  <!-- NAVYAAN FOOTER START -->\\n  <!-- WITH MOZART -->\\n\\n\\n<div class=\"navLeftFooter nav-sprite-v1\" id=\"navFooter\">\\n  \\n<a href=\"#nav-top\" id=\"navBackToTop\" aria-label=\"Back to top\">\\n  <div class=\"navFooterBackToTop\">\\n  <span class=\"navFooterBackToTopText\">\\n    Back to top\\n  </span>\\n  </div>\\n</a>\\n\\n  \\n<div class=\"navFooterVerticalColumn navAccessibility\" role=\"presentation\">\\n  <div class=\"navFooterVerticalRow navAccessibility\" style=\"display: table-row;\">\\n        <div class=\"navFooterLinkCol navAccessibility\">\\n          <div class=\"navFooterColHead\">Get to Know Us</div>\\n        <ul>\\n            <li class=\"nav_first\">\\n              <a href=\"https://www.aboutamazon.in/?utm_source=gateway&utm_medium=footer\" class=\"nav_a\">About Us</a>\\n            </li>\\n            <li >\\n              <a href=\"https://amazon.jobs\" class=\"nav_a\">Careers</a>\\n            </li>\\n            <li >\\n              <a href=\"https://press.aboutamazon.in/?utm_source=gateway&utm_medium=footer\" class=\"nav_a\">Press Releases</a>\\n            </li>\\n            <li >\\n              <a href=\"/gp/browse.html?node=8872558031&ref_=footer_cares\" class=\"nav_a\">Amazon Cares</a>\\n            </li>\\n            <li class=\"nav_last \">\\n              <a href=\"/gp/browse.html?node=4594605031&ref_=footer_smile\" class=\"nav_a\">Gift a Smile</a>\\n            </li>\\n        </ul>\\n      </div>\\n        <div class=\"navFooterColSpacerInner navAccessibility\"></div>\\n        <div class=\"navFooterLinkCol navAccessibility\">\\n          <div class=\"navFooterColHead\">Connect with Us</div>\\n        <ul>\\n            <li class=\"nav_first\">\\n              <a href=\"http://www.amazon.in/gp/redirect.html/ref=footer_fb?location=http://www.facebook.com/AmazonIN&token=2075D5EAC7BB214089728E2183FD391706D41E94&6\" class=\"nav_a\">Facebook</a>\\n            </li>\\n            <li >\\n              <a href=\"http://www.amazon.in/gp/redirect.html/ref=footer_twitter?location=http://twitter.com/AmazonIN&token=A309DFBFCB1E37A808FF531934855DC817F130B6&6\" class=\"nav_a\">Twitter</a>\\n            </li>\\n            <li class=\"nav_last \">\\n              <a href=\"http://www.amazon.in/gp/redirect.html?location=https://www.instagram.com/amazondotin&token=264882C912E9D005CB1D9B61F12E125D5DF9BFC7&source=standards\" class=\"nav_a\">Instagram</a>\\n            </li>\\n        </ul>\\n      </div>\\n        <div class=\"navFooterColSpacerInner navAccessibility\"></div>\\n        <div class=\"navFooterLinkCol navAccessibility\">\\n          <div class=\"navFooterColHead\">Make Money with Us</div>\\n        <ul>\\n            <li class=\"nav_first\">\\n              <a href=\"/b/?node=2838698031&ld=AZINSOANavDesktopFooter&ref_=nav_footer_sell\" class=\"nav_a\">Sell on Amazon</a>\\n            </li>\\n            <li >\\n              <a href=\"https://accelerator.amazon.in/?ref_=map_1_b2b_GW_FT\" class=\"nav_a\">Sell under Amazon Accelerator</a>\\n            </li>\\n            <li >\\n              <a href=\"https://sell.amazon.in/grow-your-business/amazon-global-selling.html?ld=AZIN_Footer_V1&ref=AZIN_Footer_V1\" class=\"nav_a\">Amazon Global Selling</a>\\n            </li>\\n            <li >\\n              <a href=\"https://affiliate-program.amazon.in/?utm_campaign=assocshowcase&utm_medium=footer&utm_source=GW&ref_=footer_assoc\" class=\"nav_a\">Become an Affiliate</a>\\n            </li>\\n            <li >\\n              <a href=\"http://services.amazon.in/services/fulfilment-by-amazon/benefits.html/ref=az_footer_fba?ld=AWRGINFBAfooter\" class=\"nav_a\">Fulfilment by Amazon</a>\\n            </li>\\n            <li >\\n              <a href=\"https://advertising.amazon.in/?ref=Amz.in\" class=\"nav_a\">Advertise Your Products</a>\\n            </li>\\n            <li class=\"nav_last \">\\n              <a href=\"https://www.amazonpay.in/merchant\" class=\"nav_a\">Amazon Pay on Merchants</a>\\n            </li>\\n        </ul>\\n      </div>\\n        <div class=\"navFooterColSpacerInner navAccessibility\"></div>\\n        <div class=\"navFooterLinkCol navAccessibility\">\\n          <div class=\"navFooterColHead\">Let Us Help You</div>\\n        <ul>\\n            <li class=\"nav_first\">\\n              <a href=\"/gp/help/customer/display.html?nodeId=GDFU3JS5AL6SYHRD&ref_=footer_covid\" class=\"nav_a\">COVID-19 and Amazon</a>\\n            </li>\\n            <li >\\n              <a href=\"/gp/css/homepage.html?ref_=footer_ya\" class=\"nav_a\">Your Account</a>\\n            </li>\\n            <li >\\n              <a href=\"/gp/css/returns/homepage.html?ref_=footer_hy_f_4\" class=\"nav_a\">Returns Centre</a>\\n            </li>\\n            <li >\\n              <a href=\"/gp/help/customer/display.html?nodeId=201083470&ref_=footer_swc\" class=\"nav_a\">100% Purchase Protection</a>\\n            </li>\\n            <li >\\n              <a href=\"/gp/browse.html?node=6967393031&ref_=footer_mobapp\" class=\"nav_a\">Amazon App Download</a>\\n            </li>\\n            <li >\\n              <a href=\"/gp/BIT/theamazonapp/ref=footer_assistant_download_copy\" class=\"nav_a\">Amazon Assistant Download</a>\\n            </li>\\n            <li class=\"nav_last \">\\n              <a href=\"/gp/help/customer/display.html?nodeId=200507590&ref_=footer_gw_m_b_he\" class=\"nav_a\">Help</a>\\n            </li>\\n        </ul>\\n      </div>\\n  </div>\\n</div>\\n<div class=\"nav-footer-line\"></div>\\n\\n  <div class=\"navFooterLine navFooterLinkLine navFooterPadItemLine\">\\n    <span>\\n      <div class=\"navFooterLine navFooterLogoLine\">\\n        <a  href=\"/ref=footer_logo\">\\n        <div class=\"nav-logo-base nav-sprite\"></div>\\n        </a>\\n      </div>\\n</span><span class=\"icp-container-desktop\"><div class =\"navFooterLine\">\\n<style type=\"text/css\">\\n  #icp-touch-link-language { display: none; }\\n</style>\\n\\n\\n<a href=\"/gp/customer-preferences/select-language/ref=footer_lang?ie=UTF8&preferencesReturnUrl=%2F\" class=\"icp-button\" id=\"icp-touch-link-language\">\\n  <div class=\"icp-nav-globe-img-2 icp-button-globe-2\"></div><span class=\"icp-color-base\">English</span><span class=\"nav-arrow icp-up-down-arrow\"></span><span class=\"aok-hidden\" style=\"display:none\">Choose a language for shopping.</span>\\n</a>\\n\\n\\n</div></span>\\n  </div>\\n  \\n<div class=\"navFooterLine navFooterLinkLine navFooterPadItemLine\">\\n  <ul><li class=\"nav_first\"><a href=\"http://www.amazon.com.au/ref=footer_au\" class=\"nav_a\">Australia</a></li><li><a href=\"https://www.amazon.com.br/ref=footer_br\" class=\"nav_a\">Brazil</a></li><li><a href=\"https://www.amazon.ca/ref=footer_ca\" class=\"nav_a\">Canada</a></li><li><a href=\"https://www.amazon.cn/ref=footer_cn\" class=\"nav_a\">China</a></li><li><a href=\"https://www.amazon.fr/ref=footer_fr\" class=\"nav_a\">France</a></li><li><a href=\"https://www.amazon.de/ref=footer_de\" class=\"nav_a\">Germany</a></li><li><a href=\"https://www.amazon.it/ref=footer_it\" class=\"nav_a\">Italy</a></li><li><a href=\"https://www.amazon.co.jp/ref=footer_jp\" class=\"nav_a\">Japan</a></li><li><a href=\"https://www.amazon.com.mx/ref=footer_mx\" class=\"nav_a\">Mexico</a></li><li><a href=\"https://www.amazon.nl/ref=footer_nl\" class=\"nav_a\">Netherlands</a></li><li><a href=\"https://www.amazon.pl/ref=footer_pl\" class=\"nav_a\">Poland</a></li><li><a href=\"https://www.amazon.sg/ref=footer_sg\" class=\"nav_a\">Singapore</a></li><li><a href=\"https://www.amazon.es/ref=footer_es\" class=\"nav_a\">Spain</a></li><li><a href=\"https://www.amazon.com.tr/ref=footer_tr\" class=\"nav_a\">Turkey</a></li><li><a href=\"https://www.amazon.ae/ref=footer_ae\" class=\"nav_a\">United Arab Emirates</a></li><li><a href=\"https://www.amazon.co.uk/ref=footer_uk\" class=\"nav_a\">United Kingdom</a></li><li class=\"nav_last\"><a href=\"https://www.amazon.com/ref=footer_us\" class=\"nav_a\">United States</a></li></ul>\\n  \\n</div>\\n\\n  \\n  <div class=\"navFooterLine navFooterLinkLine navFooterDescLine\"  >\\n    <table class=\"navFooterMoreOnAmazon\" cellspacing=\"0\">\\n      <tr>\\n<td class=\"navFooterDescItem\"><a href=https://www.abebooks.com/ class=\"nav_a\">AbeBooks<br><span class=\"navFooterDescText\">Books, art<br>& collectibles</span></a></td><td class=\"navFooterDescSpacer\" style=\"width: 4%\"></td>\\n<td class=\"navFooterDescItem\"><a href=https://aws.amazon.com/what-is-cloud-computing/?sc_channel=EL&sc_campaign=IN_amazonfooter class=\"nav_a\">Amazon Web Services<br><span class=\"navFooterDescText\">Scalable Cloud<br>Computing Services</span></a></td><td class=\"navFooterDescSpacer\" style=\"width: 4%\"></td>\\n<td class=\"navFooterDescItem\"><a href=https://www.audible.in/ class=\"nav_a\">Audible<br><span class=\"navFooterDescText\">Download<br>Audio Books</span></a></td><td class=\"navFooterDescSpacer\" style=\"width: 4%\"></td>\\n<td class=\"navFooterDescItem\"><a href=https://www.dpreview.com/ class=\"nav_a\">DPReview<br><span class=\"navFooterDescText\">Digital<br>Photography</span></a></td><td class=\"navFooterDescSpacer\" style=\"width: 4%\"></td>\\n<td class=\"navFooterDescItem\"><a href=https://www.imdb.com/ class=\"nav_a\">IMDb<br><span class=\"navFooterDescText\">Movies, TV<br>& Celebrities</span></a></td></tr>\\n<tr><td>&nbsp;</td></tr>\\n<tr>\\n<td class=\"navFooterDescItem\"><a href=https://www.shopbop.com/ class=\"nav_a\">Shopbop<br><span class=\"navFooterDescText\">Designer<br>Fashion Brands</span></a></td><td class=\"navFooterDescSpacer\" style=\"width: 4%\"></td>\\n<td class=\"navFooterDescItem\"><a href=/business?ref=footer_aingw class=\"nav_a\">\\t\\nAmazon Business<br><span class=\"navFooterDescText\">Everything For<br>Your Business</span></a></td><td class=\"navFooterDescSpacer\" style=\"width: 4%\"></td>\\n<td class=\"navFooterDescItem\"><a href=/now?ref=footer_amznow class=\"nav_a\">Prime Now<br><span class=\"navFooterDescText\"> 2-Hour Delivery<br>on Everyday Items</span></a></td><td class=\"navFooterDescSpacer\" style=\"width: 4%\"></td>\\n<td class=\"navFooterDescItem\"><a href=/music/prime?ref=footer_apm class=\"nav_a\">Amazon Prime Music<br><span class=\"navFooterDescText\">75 million songs, ad-free<br>Over 10 million podcast episodes </span></a></td><td class=\"navFooterDescSpacer\" style=\"width: 4%\"></td>\\n<td class=\"navFooterDescItem\">&nbsp;</td>\\n</tr>\\n\\n    </table>\\n  </div>\\n\\n  \\n<div class=\"navFooterLine navFooterLinkLine navFooterPadItemLine navFooterCopyright\">\\n  <ul><li class=\"nav_first\"><a href=\"/gp/help/customer/display.html?nodeId=200545940&ref_=footer_cou\" class=\"nav_a\">Conditions of Use & Sale</a></li><li ><a href=\"/gp/help/customer/display.html?nodeId=200534380&ref_=footer_privacy\" class=\"nav_a\">Privacy Notice</a></li><li class=\"nav_last\"><a href=\"/gp/help/customer/display.html?nodeId=202075050&ref_=footer_iba\" class=\"nav_a\">Interest-Based Ads</a></li></ul><span>© 1996-2021, Amazon.com, Inc. or its affiliates</span>\\n</div>\\n\\n  \\n</div>\\n\\n<div id=\"sis_pixel_r2\" aria-hidden=\"true\" style=\"height:1px; position: absolute; left: -1000000px; top: -1000000px;\"></div>\\n\\n  <!-- NAVYAAN FOOTER END -->\\n<!-- sp:feature:amazon-pay-iframe -->\\n<!-- sp:end-feature:amazon-pay-iframe -->\\n\\n</div></body></html>\\n<!--       _\\n       .__(.)< (MEOW)\\n        \\\\___)   \\n ~~~~~~~~~~~~~~~~~~-->\\n<!-- sp:eh:mbZCIGYFaRQ7/GyISXGg16an0di5HHa+Fhj69ItYiNTUyOneTr1lzxEdxvwc7NLqeUSTbAkvwVRXS8K/YmD3DlokatRVm5CLFtcBHqQ6354o4kczw8T/UtwmrMM= -->\\n'"
      ]
     },
     "execution_count": 57,
     "metadata": {},
     "output_type": "execute_result"
    }
   ],
   "source": [
    "r.text"
   ]
  },
  {
   "cell_type": "code",
   "execution_count": 58,
   "id": "9a3e1adc",
   "metadata": {},
   "outputs": [],
   "source": [
    "soup = BeautifulSoup(r.text, 'html.parser')"
   ]
  },
  {
   "cell_type": "code",
   "execution_count": 59,
   "id": "a7a12720",
   "metadata": {},
   "outputs": [],
   "source": [
    "results = soup.findAll(class_='a-size-base review-text review-text-content')"
   ]
  },
  {
   "cell_type": "code",
   "execution_count": 60,
   "id": "fa7bbcda",
   "metadata": {},
   "outputs": [],
   "source": [
    "reviews=[]\n",
    "for result in results:\n",
    "  reviews.append(result.find('span').text)"
   ]
  },
  {
   "cell_type": "code",
   "execution_count": 61,
   "id": "b391353a",
   "metadata": {},
   "outputs": [
    {
     "name": "stdout",
     "output_type": "stream",
     "text": [
      "\n",
      "  Not high quality Arabica to begin with. Very small size seeds which may seem like Robusta and maybe is Robusta. Most importantly, whatever it maybe low quality Arabica or Robusta, the roasting is very pathetic. It's not a medium dark roast but a light roast, hence if you try brewing an espresso from it, you'll get a sour product. Even other techniques cannot be used to overcome the flaw in this coffee's roasting blunder. You don't roast coffee like peanuts and expect it to taste good. If you have ever tasted good coffee then you will not appreciate what they have done with the roasting. Blue Tokai does not hold any expertise in coffee roasting, it's just they know how to package and send it to you at such a high price. They would have done a better job if they had sent green beans to me for roasting afresh. If a consumer can shift from buying ground coffee to whole beans roasted then why can't a consumer demand green beans and roast them at home. I will never buy again from Blue Tokai.\n",
      " \n",
      "\n",
      "\n",
      "  I have also bought the Byenemara estate and I can give a comparison between the two: attikan estate is fruity and biscuity and has a rich aroma and mildly bitter. The byenemara estate is more earthy and bitter, also has a rich aroma but you will instantly get the bitter aroma. It also has a slightly sweet aftertaste. Both reviews are of black and unsweetened coffee.\n",
      " \n",
      "\n",
      "\n",
      "  I was tired of paying 750 every time for Starbucks beans for mediocre coffee.This coffee was wonderful in balance of depth of flavor and bitterness. Will buy again.\n",
      " \n",
      "\n",
      "\n",
      "  I am long time customer of blue tokkai coffee beans. I have my own grinder and espresso machine so i use them to get freshly roasted beans. They are definitely the best in ncr. The taste and aroma of freshly roasted coffee is way superior to the standard packed beans normally available. If you are a coffee aficionado , then you should give these guys a shot.\n",
      " \n",
      "\n",
      "\n",
      "  I purchased this for use in a French press. I'm quite fastidious about how I brew my coffee and ensure I get it right most times.This coffee has no body, no mouthfeel and lacks flavour. In terms of aroma, besides the initial whiff it reminds me of sawdust and tastes like dirt.\n",
      " \n",
      "\n",
      "\n",
      "  The beans have intense aroma and an earthy flavor. But the roast is nowhere close to medium dark..it seems more like an American or Vienna roast (both are relatively mild light roasts)..compared to the current beans I use (sumatra from Starbucks) the ground beans lack the characteristic caffeine punch (mainly I think because of the light roast). Having said that this could be the light coffee that you can drink before you go to sleep :)\n",
      " \n",
      "\n",
      "\n",
      "  This coffee is premium quality, Single Origin arabica, unlike any branded mediocre Starbucks or Lavazza blends.It's a real treat for coffee enthusiasts. The roast was perfect to second crack! I bought this after reading about this startup. I have to say I'm impressed! I like pour-over and 15g medium coarse grind brewed in Hario V60 makes a perfect cup.Pro-tip: If you're a Cold Brew fan, then this particular variety seems to make a great one. The 1:8 ratio coarse grind, brewed for 18-20 hours in refrigerator worked great for me!I have ordered more, would try different varieties!\n",
      " \n",
      "\n",
      "\n",
      "  There aren't any Blue Tokai outlets in Southern Bombay so I hadn't even heard of them. I tasted their coffee at a Pop up and liked it quite a bit. I was pleasantly surprised to find them on Amazon.Excellent quality coffee, really well ground (I ordered the Home Espresso blend), ideal for my Espresso machine.I mostly have Nespresso but this was really excellent. Will definitely be ordering again. Shame they don't have a decaf option.\n",
      " \n",
      "\n",
      "\n",
      "  I am a coffee junkie. Everyone teases me about coffee running thru my veins. I've had coffee from all over the world and this rates as good El Salvadore or light roasted Costa Rican. This coffee is best enjoyed black, it's a mild brew so I just add a little more. I've only had my bag a few days and it's almost gone. In the US I purchased coffee like this by the five pound bag which lasted a month. I would enjoy purchasing again. I'm eating it a 4 just because of the price to value ratio. But its certainly worth a try if you like to drink your coffee black,\n",
      " \n",
      "\n",
      "\n",
      "  I opened the packet and found it almost half empty for Rs 400. It took me two wasted cups of coffee to figure out that I need to add 3 tbsp of coffee in the filter to get a decent cup. The zip packaging didn't close back once I opened the packet so I will have to keep it in an air tight container. The taste reminds me of honey. I guess it will last only 10 days. It's too fancy for its own good. Not your decent cup of filter coffee. I won't be buying again.\n",
      " \n",
      "\n"
     ]
    }
   ],
   "source": [
    "for review in reviews:\n",
    "    print(review, '\\n')"
   ]
  },
  {
   "cell_type": "markdown",
   "id": "2a923dc5",
   "metadata": {},
   "source": [
    "### Getting the Metrics and Data Cleaning"
   ]
  },
  {
   "cell_type": "code",
   "execution_count": 62,
   "id": "98acd895",
   "metadata": {},
   "outputs": [],
   "source": [
    "import pandas as pd\n",
    "import numpy as np"
   ]
  },
  {
   "cell_type": "code",
   "execution_count": 74,
   "id": "c921b778",
   "metadata": {},
   "outputs": [],
   "source": [
    "df = pd.DataFrame(np.array(reviews), columns=['reviews'])"
   ]
  },
  {
   "cell_type": "code",
   "execution_count": 75,
   "id": "ca86373f",
   "metadata": {},
   "outputs": [],
   "source": [
    "df['reviews'] = df['reviews'].apply(lambda x: x[3:-2])"
   ]
  },
  {
   "cell_type": "code",
   "execution_count": 76,
   "id": "3bfe613c",
   "metadata": {},
   "outputs": [
    {
     "data": {
      "text/html": [
       "<div>\n",
       "<style scoped>\n",
       "    .dataframe tbody tr th:only-of-type {\n",
       "        vertical-align: middle;\n",
       "    }\n",
       "\n",
       "    .dataframe tbody tr th {\n",
       "        vertical-align: top;\n",
       "    }\n",
       "\n",
       "    .dataframe thead th {\n",
       "        text-align: right;\n",
       "    }\n",
       "</style>\n",
       "<table border=\"1\" class=\"dataframe\">\n",
       "  <thead>\n",
       "    <tr style=\"text-align: right;\">\n",
       "      <th></th>\n",
       "      <th>reviews</th>\n",
       "    </tr>\n",
       "  </thead>\n",
       "  <tbody>\n",
       "    <tr>\n",
       "      <th>0</th>\n",
       "      <td>Not high quality Arabica to begin with. Very s...</td>\n",
       "    </tr>\n",
       "    <tr>\n",
       "      <th>1</th>\n",
       "      <td>I have also bought the Byenemara estate and I ...</td>\n",
       "    </tr>\n",
       "    <tr>\n",
       "      <th>2</th>\n",
       "      <td>I was tired of paying 750 every time for Starb...</td>\n",
       "    </tr>\n",
       "    <tr>\n",
       "      <th>3</th>\n",
       "      <td>I am long time customer of blue tokkai coffee ...</td>\n",
       "    </tr>\n",
       "    <tr>\n",
       "      <th>4</th>\n",
       "      <td>I purchased this for use in a French press. I'...</td>\n",
       "    </tr>\n",
       "    <tr>\n",
       "      <th>5</th>\n",
       "      <td>The beans have intense aroma and an earthy fla...</td>\n",
       "    </tr>\n",
       "    <tr>\n",
       "      <th>6</th>\n",
       "      <td>This coffee is premium quality, Single Origin ...</td>\n",
       "    </tr>\n",
       "    <tr>\n",
       "      <th>7</th>\n",
       "      <td>There aren't any Blue Tokai outlets in Souther...</td>\n",
       "    </tr>\n",
       "    <tr>\n",
       "      <th>8</th>\n",
       "      <td>I am a coffee junkie. Everyone teases me about...</td>\n",
       "    </tr>\n",
       "    <tr>\n",
       "      <th>9</th>\n",
       "      <td>I opened the packet and found it almost half e...</td>\n",
       "    </tr>\n",
       "  </tbody>\n",
       "</table>\n",
       "</div>"
      ],
      "text/plain": [
       "                                             reviews\n",
       "0  Not high quality Arabica to begin with. Very s...\n",
       "1  I have also bought the Byenemara estate and I ...\n",
       "2  I was tired of paying 750 every time for Starb...\n",
       "3  I am long time customer of blue tokkai coffee ...\n",
       "4  I purchased this for use in a French press. I'...\n",
       "5  The beans have intense aroma and an earthy fla...\n",
       "6  This coffee is premium quality, Single Origin ...\n",
       "7  There aren't any Blue Tokai outlets in Souther...\n",
       "8  I am a coffee junkie. Everyone teases me about...\n",
       "9  I opened the packet and found it almost half e..."
      ]
     },
     "execution_count": 76,
     "metadata": {},
     "output_type": "execute_result"
    }
   ],
   "source": [
    "df"
   ]
  },
  {
   "cell_type": "code",
   "execution_count": 81,
   "id": "6d77d016",
   "metadata": {},
   "outputs": [],
   "source": [
    "df['word count'] = df['reviews'].apply(lambda x: len(x.split()))"
   ]
  },
  {
   "cell_type": "code",
   "execution_count": 82,
   "id": "0f34e94c",
   "metadata": {},
   "outputs": [
    {
     "data": {
      "text/html": [
       "<div>\n",
       "<style scoped>\n",
       "    .dataframe tbody tr th:only-of-type {\n",
       "        vertical-align: middle;\n",
       "    }\n",
       "\n",
       "    .dataframe tbody tr th {\n",
       "        vertical-align: top;\n",
       "    }\n",
       "\n",
       "    .dataframe thead th {\n",
       "        text-align: right;\n",
       "    }\n",
       "</style>\n",
       "<table border=\"1\" class=\"dataframe\">\n",
       "  <thead>\n",
       "    <tr style=\"text-align: right;\">\n",
       "      <th></th>\n",
       "      <th>reviews</th>\n",
       "      <th>word count</th>\n",
       "    </tr>\n",
       "  </thead>\n",
       "  <tbody>\n",
       "    <tr>\n",
       "      <th>0</th>\n",
       "      <td>Not high quality Arabica to begin with. Very s...</td>\n",
       "      <td>184</td>\n",
       "    </tr>\n",
       "    <tr>\n",
       "      <th>1</th>\n",
       "      <td>I have also bought the Byenemara estate and I ...</td>\n",
       "      <td>66</td>\n",
       "    </tr>\n",
       "    <tr>\n",
       "      <th>2</th>\n",
       "      <td>I was tired of paying 750 every time for Starb...</td>\n",
       "      <td>28</td>\n",
       "    </tr>\n",
       "    <tr>\n",
       "      <th>3</th>\n",
       "      <td>I am long time customer of blue tokkai coffee ...</td>\n",
       "      <td>67</td>\n",
       "    </tr>\n",
       "    <tr>\n",
       "      <th>4</th>\n",
       "      <td>I purchased this for use in a French press. I'...</td>\n",
       "      <td>52</td>\n",
       "    </tr>\n",
       "    <tr>\n",
       "      <th>5</th>\n",
       "      <td>The beans have intense aroma and an earthy fla...</td>\n",
       "      <td>76</td>\n",
       "    </tr>\n",
       "    <tr>\n",
       "      <th>6</th>\n",
       "      <td>This coffee is premium quality, Single Origin ...</td>\n",
       "      <td>97</td>\n",
       "    </tr>\n",
       "    <tr>\n",
       "      <th>7</th>\n",
       "      <td>There aren't any Blue Tokai outlets in Souther...</td>\n",
       "      <td>75</td>\n",
       "    </tr>\n",
       "    <tr>\n",
       "      <th>8</th>\n",
       "      <td>I am a coffee junkie. Everyone teases me about...</td>\n",
       "      <td>112</td>\n",
       "    </tr>\n",
       "    <tr>\n",
       "      <th>9</th>\n",
       "      <td>I opened the packet and found it almost half e...</td>\n",
       "      <td>97</td>\n",
       "    </tr>\n",
       "  </tbody>\n",
       "</table>\n",
       "</div>"
      ],
      "text/plain": [
       "                                             reviews  word count\n",
       "0  Not high quality Arabica to begin with. Very s...         184\n",
       "1  I have also bought the Byenemara estate and I ...          66\n",
       "2  I was tired of paying 750 every time for Starb...          28\n",
       "3  I am long time customer of blue tokkai coffee ...          67\n",
       "4  I purchased this for use in a French press. I'...          52\n",
       "5  The beans have intense aroma and an earthy fla...          76\n",
       "6  This coffee is premium quality, Single Origin ...          97\n",
       "7  There aren't any Blue Tokai outlets in Souther...          75\n",
       "8  I am a coffee junkie. Everyone teases me about...         112\n",
       "9  I opened the packet and found it almost half e...          97"
      ]
     },
     "execution_count": 82,
     "metadata": {},
     "output_type": "execute_result"
    }
   ],
   "source": [
    "df"
   ]
  },
  {
   "cell_type": "code",
   "execution_count": 83,
   "id": "ed111a2b",
   "metadata": {},
   "outputs": [],
   "source": [
    "df['char_count'] = df['reviews'].apply(len)"
   ]
  },
  {
   "cell_type": "code",
   "execution_count": 84,
   "id": "0105597c",
   "metadata": {},
   "outputs": [
    {
     "data": {
      "text/html": [
       "<div>\n",
       "<style scoped>\n",
       "    .dataframe tbody tr th:only-of-type {\n",
       "        vertical-align: middle;\n",
       "    }\n",
       "\n",
       "    .dataframe tbody tr th {\n",
       "        vertical-align: top;\n",
       "    }\n",
       "\n",
       "    .dataframe thead th {\n",
       "        text-align: right;\n",
       "    }\n",
       "</style>\n",
       "<table border=\"1\" class=\"dataframe\">\n",
       "  <thead>\n",
       "    <tr style=\"text-align: right;\">\n",
       "      <th></th>\n",
       "      <th>reviews</th>\n",
       "      <th>word count</th>\n",
       "      <th>char_count</th>\n",
       "    </tr>\n",
       "  </thead>\n",
       "  <tbody>\n",
       "    <tr>\n",
       "      <th>0</th>\n",
       "      <td>Not high quality Arabica to begin with. Very s...</td>\n",
       "      <td>184</td>\n",
       "      <td>999</td>\n",
       "    </tr>\n",
       "    <tr>\n",
       "      <th>1</th>\n",
       "      <td>I have also bought the Byenemara estate and I ...</td>\n",
       "      <td>66</td>\n",
       "      <td>367</td>\n",
       "    </tr>\n",
       "    <tr>\n",
       "      <th>2</th>\n",
       "      <td>I was tired of paying 750 every time for Starb...</td>\n",
       "      <td>28</td>\n",
       "      <td>163</td>\n",
       "    </tr>\n",
       "    <tr>\n",
       "      <th>3</th>\n",
       "      <td>I am long time customer of blue tokkai coffee ...</td>\n",
       "      <td>67</td>\n",
       "      <td>359</td>\n",
       "    </tr>\n",
       "    <tr>\n",
       "      <th>4</th>\n",
       "      <td>I purchased this for use in a French press. I'...</td>\n",
       "      <td>52</td>\n",
       "      <td>276</td>\n",
       "    </tr>\n",
       "  </tbody>\n",
       "</table>\n",
       "</div>"
      ],
      "text/plain": [
       "                                             reviews  word count  char_count\n",
       "0  Not high quality Arabica to begin with. Very s...         184         999\n",
       "1  I have also bought the Byenemara estate and I ...          66         367\n",
       "2  I was tired of paying 750 every time for Starb...          28         163\n",
       "3  I am long time customer of blue tokkai coffee ...          67         359\n",
       "4  I purchased this for use in a French press. I'...          52         276"
      ]
     },
     "execution_count": 84,
     "metadata": {},
     "output_type": "execute_result"
    }
   ],
   "source": [
    "df.head()"
   ]
  },
  {
   "cell_type": "code",
   "execution_count": 86,
   "id": "e5d521ec",
   "metadata": {},
   "outputs": [],
   "source": [
    "def avg_words(review):\n",
    "    words = review.split()\n",
    "    return sum(len(word) for word in words)/len(words)"
   ]
  },
  {
   "cell_type": "code",
   "execution_count": 87,
   "id": "1647f742",
   "metadata": {},
   "outputs": [
    {
     "data": {
      "text/plain": [
       "0    4.434783\n",
       "1    4.575758\n",
       "2    4.857143\n",
       "3    4.373134\n",
       "4    4.326923\n",
       "5    4.789474\n",
       "6    5.020619\n",
       "7    4.813333\n",
       "8    4.017857\n",
       "9    3.742268\n",
       "Name: reviews, dtype: float64"
      ]
     },
     "execution_count": 87,
     "metadata": {},
     "output_type": "execute_result"
    }
   ],
   "source": [
    "df['reviews'].apply(avg_words)"
   ]
  },
  {
   "cell_type": "code",
   "execution_count": 88,
   "id": "8fea68e4",
   "metadata": {},
   "outputs": [],
   "source": [
    "df['word_length'] = df['reviews'].apply(avg_words)"
   ]
  },
  {
   "cell_type": "code",
   "execution_count": 89,
   "id": "fd61aefa",
   "metadata": {},
   "outputs": [
    {
     "data": {
      "text/html": [
       "<div>\n",
       "<style scoped>\n",
       "    .dataframe tbody tr th:only-of-type {\n",
       "        vertical-align: middle;\n",
       "    }\n",
       "\n",
       "    .dataframe tbody tr th {\n",
       "        vertical-align: top;\n",
       "    }\n",
       "\n",
       "    .dataframe thead th {\n",
       "        text-align: right;\n",
       "    }\n",
       "</style>\n",
       "<table border=\"1\" class=\"dataframe\">\n",
       "  <thead>\n",
       "    <tr style=\"text-align: right;\">\n",
       "      <th></th>\n",
       "      <th>reviews</th>\n",
       "      <th>word count</th>\n",
       "      <th>char_count</th>\n",
       "      <th>word_length</th>\n",
       "    </tr>\n",
       "  </thead>\n",
       "  <tbody>\n",
       "    <tr>\n",
       "      <th>0</th>\n",
       "      <td>Not high quality Arabica to begin with. Very s...</td>\n",
       "      <td>184</td>\n",
       "      <td>999</td>\n",
       "      <td>4.434783</td>\n",
       "    </tr>\n",
       "    <tr>\n",
       "      <th>1</th>\n",
       "      <td>I have also bought the Byenemara estate and I ...</td>\n",
       "      <td>66</td>\n",
       "      <td>367</td>\n",
       "      <td>4.575758</td>\n",
       "    </tr>\n",
       "    <tr>\n",
       "      <th>2</th>\n",
       "      <td>I was tired of paying 750 every time for Starb...</td>\n",
       "      <td>28</td>\n",
       "      <td>163</td>\n",
       "      <td>4.857143</td>\n",
       "    </tr>\n",
       "    <tr>\n",
       "      <th>3</th>\n",
       "      <td>I am long time customer of blue tokkai coffee ...</td>\n",
       "      <td>67</td>\n",
       "      <td>359</td>\n",
       "      <td>4.373134</td>\n",
       "    </tr>\n",
       "    <tr>\n",
       "      <th>4</th>\n",
       "      <td>I purchased this for use in a French press. I'...</td>\n",
       "      <td>52</td>\n",
       "      <td>276</td>\n",
       "      <td>4.326923</td>\n",
       "    </tr>\n",
       "  </tbody>\n",
       "</table>\n",
       "</div>"
      ],
      "text/plain": [
       "                                             reviews  word count  char_count  \\\n",
       "0  Not high quality Arabica to begin with. Very s...         184         999   \n",
       "1  I have also bought the Byenemara estate and I ...          66         367   \n",
       "2  I was tired of paying 750 every time for Starb...          28         163   \n",
       "3  I am long time customer of blue tokkai coffee ...          67         359   \n",
       "4  I purchased this for use in a French press. I'...          52         276   \n",
       "\n",
       "   word_length  \n",
       "0     4.434783  \n",
       "1     4.575758  \n",
       "2     4.857143  \n",
       "3     4.373134  \n",
       "4     4.326923  "
      ]
     },
     "execution_count": 89,
     "metadata": {},
     "output_type": "execute_result"
    }
   ],
   "source": [
    "df.head()"
   ]
  },
  {
   "cell_type": "code",
   "execution_count": 90,
   "id": "c2e02dd6",
   "metadata": {},
   "outputs": [],
   "source": [
    "from nltk.corpus import stopwords"
   ]
  },
  {
   "cell_type": "code",
   "execution_count": 91,
   "id": "97989b3a",
   "metadata": {},
   "outputs": [],
   "source": [
    "stop_words = stopwords.words('english')"
   ]
  },
  {
   "cell_type": "code",
   "execution_count": 92,
   "id": "ea3468f1",
   "metadata": {},
   "outputs": [
    {
     "data": {
      "text/plain": [
       "179"
      ]
     },
     "execution_count": 92,
     "metadata": {},
     "output_type": "execute_result"
    }
   ],
   "source": [
    "len(stop_words)"
   ]
  },
  {
   "cell_type": "code",
   "execution_count": 94,
   "id": "18f0b13f",
   "metadata": {},
   "outputs": [
    {
     "data": {
      "text/plain": [
       "0    86\n",
       "1    32\n",
       "2    12\n",
       "3    31\n",
       "4    24\n",
       "5    33\n",
       "6    33\n",
       "7    34\n",
       "8    53\n",
       "9    50\n",
       "Name: reviews, dtype: int64"
      ]
     },
     "execution_count": 94,
     "metadata": {},
     "output_type": "execute_result"
    }
   ],
   "source": [
    "df['reviews'].apply(lambda x: len([word for word in x.split() if word.lower() in stop_words]))"
   ]
  },
  {
   "cell_type": "code",
   "execution_count": 95,
   "id": "33514a00",
   "metadata": {},
   "outputs": [],
   "source": [
    "df['stopword_count'] = df['reviews'].apply(lambda x: len([word for word in x.split() if word.lower() in stop_words]))"
   ]
  },
  {
   "cell_type": "code",
   "execution_count": 96,
   "id": "1bfad6d2",
   "metadata": {},
   "outputs": [
    {
     "data": {
      "text/html": [
       "<div>\n",
       "<style scoped>\n",
       "    .dataframe tbody tr th:only-of-type {\n",
       "        vertical-align: middle;\n",
       "    }\n",
       "\n",
       "    .dataframe tbody tr th {\n",
       "        vertical-align: top;\n",
       "    }\n",
       "\n",
       "    .dataframe thead th {\n",
       "        text-align: right;\n",
       "    }\n",
       "</style>\n",
       "<table border=\"1\" class=\"dataframe\">\n",
       "  <thead>\n",
       "    <tr style=\"text-align: right;\">\n",
       "      <th></th>\n",
       "      <th>reviews</th>\n",
       "      <th>word count</th>\n",
       "      <th>char_count</th>\n",
       "      <th>word_length</th>\n",
       "      <th>stopword_count</th>\n",
       "    </tr>\n",
       "  </thead>\n",
       "  <tbody>\n",
       "    <tr>\n",
       "      <th>0</th>\n",
       "      <td>Not high quality Arabica to begin with. Very s...</td>\n",
       "      <td>184</td>\n",
       "      <td>999</td>\n",
       "      <td>4.434783</td>\n",
       "      <td>86</td>\n",
       "    </tr>\n",
       "    <tr>\n",
       "      <th>1</th>\n",
       "      <td>I have also bought the Byenemara estate and I ...</td>\n",
       "      <td>66</td>\n",
       "      <td>367</td>\n",
       "      <td>4.575758</td>\n",
       "      <td>32</td>\n",
       "    </tr>\n",
       "    <tr>\n",
       "      <th>2</th>\n",
       "      <td>I was tired of paying 750 every time for Starb...</td>\n",
       "      <td>28</td>\n",
       "      <td>163</td>\n",
       "      <td>4.857143</td>\n",
       "      <td>12</td>\n",
       "    </tr>\n",
       "    <tr>\n",
       "      <th>3</th>\n",
       "      <td>I am long time customer of blue tokkai coffee ...</td>\n",
       "      <td>67</td>\n",
       "      <td>359</td>\n",
       "      <td>4.373134</td>\n",
       "      <td>31</td>\n",
       "    </tr>\n",
       "    <tr>\n",
       "      <th>4</th>\n",
       "      <td>I purchased this for use in a French press. I'...</td>\n",
       "      <td>52</td>\n",
       "      <td>276</td>\n",
       "      <td>4.326923</td>\n",
       "      <td>24</td>\n",
       "    </tr>\n",
       "  </tbody>\n",
       "</table>\n",
       "</div>"
      ],
      "text/plain": [
       "                                             reviews  word count  char_count  \\\n",
       "0  Not high quality Arabica to begin with. Very s...         184         999   \n",
       "1  I have also bought the Byenemara estate and I ...          66         367   \n",
       "2  I was tired of paying 750 every time for Starb...          28         163   \n",
       "3  I am long time customer of blue tokkai coffee ...          67         359   \n",
       "4  I purchased this for use in a French press. I'...          52         276   \n",
       "\n",
       "   word_length  stopword_count  \n",
       "0     4.434783              86  \n",
       "1     4.575758              32  \n",
       "2     4.857143              12  \n",
       "3     4.373134              31  \n",
       "4     4.326923              24  "
      ]
     },
     "execution_count": 96,
     "metadata": {},
     "output_type": "execute_result"
    }
   ],
   "source": [
    "df.head()"
   ]
  },
  {
   "cell_type": "code",
   "execution_count": 97,
   "id": "8f8b6020",
   "metadata": {},
   "outputs": [],
   "source": [
    "df['stopword_rate'] = df['stopword_count']/df['word count']"
   ]
  },
  {
   "cell_type": "code",
   "execution_count": 98,
   "id": "d5ce925a",
   "metadata": {},
   "outputs": [
    {
     "data": {
      "text/html": [
       "<div>\n",
       "<style scoped>\n",
       "    .dataframe tbody tr th:only-of-type {\n",
       "        vertical-align: middle;\n",
       "    }\n",
       "\n",
       "    .dataframe tbody tr th {\n",
       "        vertical-align: top;\n",
       "    }\n",
       "\n",
       "    .dataframe thead th {\n",
       "        text-align: right;\n",
       "    }\n",
       "</style>\n",
       "<table border=\"1\" class=\"dataframe\">\n",
       "  <thead>\n",
       "    <tr style=\"text-align: right;\">\n",
       "      <th></th>\n",
       "      <th>reviews</th>\n",
       "      <th>word count</th>\n",
       "      <th>char_count</th>\n",
       "      <th>word_length</th>\n",
       "      <th>stopword_count</th>\n",
       "      <th>stopword_rate</th>\n",
       "    </tr>\n",
       "  </thead>\n",
       "  <tbody>\n",
       "    <tr>\n",
       "      <th>0</th>\n",
       "      <td>Not high quality Arabica to begin with. Very s...</td>\n",
       "      <td>184</td>\n",
       "      <td>999</td>\n",
       "      <td>4.434783</td>\n",
       "      <td>86</td>\n",
       "      <td>0.467391</td>\n",
       "    </tr>\n",
       "    <tr>\n",
       "      <th>1</th>\n",
       "      <td>I have also bought the Byenemara estate and I ...</td>\n",
       "      <td>66</td>\n",
       "      <td>367</td>\n",
       "      <td>4.575758</td>\n",
       "      <td>32</td>\n",
       "      <td>0.484848</td>\n",
       "    </tr>\n",
       "    <tr>\n",
       "      <th>2</th>\n",
       "      <td>I was tired of paying 750 every time for Starb...</td>\n",
       "      <td>28</td>\n",
       "      <td>163</td>\n",
       "      <td>4.857143</td>\n",
       "      <td>12</td>\n",
       "      <td>0.428571</td>\n",
       "    </tr>\n",
       "    <tr>\n",
       "      <th>3</th>\n",
       "      <td>I am long time customer of blue tokkai coffee ...</td>\n",
       "      <td>67</td>\n",
       "      <td>359</td>\n",
       "      <td>4.373134</td>\n",
       "      <td>31</td>\n",
       "      <td>0.462687</td>\n",
       "    </tr>\n",
       "    <tr>\n",
       "      <th>4</th>\n",
       "      <td>I purchased this for use in a French press. I'...</td>\n",
       "      <td>52</td>\n",
       "      <td>276</td>\n",
       "      <td>4.326923</td>\n",
       "      <td>24</td>\n",
       "      <td>0.461538</td>\n",
       "    </tr>\n",
       "  </tbody>\n",
       "</table>\n",
       "</div>"
      ],
      "text/plain": [
       "                                             reviews  word count  char_count  \\\n",
       "0  Not high quality Arabica to begin with. Very s...         184         999   \n",
       "1  I have also bought the Byenemara estate and I ...          66         367   \n",
       "2  I was tired of paying 750 every time for Starb...          28         163   \n",
       "3  I am long time customer of blue tokkai coffee ...          67         359   \n",
       "4  I purchased this for use in a French press. I'...          52         276   \n",
       "\n",
       "   word_length  stopword_count  stopword_rate  \n",
       "0     4.434783              86       0.467391  \n",
       "1     4.575758              32       0.484848  \n",
       "2     4.857143              12       0.428571  \n",
       "3     4.373134              31       0.462687  \n",
       "4     4.326923              24       0.461538  "
      ]
     },
     "execution_count": 98,
     "metadata": {},
     "output_type": "execute_result"
    }
   ],
   "source": [
    "df.head()"
   ]
  },
  {
   "cell_type": "code",
   "execution_count": 100,
   "id": "8c432c09",
   "metadata": {},
   "outputs": [
    {
     "data": {
      "text/html": [
       "<div>\n",
       "<style scoped>\n",
       "    .dataframe tbody tr th:only-of-type {\n",
       "        vertical-align: middle;\n",
       "    }\n",
       "\n",
       "    .dataframe tbody tr th {\n",
       "        vertical-align: top;\n",
       "    }\n",
       "\n",
       "    .dataframe thead th {\n",
       "        text-align: right;\n",
       "    }\n",
       "</style>\n",
       "<table border=\"1\" class=\"dataframe\">\n",
       "  <thead>\n",
       "    <tr style=\"text-align: right;\">\n",
       "      <th></th>\n",
       "      <th>reviews</th>\n",
       "      <th>word count</th>\n",
       "      <th>char_count</th>\n",
       "      <th>word_length</th>\n",
       "      <th>stopword_count</th>\n",
       "      <th>stopword_rate</th>\n",
       "    </tr>\n",
       "  </thead>\n",
       "  <tbody>\n",
       "    <tr>\n",
       "      <th>6</th>\n",
       "      <td>This coffee is premium quality, Single Origin ...</td>\n",
       "      <td>97</td>\n",
       "      <td>583</td>\n",
       "      <td>5.020619</td>\n",
       "      <td>33</td>\n",
       "      <td>0.340206</td>\n",
       "    </tr>\n",
       "    <tr>\n",
       "      <th>2</th>\n",
       "      <td>I was tired of paying 750 every time for Starb...</td>\n",
       "      <td>28</td>\n",
       "      <td>163</td>\n",
       "      <td>4.857143</td>\n",
       "      <td>12</td>\n",
       "      <td>0.428571</td>\n",
       "    </tr>\n",
       "    <tr>\n",
       "      <th>5</th>\n",
       "      <td>The beans have intense aroma and an earthy fla...</td>\n",
       "      <td>76</td>\n",
       "      <td>439</td>\n",
       "      <td>4.789474</td>\n",
       "      <td>33</td>\n",
       "      <td>0.434211</td>\n",
       "    </tr>\n",
       "    <tr>\n",
       "      <th>7</th>\n",
       "      <td>There aren't any Blue Tokai outlets in Souther...</td>\n",
       "      <td>75</td>\n",
       "      <td>435</td>\n",
       "      <td>4.813333</td>\n",
       "      <td>34</td>\n",
       "      <td>0.453333</td>\n",
       "    </tr>\n",
       "    <tr>\n",
       "      <th>4</th>\n",
       "      <td>I purchased this for use in a French press. I'...</td>\n",
       "      <td>52</td>\n",
       "      <td>276</td>\n",
       "      <td>4.326923</td>\n",
       "      <td>24</td>\n",
       "      <td>0.461538</td>\n",
       "    </tr>\n",
       "    <tr>\n",
       "      <th>3</th>\n",
       "      <td>I am long time customer of blue tokkai coffee ...</td>\n",
       "      <td>67</td>\n",
       "      <td>359</td>\n",
       "      <td>4.373134</td>\n",
       "      <td>31</td>\n",
       "      <td>0.462687</td>\n",
       "    </tr>\n",
       "    <tr>\n",
       "      <th>0</th>\n",
       "      <td>Not high quality Arabica to begin with. Very s...</td>\n",
       "      <td>184</td>\n",
       "      <td>999</td>\n",
       "      <td>4.434783</td>\n",
       "      <td>86</td>\n",
       "      <td>0.467391</td>\n",
       "    </tr>\n",
       "    <tr>\n",
       "      <th>8</th>\n",
       "      <td>I am a coffee junkie. Everyone teases me about...</td>\n",
       "      <td>112</td>\n",
       "      <td>561</td>\n",
       "      <td>4.017857</td>\n",
       "      <td>53</td>\n",
       "      <td>0.473214</td>\n",
       "    </tr>\n",
       "    <tr>\n",
       "      <th>1</th>\n",
       "      <td>I have also bought the Byenemara estate and I ...</td>\n",
       "      <td>66</td>\n",
       "      <td>367</td>\n",
       "      <td>4.575758</td>\n",
       "      <td>32</td>\n",
       "      <td>0.484848</td>\n",
       "    </tr>\n",
       "    <tr>\n",
       "      <th>9</th>\n",
       "      <td>I opened the packet and found it almost half e...</td>\n",
       "      <td>97</td>\n",
       "      <td>459</td>\n",
       "      <td>3.742268</td>\n",
       "      <td>50</td>\n",
       "      <td>0.515464</td>\n",
       "    </tr>\n",
       "  </tbody>\n",
       "</table>\n",
       "</div>"
      ],
      "text/plain": [
       "                                             reviews  word count  char_count  \\\n",
       "6  This coffee is premium quality, Single Origin ...          97         583   \n",
       "2  I was tired of paying 750 every time for Starb...          28         163   \n",
       "5  The beans have intense aroma and an earthy fla...          76         439   \n",
       "7  There aren't any Blue Tokai outlets in Souther...          75         435   \n",
       "4  I purchased this for use in a French press. I'...          52         276   \n",
       "3  I am long time customer of blue tokkai coffee ...          67         359   \n",
       "0  Not high quality Arabica to begin with. Very s...         184         999   \n",
       "8  I am a coffee junkie. Everyone teases me about...         112         561   \n",
       "1  I have also bought the Byenemara estate and I ...          66         367   \n",
       "9  I opened the packet and found it almost half e...          97         459   \n",
       "\n",
       "   word_length  stopword_count  stopword_rate  \n",
       "6     5.020619              33       0.340206  \n",
       "2     4.857143              12       0.428571  \n",
       "5     4.789474              33       0.434211  \n",
       "7     4.813333              34       0.453333  \n",
       "4     4.326923              24       0.461538  \n",
       "3     4.373134              31       0.462687  \n",
       "0     4.434783              86       0.467391  \n",
       "8     4.017857              53       0.473214  \n",
       "1     4.575758              32       0.484848  \n",
       "9     3.742268              50       0.515464  "
      ]
     },
     "execution_count": 100,
     "metadata": {},
     "output_type": "execute_result"
    }
   ],
   "source": [
    "df.sort_values(by = 'stopword_rate')"
   ]
  },
  {
   "cell_type": "code",
   "execution_count": 101,
   "id": "1f40d3dd",
   "metadata": {},
   "outputs": [
    {
     "data": {
      "text/html": [
       "<div>\n",
       "<style scoped>\n",
       "    .dataframe tbody tr th:only-of-type {\n",
       "        vertical-align: middle;\n",
       "    }\n",
       "\n",
       "    .dataframe tbody tr th {\n",
       "        vertical-align: top;\n",
       "    }\n",
       "\n",
       "    .dataframe thead th {\n",
       "        text-align: right;\n",
       "    }\n",
       "</style>\n",
       "<table border=\"1\" class=\"dataframe\">\n",
       "  <thead>\n",
       "    <tr style=\"text-align: right;\">\n",
       "      <th></th>\n",
       "      <th>word count</th>\n",
       "      <th>char_count</th>\n",
       "      <th>word_length</th>\n",
       "      <th>stopword_count</th>\n",
       "      <th>stopword_rate</th>\n",
       "    </tr>\n",
       "  </thead>\n",
       "  <tbody>\n",
       "    <tr>\n",
       "      <th>count</th>\n",
       "      <td>10.000000</td>\n",
       "      <td>10.000000</td>\n",
       "      <td>10.000000</td>\n",
       "      <td>10.000000</td>\n",
       "      <td>10.000000</td>\n",
       "    </tr>\n",
       "    <tr>\n",
       "      <th>mean</th>\n",
       "      <td>85.400000</td>\n",
       "      <td>464.100000</td>\n",
       "      <td>4.495129</td>\n",
       "      <td>38.800000</td>\n",
       "      <td>0.452146</td>\n",
       "    </tr>\n",
       "    <tr>\n",
       "      <th>std</th>\n",
       "      <td>42.190573</td>\n",
       "      <td>225.503117</td>\n",
       "      <td>0.400415</td>\n",
       "      <td>20.247359</td>\n",
       "      <td>0.046384</td>\n",
       "    </tr>\n",
       "    <tr>\n",
       "      <th>min</th>\n",
       "      <td>28.000000</td>\n",
       "      <td>163.000000</td>\n",
       "      <td>3.742268</td>\n",
       "      <td>12.000000</td>\n",
       "      <td>0.340206</td>\n",
       "    </tr>\n",
       "    <tr>\n",
       "      <th>25%</th>\n",
       "      <td>66.250000</td>\n",
       "      <td>361.000000</td>\n",
       "      <td>4.338476</td>\n",
       "      <td>31.250000</td>\n",
       "      <td>0.438991</td>\n",
       "    </tr>\n",
       "    <tr>\n",
       "      <th>50%</th>\n",
       "      <td>75.500000</td>\n",
       "      <td>437.000000</td>\n",
       "      <td>4.505270</td>\n",
       "      <td>33.000000</td>\n",
       "      <td>0.462113</td>\n",
       "    </tr>\n",
       "    <tr>\n",
       "      <th>75%</th>\n",
       "      <td>97.000000</td>\n",
       "      <td>535.500000</td>\n",
       "      <td>4.807368</td>\n",
       "      <td>46.000000</td>\n",
       "      <td>0.471759</td>\n",
       "    </tr>\n",
       "    <tr>\n",
       "      <th>max</th>\n",
       "      <td>184.000000</td>\n",
       "      <td>999.000000</td>\n",
       "      <td>5.020619</td>\n",
       "      <td>86.000000</td>\n",
       "      <td>0.515464</td>\n",
       "    </tr>\n",
       "  </tbody>\n",
       "</table>\n",
       "</div>"
      ],
      "text/plain": [
       "       word count  char_count  word_length  stopword_count  stopword_rate\n",
       "count   10.000000   10.000000    10.000000       10.000000      10.000000\n",
       "mean    85.400000  464.100000     4.495129       38.800000       0.452146\n",
       "std     42.190573  225.503117     0.400415       20.247359       0.046384\n",
       "min     28.000000  163.000000     3.742268       12.000000       0.340206\n",
       "25%     66.250000  361.000000     4.338476       31.250000       0.438991\n",
       "50%     75.500000  437.000000     4.505270       33.000000       0.462113\n",
       "75%     97.000000  535.500000     4.807368       46.000000       0.471759\n",
       "max    184.000000  999.000000     5.020619       86.000000       0.515464"
      ]
     },
     "execution_count": 101,
     "metadata": {},
     "output_type": "execute_result"
    }
   ],
   "source": [
    "df.describe()"
   ]
  },
  {
   "cell_type": "code",
   "execution_count": 103,
   "id": "d68a4e9b",
   "metadata": {},
   "outputs": [],
   "source": [
    "df['review_lower'] = df['reviews'].apply(lambda x: \" \".join(x.lower() for x in x.split()))"
   ]
  },
  {
   "cell_type": "code",
   "execution_count": 104,
   "id": "468e6cbd",
   "metadata": {},
   "outputs": [
    {
     "name": "stderr",
     "output_type": "stream",
     "text": [
      "<ipython-input-104-2d015f2930b1>:1: FutureWarning: The default value of regex will change from True to False in a future version.\n",
      "  df['review_nopunc'] = df['review_lower'].str.replace('[^\\w\\s]', '')\n"
     ]
    }
   ],
   "source": [
    "df['review_nopunc'] = df['review_lower'].str.replace('[^\\w\\s]', '')"
   ]
  },
  {
   "cell_type": "code",
   "execution_count": 105,
   "id": "3bbe0d44",
   "metadata": {},
   "outputs": [],
   "source": [
    "df['review_nopunc_nostop'] = df['review_nopunc'].apply(lambda x: \" \".join(x for x in x.split() if x not in stop_words))"
   ]
  },
  {
   "cell_type": "code",
   "execution_count": 108,
   "id": "91f5f78f",
   "metadata": {},
   "outputs": [],
   "source": [
    "freq= pd.Series(\" \".join(df['review_nopunc_nostop']).split()).value_counts()[:30]"
   ]
  },
  {
   "cell_type": "code",
   "execution_count": 109,
   "id": "20296a40",
   "metadata": {},
   "outputs": [
    {
     "data": {
      "text/plain": [
       "coffee       25\n",
       "beans        10\n",
       "roast         8\n",
       "like          7\n",
       "aroma         6\n",
       "light         5\n",
       "get           5\n",
       "roasting      5\n",
       "blue          4\n",
       "good          4\n",
       "roasted       4\n",
       "quality       4\n",
       "espresso      4\n",
       "tokai         3\n",
       "use           3\n",
       "try           3\n",
       "estate        3\n",
       "medium        3\n",
       "brew          3\n",
       "bitter        3\n",
       "robusta       3\n",
       "im            3\n",
       "also          3\n",
       "black         3\n",
       "ground        3\n",
       "would         3\n",
       "starbucks     3\n",
       "arabica       3\n",
       "taste         3\n",
       "ive           2\n",
       "dtype: int64"
      ]
     },
     "execution_count": 109,
     "metadata": {},
     "output_type": "execute_result"
    }
   ],
   "source": [
    "freq"
   ]
  },
  {
   "cell_type": "code",
   "execution_count": 110,
   "id": "2a55b679",
   "metadata": {},
   "outputs": [],
   "source": [
    "other_stopwords = ['get', 'us', 'see', 'use', 'said', 'asked', 'day', 'go',\n",
    "  'even', 'ive', 'right', 'left', 'always', 'would', 'told',\n",
    "  'get', 'us', 'would', 'get', 'one', 'im', 'go', 'even',\n",
    "  'also', 'ever', 'try', 'take', 'let' ]"
   ]
  },
  {
   "cell_type": "code",
   "execution_count": 111,
   "id": "4b19bc6b",
   "metadata": {},
   "outputs": [],
   "source": [
    "df['review_nopunc_nostop_nocommon'] = df['review_nopunc_nostop'].apply(lambda x: \"\".join(\" \".join(x for x in x.split() if x not in other_stopwords)))"
   ]
  },
  {
   "cell_type": "code",
   "execution_count": 112,
   "id": "24c7d293",
   "metadata": {},
   "outputs": [
    {
     "data": {
      "text/html": [
       "<div>\n",
       "<style scoped>\n",
       "    .dataframe tbody tr th:only-of-type {\n",
       "        vertical-align: middle;\n",
       "    }\n",
       "\n",
       "    .dataframe tbody tr th {\n",
       "        vertical-align: top;\n",
       "    }\n",
       "\n",
       "    .dataframe thead th {\n",
       "        text-align: right;\n",
       "    }\n",
       "</style>\n",
       "<table border=\"1\" class=\"dataframe\">\n",
       "  <thead>\n",
       "    <tr style=\"text-align: right;\">\n",
       "      <th></th>\n",
       "      <th>reviews</th>\n",
       "      <th>word count</th>\n",
       "      <th>char_count</th>\n",
       "      <th>word_length</th>\n",
       "      <th>stopword_count</th>\n",
       "      <th>stopword_rate</th>\n",
       "      <th>review_lower</th>\n",
       "      <th>review_nopunc</th>\n",
       "      <th>review_nopunc_nostop</th>\n",
       "      <th>review_nopunc_nostop_nocommon</th>\n",
       "    </tr>\n",
       "  </thead>\n",
       "  <tbody>\n",
       "    <tr>\n",
       "      <th>0</th>\n",
       "      <td>Not high quality Arabica to begin with. Very s...</td>\n",
       "      <td>184</td>\n",
       "      <td>999</td>\n",
       "      <td>4.434783</td>\n",
       "      <td>86</td>\n",
       "      <td>0.467391</td>\n",
       "      <td>not high quality arabica to begin with. very s...</td>\n",
       "      <td>not high quality arabica to begin with very sm...</td>\n",
       "      <td>high quality arabica begin small size seeds ma...</td>\n",
       "      <td>high quality arabica begin small size seeds ma...</td>\n",
       "    </tr>\n",
       "    <tr>\n",
       "      <th>1</th>\n",
       "      <td>I have also bought the Byenemara estate and I ...</td>\n",
       "      <td>66</td>\n",
       "      <td>367</td>\n",
       "      <td>4.575758</td>\n",
       "      <td>32</td>\n",
       "      <td>0.484848</td>\n",
       "      <td>i have also bought the byenemara estate and i ...</td>\n",
       "      <td>i have also bought the byenemara estate and i ...</td>\n",
       "      <td>also bought byenemara estate give comparison t...</td>\n",
       "      <td>bought byenemara estate give comparison two at...</td>\n",
       "    </tr>\n",
       "    <tr>\n",
       "      <th>2</th>\n",
       "      <td>I was tired of paying 750 every time for Starb...</td>\n",
       "      <td>28</td>\n",
       "      <td>163</td>\n",
       "      <td>4.857143</td>\n",
       "      <td>12</td>\n",
       "      <td>0.428571</td>\n",
       "      <td>i was tired of paying 750 every time for starb...</td>\n",
       "      <td>i was tired of paying 750 every time for starb...</td>\n",
       "      <td>tired paying 750 every time starbucks beans me...</td>\n",
       "      <td>tired paying 750 every time starbucks beans me...</td>\n",
       "    </tr>\n",
       "    <tr>\n",
       "      <th>3</th>\n",
       "      <td>I am long time customer of blue tokkai coffee ...</td>\n",
       "      <td>67</td>\n",
       "      <td>359</td>\n",
       "      <td>4.373134</td>\n",
       "      <td>31</td>\n",
       "      <td>0.462687</td>\n",
       "      <td>i am long time customer of blue tokkai coffee ...</td>\n",
       "      <td>i am long time customer of blue tokkai coffee ...</td>\n",
       "      <td>long time customer blue tokkai coffee beans gr...</td>\n",
       "      <td>long time customer blue tokkai coffee beans gr...</td>\n",
       "    </tr>\n",
       "    <tr>\n",
       "      <th>4</th>\n",
       "      <td>I purchased this for use in a French press. I'...</td>\n",
       "      <td>52</td>\n",
       "      <td>276</td>\n",
       "      <td>4.326923</td>\n",
       "      <td>24</td>\n",
       "      <td>0.461538</td>\n",
       "      <td>i purchased this for use in a french press. i'...</td>\n",
       "      <td>i purchased this for use in a french press im ...</td>\n",
       "      <td>purchased use french press im quite fastidious...</td>\n",
       "      <td>purchased french press quite fastidious brew c...</td>\n",
       "    </tr>\n",
       "  </tbody>\n",
       "</table>\n",
       "</div>"
      ],
      "text/plain": [
       "                                             reviews  word count  char_count  \\\n",
       "0  Not high quality Arabica to begin with. Very s...         184         999   \n",
       "1  I have also bought the Byenemara estate and I ...          66         367   \n",
       "2  I was tired of paying 750 every time for Starb...          28         163   \n",
       "3  I am long time customer of blue tokkai coffee ...          67         359   \n",
       "4  I purchased this for use in a French press. I'...          52         276   \n",
       "\n",
       "   word_length  stopword_count  stopword_rate  \\\n",
       "0     4.434783              86       0.467391   \n",
       "1     4.575758              32       0.484848   \n",
       "2     4.857143              12       0.428571   \n",
       "3     4.373134              31       0.462687   \n",
       "4     4.326923              24       0.461538   \n",
       "\n",
       "                                        review_lower  \\\n",
       "0  not high quality arabica to begin with. very s...   \n",
       "1  i have also bought the byenemara estate and i ...   \n",
       "2  i was tired of paying 750 every time for starb...   \n",
       "3  i am long time customer of blue tokkai coffee ...   \n",
       "4  i purchased this for use in a french press. i'...   \n",
       "\n",
       "                                       review_nopunc  \\\n",
       "0  not high quality arabica to begin with very sm...   \n",
       "1  i have also bought the byenemara estate and i ...   \n",
       "2  i was tired of paying 750 every time for starb...   \n",
       "3  i am long time customer of blue tokkai coffee ...   \n",
       "4  i purchased this for use in a french press im ...   \n",
       "\n",
       "                                review_nopunc_nostop  \\\n",
       "0  high quality arabica begin small size seeds ma...   \n",
       "1  also bought byenemara estate give comparison t...   \n",
       "2  tired paying 750 every time starbucks beans me...   \n",
       "3  long time customer blue tokkai coffee beans gr...   \n",
       "4  purchased use french press im quite fastidious...   \n",
       "\n",
       "                       review_nopunc_nostop_nocommon  \n",
       "0  high quality arabica begin small size seeds ma...  \n",
       "1  bought byenemara estate give comparison two at...  \n",
       "2  tired paying 750 every time starbucks beans me...  \n",
       "3  long time customer blue tokkai coffee beans gr...  \n",
       "4  purchased french press quite fastidious brew c...  "
      ]
     },
     "execution_count": 112,
     "metadata": {},
     "output_type": "execute_result"
    }
   ],
   "source": [
    "df.head()"
   ]
  },
  {
   "cell_type": "markdown",
   "id": "5cd811a2",
   "metadata": {},
   "source": [
    "### Lemmatization"
   ]
  },
  {
   "cell_type": "code",
   "execution_count": 116,
   "id": "d81e5a0f",
   "metadata": {},
   "outputs": [],
   "source": [
    "#Import Text Blob\n",
    "from textblob import Word"
   ]
  },
  {
   "cell_type": "code",
   "execution_count": 117,
   "id": "212d9fbd",
   "metadata": {},
   "outputs": [],
   "source": [
    "df['cleaned_review'] = df['review_nopunc_nostop_nocommon'].apply(lambda x: \" \".join([Word(word).lemmatize() for word in x.split()]))"
   ]
  },
  {
   "cell_type": "code",
   "execution_count": 118,
   "id": "11ac2287",
   "metadata": {},
   "outputs": [
    {
     "data": {
      "text/plain": [
       "0    high quality arabica begin small size seed may...\n",
       "1    bought byenemara estate give comparison two at...\n",
       "2    tired paying 750 every time starbucks bean med...\n",
       "3    long time customer blue tokkai coffee bean gri...\n",
       "4    purchased french press quite fastidious brew c...\n",
       "5    bean intense aroma earthy flavor roast nowhere...\n",
       "6    coffee premium quality single origin arabica u...\n",
       "7    arent blue tokai outlet southern bombay hadnt ...\n",
       "8    coffee junkie everyone tease coffee running th...\n",
       "9    opened packet found almost half empty r 400 to...\n",
       "Name: cleaned_review, dtype: object"
      ]
     },
     "execution_count": 118,
     "metadata": {},
     "output_type": "execute_result"
    }
   ],
   "source": [
    "df['cleaned_review']"
   ]
  },
  {
   "cell_type": "markdown",
   "id": "0f79d2fb",
   "metadata": {},
   "source": [
    "### Sentiment Analysis"
   ]
  },
  {
   "cell_type": "code",
   "execution_count": 119,
   "id": "0fce7b9e",
   "metadata": {},
   "outputs": [],
   "source": [
    "from textblob import TextBlob"
   ]
  },
  {
   "cell_type": "code",
   "execution_count": 120,
   "id": "cca296a3",
   "metadata": {},
   "outputs": [],
   "source": [
    "df['polarity'] = df['cleaned_review'].apply(lambda x: TextBlob(x).sentiment[0])"
   ]
  },
  {
   "cell_type": "code",
   "execution_count": 121,
   "id": "cda55d99",
   "metadata": {},
   "outputs": [
    {
     "data": {
      "text/html": [
       "<div>\n",
       "<style scoped>\n",
       "    .dataframe tbody tr th:only-of-type {\n",
       "        vertical-align: middle;\n",
       "    }\n",
       "\n",
       "    .dataframe tbody tr th {\n",
       "        vertical-align: top;\n",
       "    }\n",
       "\n",
       "    .dataframe thead th {\n",
       "        text-align: right;\n",
       "    }\n",
       "</style>\n",
       "<table border=\"1\" class=\"dataframe\">\n",
       "  <thead>\n",
       "    <tr style=\"text-align: right;\">\n",
       "      <th></th>\n",
       "      <th>reviews</th>\n",
       "      <th>polarity</th>\n",
       "    </tr>\n",
       "  </thead>\n",
       "  <tbody>\n",
       "    <tr>\n",
       "      <th>0</th>\n",
       "      <td>Not high quality Arabica to begin with. Very s...</td>\n",
       "      <td>0.074706</td>\n",
       "    </tr>\n",
       "    <tr>\n",
       "      <th>1</th>\n",
       "      <td>I have also bought the Byenemara estate and I ...</td>\n",
       "      <td>0.090476</td>\n",
       "    </tr>\n",
       "    <tr>\n",
       "      <th>2</th>\n",
       "      <td>I was tired of paying 750 every time for Starb...</td>\n",
       "      <td>0.033333</td>\n",
       "    </tr>\n",
       "    <tr>\n",
       "      <th>3</th>\n",
       "      <td>I am long time customer of blue tokkai coffee ...</td>\n",
       "      <td>0.331250</td>\n",
       "    </tr>\n",
       "    <tr>\n",
       "      <th>4</th>\n",
       "      <td>I purchased this for use in a French press. I'...</td>\n",
       "      <td>0.000000</td>\n",
       "    </tr>\n",
       "    <tr>\n",
       "      <th>5</th>\n",
       "      <td>The beans have intense aroma and an earthy fla...</td>\n",
       "      <td>0.203704</td>\n",
       "    </tr>\n",
       "    <tr>\n",
       "      <th>6</th>\n",
       "      <td>This coffee is premium quality, Single Origin ...</td>\n",
       "      <td>0.271088</td>\n",
       "    </tr>\n",
       "    <tr>\n",
       "      <th>7</th>\n",
       "      <td>There aren't any Blue Tokai outlets in Souther...</td>\n",
       "      <td>0.366667</td>\n",
       "    </tr>\n",
       "    <tr>\n",
       "      <th>8</th>\n",
       "      <td>I am a coffee junkie. Everyone teases me about...</td>\n",
       "      <td>0.311250</td>\n",
       "    </tr>\n",
       "    <tr>\n",
       "      <th>9</th>\n",
       "      <td>I opened the packet and found it almost half e...</td>\n",
       "      <td>0.043122</td>\n",
       "    </tr>\n",
       "  </tbody>\n",
       "</table>\n",
       "</div>"
      ],
      "text/plain": [
       "                                             reviews  polarity\n",
       "0  Not high quality Arabica to begin with. Very s...  0.074706\n",
       "1  I have also bought the Byenemara estate and I ...  0.090476\n",
       "2  I was tired of paying 750 every time for Starb...  0.033333\n",
       "3  I am long time customer of blue tokkai coffee ...  0.331250\n",
       "4  I purchased this for use in a French press. I'...  0.000000\n",
       "5  The beans have intense aroma and an earthy fla...  0.203704\n",
       "6  This coffee is premium quality, Single Origin ...  0.271088\n",
       "7  There aren't any Blue Tokai outlets in Souther...  0.366667\n",
       "8  I am a coffee junkie. Everyone teases me about...  0.311250\n",
       "9  I opened the packet and found it almost half e...  0.043122"
      ]
     },
     "execution_count": 121,
     "metadata": {},
     "output_type": "execute_result"
    }
   ],
   "source": [
    "df[['reviews', 'polarity']]"
   ]
  },
  {
   "cell_type": "code",
   "execution_count": 122,
   "id": "eee603ea",
   "metadata": {},
   "outputs": [],
   "source": [
    "df['subjectivity'] = df['cleaned_review'].apply(lambda x: TextBlob(x).sentiment[1])"
   ]
  },
  {
   "cell_type": "code",
   "execution_count": 123,
   "id": "79e834ca",
   "metadata": {},
   "outputs": [
    {
     "data": {
      "text/html": [
       "<div>\n",
       "<style scoped>\n",
       "    .dataframe tbody tr th:only-of-type {\n",
       "        vertical-align: middle;\n",
       "    }\n",
       "\n",
       "    .dataframe tbody tr th {\n",
       "        vertical-align: top;\n",
       "    }\n",
       "\n",
       "    .dataframe thead th {\n",
       "        text-align: right;\n",
       "    }\n",
       "</style>\n",
       "<table border=\"1\" class=\"dataframe\">\n",
       "  <thead>\n",
       "    <tr style=\"text-align: right;\">\n",
       "      <th></th>\n",
       "      <th>reviews</th>\n",
       "      <th>subjectivity</th>\n",
       "    </tr>\n",
       "  </thead>\n",
       "  <tbody>\n",
       "    <tr>\n",
       "      <th>0</th>\n",
       "      <td>Not high quality Arabica to begin with. Very s...</td>\n",
       "      <td>0.463529</td>\n",
       "    </tr>\n",
       "    <tr>\n",
       "      <th>1</th>\n",
       "      <td>I have also bought the Byenemara estate and I ...</td>\n",
       "      <td>0.583333</td>\n",
       "    </tr>\n",
       "    <tr>\n",
       "      <th>2</th>\n",
       "      <td>I was tired of paying 750 every time for Starb...</td>\n",
       "      <td>0.900000</td>\n",
       "    </tr>\n",
       "    <tr>\n",
       "      <th>3</th>\n",
       "      <td>I am long time customer of blue tokkai coffee ...</td>\n",
       "      <td>0.387500</td>\n",
       "    </tr>\n",
       "    <tr>\n",
       "      <th>4</th>\n",
       "      <td>I purchased this for use in a French press. I'...</td>\n",
       "      <td>0.000000</td>\n",
       "    </tr>\n",
       "    <tr>\n",
       "      <th>5</th>\n",
       "      <td>The beans have intense aroma and an earthy fla...</td>\n",
       "      <td>0.533333</td>\n",
       "    </tr>\n",
       "    <tr>\n",
       "      <th>6</th>\n",
       "      <td>This coffee is premium quality, Single Origin ...</td>\n",
       "      <td>0.639116</td>\n",
       "    </tr>\n",
       "    <tr>\n",
       "      <th>7</th>\n",
       "      <td>There aren't any Blue Tokai outlets in Souther...</td>\n",
       "      <td>0.555556</td>\n",
       "    </tr>\n",
       "    <tr>\n",
       "      <th>8</th>\n",
       "      <td>I am a coffee junkie. Everyone teases me about...</td>\n",
       "      <td>0.476667</td>\n",
       "    </tr>\n",
       "    <tr>\n",
       "      <th>9</th>\n",
       "      <td>I opened the packet and found it almost half e...</td>\n",
       "      <td>0.328042</td>\n",
       "    </tr>\n",
       "  </tbody>\n",
       "</table>\n",
       "</div>"
      ],
      "text/plain": [
       "                                             reviews  subjectivity\n",
       "0  Not high quality Arabica to begin with. Very s...      0.463529\n",
       "1  I have also bought the Byenemara estate and I ...      0.583333\n",
       "2  I was tired of paying 750 every time for Starb...      0.900000\n",
       "3  I am long time customer of blue tokkai coffee ...      0.387500\n",
       "4  I purchased this for use in a French press. I'...      0.000000\n",
       "5  The beans have intense aroma and an earthy fla...      0.533333\n",
       "6  This coffee is premium quality, Single Origin ...      0.639116\n",
       "7  There aren't any Blue Tokai outlets in Souther...      0.555556\n",
       "8  I am a coffee junkie. Everyone teases me about...      0.476667\n",
       "9  I opened the packet and found it almost half e...      0.328042"
      ]
     },
     "execution_count": 123,
     "metadata": {},
     "output_type": "execute_result"
    }
   ],
   "source": [
    "df[['reviews', 'subjectivity']]"
   ]
  },
  {
   "cell_type": "code",
   "execution_count": null,
   "id": "aea44860",
   "metadata": {},
   "outputs": [],
   "source": [
    "#The results of this analysis are insignificant as the number of reviews was just 10. "
   ]
  }
 ],
 "metadata": {
  "kernelspec": {
   "display_name": "Python 3",
   "language": "python",
   "name": "python3"
  },
  "language_info": {
   "codemirror_mode": {
    "name": "ipython",
    "version": 3
   },
   "file_extension": ".py",
   "mimetype": "text/x-python",
   "name": "python",
   "nbconvert_exporter": "python",
   "pygments_lexer": "ipython3",
   "version": "3.8.8"
  }
 },
 "nbformat": 4,
 "nbformat_minor": 5
}
