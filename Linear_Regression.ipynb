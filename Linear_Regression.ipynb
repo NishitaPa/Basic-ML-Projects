{
 "cells": [
  {
   "cell_type": "code",
   "execution_count": 1,
   "id": "86ec38da",
   "metadata": {},
   "outputs": [],
   "source": [
    "import pandas as pd\n",
    "import numpy as np\n",
    "import matplotlib.pyplot as plt\n",
    "import seaborn as sns\n",
    "%matplotlib inline\n",
    "sns.set_style(style='whitegrid')"
   ]
  },
  {
   "cell_type": "code",
   "execution_count": 2,
   "id": "2fb2d12b",
   "metadata": {},
   "outputs": [],
   "source": [
    "data_df = pd.read_excel('Biostats Project.xlsx')"
   ]
  },
  {
   "cell_type": "code",
   "execution_count": 3,
   "id": "947170ab",
   "metadata": {},
   "outputs": [
    {
     "data": {
      "text/html": [
       "<div>\n",
       "<style scoped>\n",
       "    .dataframe tbody tr th:only-of-type {\n",
       "        vertical-align: middle;\n",
       "    }\n",
       "\n",
       "    .dataframe tbody tr th {\n",
       "        vertical-align: top;\n",
       "    }\n",
       "\n",
       "    .dataframe thead th {\n",
       "        text-align: right;\n",
       "    }\n",
       "</style>\n",
       "<table border=\"1\" class=\"dataframe\">\n",
       "  <thead>\n",
       "    <tr style=\"text-align: right;\">\n",
       "      <th></th>\n",
       "      <th>Countries</th>\n",
       "      <th>Confirmed Cases</th>\n",
       "      <th>Deaths</th>\n",
       "      <th>GDP per capita in USD</th>\n",
       "      <th>GHS Index</th>\n",
       "      <th>Gender Ratio Males per 100 Females</th>\n",
       "      <th>Literacy Rate in %</th>\n",
       "    </tr>\n",
       "  </thead>\n",
       "  <tbody>\n",
       "    <tr>\n",
       "      <th>0</th>\n",
       "      <td>USA</td>\n",
       "      <td>113690</td>\n",
       "      <td>3433</td>\n",
       "      <td>47099.98</td>\n",
       "      <td>83.5</td>\n",
       "      <td>97.58</td>\n",
       "      <td>NaN</td>\n",
       "    </tr>\n",
       "    <tr>\n",
       "      <th>1</th>\n",
       "      <td>Mexico</td>\n",
       "      <td>70715</td>\n",
       "      <td>1316</td>\n",
       "      <td>8002.97</td>\n",
       "      <td>57.6</td>\n",
       "      <td>95.81</td>\n",
       "      <td>93.44</td>\n",
       "    </tr>\n",
       "    <tr>\n",
       "      <th>2</th>\n",
       "      <td>Brazil</td>\n",
       "      <td>58178</td>\n",
       "      <td>2135</td>\n",
       "      <td>8597.92</td>\n",
       "      <td>59.7</td>\n",
       "      <td>97.34</td>\n",
       "      <td>90.30</td>\n",
       "    </tr>\n",
       "    <tr>\n",
       "      <th>3</th>\n",
       "      <td>India</td>\n",
       "      <td>33783</td>\n",
       "      <td>2024</td>\n",
       "      <td>1101.96</td>\n",
       "      <td>46.5</td>\n",
       "      <td>108.45</td>\n",
       "      <td>74.04</td>\n",
       "    </tr>\n",
       "    <tr>\n",
       "      <th>4</th>\n",
       "      <td>Russia</td>\n",
       "      <td>25339</td>\n",
       "      <td>604</td>\n",
       "      <td>8562.81</td>\n",
       "      <td>44.3</td>\n",
       "      <td>86.49</td>\n",
       "      <td>99.68</td>\n",
       "    </tr>\n",
       "  </tbody>\n",
       "</table>\n",
       "</div>"
      ],
      "text/plain": [
       "  Countries  Confirmed Cases  Deaths  GDP per capita in USD  GHS Index  \\\n",
       "0       USA           113690    3433               47099.98       83.5   \n",
       "1    Mexico            70715    1316                8002.97       57.6   \n",
       "2    Brazil            58178    2135                8597.92       59.7   \n",
       "3     India            33783    2024                1101.96       46.5   \n",
       "4    Russia            25339     604                8562.81       44.3   \n",
       "\n",
       "   Gender Ratio Males per 100 Females  Literacy Rate in %  \n",
       "0                               97.58                 NaN  \n",
       "1                               95.81               93.44  \n",
       "2                               97.34               90.30  \n",
       "3                              108.45               74.04  \n",
       "4                               86.49               99.68  "
      ]
     },
     "execution_count": 3,
     "metadata": {},
     "output_type": "execute_result"
    }
   ],
   "source": [
    "data_df"
   ]
  },
  {
   "cell_type": "code",
   "execution_count": 4,
   "id": "34ded29d",
   "metadata": {},
   "outputs": [
    {
     "name": "stderr",
     "output_type": "stream",
     "text": [
      "<ipython-input-4-380267b37de9>:1: SettingWithCopyWarning: \n",
      "A value is trying to be set on a copy of a slice from a DataFrame\n",
      "\n",
      "See the caveats in the documentation: https://pandas.pydata.org/pandas-docs/stable/user_guide/indexing.html#returning-a-view-versus-a-copy\n",
      "  data_df['Literacy Rate in %'][0]= 99.00\n"
     ]
    }
   ],
   "source": [
    "data_df['Literacy Rate in %'][0]= 99.00"
   ]
  },
  {
   "cell_type": "code",
   "execution_count": 5,
   "id": "3f2ea1e5",
   "metadata": {},
   "outputs": [
    {
     "data": {
      "text/plain": [
       "99.0"
      ]
     },
     "execution_count": 5,
     "metadata": {},
     "output_type": "execute_result"
    }
   ],
   "source": [
    "data_df['Literacy Rate in %'][0]"
   ]
  },
  {
   "cell_type": "code",
   "execution_count": 6,
   "id": "844e1ac6",
   "metadata": {},
   "outputs": [],
   "source": [
    "data_df['Fatality Rate'] = data_df['Deaths']/data_df['Confirmed Cases']"
   ]
  },
  {
   "cell_type": "code",
   "execution_count": 7,
   "id": "22f68cb3",
   "metadata": {},
   "outputs": [
    {
     "data": {
      "text/html": [
       "<div>\n",
       "<style scoped>\n",
       "    .dataframe tbody tr th:only-of-type {\n",
       "        vertical-align: middle;\n",
       "    }\n",
       "\n",
       "    .dataframe tbody tr th {\n",
       "        vertical-align: top;\n",
       "    }\n",
       "\n",
       "    .dataframe thead th {\n",
       "        text-align: right;\n",
       "    }\n",
       "</style>\n",
       "<table border=\"1\" class=\"dataframe\">\n",
       "  <thead>\n",
       "    <tr style=\"text-align: right;\">\n",
       "      <th></th>\n",
       "      <th>Countries</th>\n",
       "      <th>Confirmed Cases</th>\n",
       "      <th>Deaths</th>\n",
       "      <th>GDP per capita in USD</th>\n",
       "      <th>GHS Index</th>\n",
       "      <th>Gender Ratio Males per 100 Females</th>\n",
       "      <th>Literacy Rate in %</th>\n",
       "      <th>Fatality Rate</th>\n",
       "    </tr>\n",
       "  </thead>\n",
       "  <tbody>\n",
       "    <tr>\n",
       "      <th>0</th>\n",
       "      <td>USA</td>\n",
       "      <td>113690</td>\n",
       "      <td>3433</td>\n",
       "      <td>47099.98</td>\n",
       "      <td>83.5</td>\n",
       "      <td>97.58</td>\n",
       "      <td>99.00</td>\n",
       "      <td>0.030196</td>\n",
       "    </tr>\n",
       "    <tr>\n",
       "      <th>1</th>\n",
       "      <td>Mexico</td>\n",
       "      <td>70715</td>\n",
       "      <td>1316</td>\n",
       "      <td>8002.97</td>\n",
       "      <td>57.6</td>\n",
       "      <td>95.81</td>\n",
       "      <td>93.44</td>\n",
       "      <td>0.018610</td>\n",
       "    </tr>\n",
       "    <tr>\n",
       "      <th>2</th>\n",
       "      <td>Brazil</td>\n",
       "      <td>58178</td>\n",
       "      <td>2135</td>\n",
       "      <td>8597.92</td>\n",
       "      <td>59.7</td>\n",
       "      <td>97.34</td>\n",
       "      <td>90.30</td>\n",
       "      <td>0.036698</td>\n",
       "    </tr>\n",
       "    <tr>\n",
       "      <th>3</th>\n",
       "      <td>India</td>\n",
       "      <td>33783</td>\n",
       "      <td>2024</td>\n",
       "      <td>1101.96</td>\n",
       "      <td>46.5</td>\n",
       "      <td>108.45</td>\n",
       "      <td>74.04</td>\n",
       "      <td>0.059912</td>\n",
       "    </tr>\n",
       "    <tr>\n",
       "      <th>4</th>\n",
       "      <td>Russia</td>\n",
       "      <td>25339</td>\n",
       "      <td>604</td>\n",
       "      <td>8562.81</td>\n",
       "      <td>44.3</td>\n",
       "      <td>86.49</td>\n",
       "      <td>99.68</td>\n",
       "      <td>0.023837</td>\n",
       "    </tr>\n",
       "  </tbody>\n",
       "</table>\n",
       "</div>"
      ],
      "text/plain": [
       "  Countries  Confirmed Cases  Deaths  GDP per capita in USD  GHS Index  \\\n",
       "0       USA           113690    3433               47099.98       83.5   \n",
       "1    Mexico            70715    1316                8002.97       57.6   \n",
       "2    Brazil            58178    2135                8597.92       59.7   \n",
       "3     India            33783    2024                1101.96       46.5   \n",
       "4    Russia            25339     604                8562.81       44.3   \n",
       "\n",
       "   Gender Ratio Males per 100 Females  Literacy Rate in %  Fatality Rate  \n",
       "0                               97.58               99.00       0.030196  \n",
       "1                               95.81               93.44       0.018610  \n",
       "2                               97.34               90.30       0.036698  \n",
       "3                              108.45               74.04       0.059912  \n",
       "4                               86.49               99.68       0.023837  "
      ]
     },
     "execution_count": 7,
     "metadata": {},
     "output_type": "execute_result"
    }
   ],
   "source": [
    "data_df"
   ]
  },
  {
   "cell_type": "code",
   "execution_count": 8,
   "id": "0209fa52",
   "metadata": {},
   "outputs": [],
   "source": [
    "from sklearn.preprocessing import MinMaxScaler"
   ]
  },
  {
   "cell_type": "code",
   "execution_count": 9,
   "id": "b00c2c05",
   "metadata": {},
   "outputs": [],
   "source": [
    "scaler = MinMaxScaler()"
   ]
  },
  {
   "cell_type": "code",
   "execution_count": 22,
   "id": "a4a2e103",
   "metadata": {},
   "outputs": [],
   "source": [
    "from sklearn.model_selection import train_test_split"
   ]
  },
  {
   "cell_type": "code",
   "execution_count": 23,
   "id": "ce90971d",
   "metadata": {},
   "outputs": [
    {
     "data": {
      "text/plain": [
       "Index(['Countries', 'Confirmed Cases', 'Deaths', 'GDP per capita in USD',\n",
       "       'GHS Index', 'Gender Ratio Males per 100 Females', 'Literacy Rate in %',\n",
       "       'Fatality Rate'],\n",
       "      dtype='object')"
      ]
     },
     "execution_count": 23,
     "metadata": {},
     "output_type": "execute_result"
    }
   ],
   "source": [
    "data_df.columns"
   ]
  },
  {
   "cell_type": "code",
   "execution_count": 24,
   "id": "644eb9f4",
   "metadata": {},
   "outputs": [],
   "source": [
    "X = data_df[['GDP per capita in USD','GHS Index', 'Gender Ratio Males per 100 Females', 'Literacy Rate in %' ]]\n",
    "y = data_df['Fatality Rate']"
   ]
  },
  {
   "cell_type": "code",
   "execution_count": 25,
   "id": "7df76c51",
   "metadata": {},
   "outputs": [],
   "source": [
    "LR_Scaler = MinMaxScaler()"
   ]
  },
  {
   "cell_type": "code",
   "execution_count": 26,
   "id": "3ff29763",
   "metadata": {},
   "outputs": [
    {
     "data": {
      "text/plain": [
       "MinMaxScaler()"
      ]
     },
     "execution_count": 26,
     "metadata": {},
     "output_type": "execute_result"
    }
   ],
   "source": [
    "LR_Scaler.fit(X)"
   ]
  },
  {
   "cell_type": "code",
   "execution_count": 27,
   "id": "ee01d57c",
   "metadata": {},
   "outputs": [],
   "source": [
    "X = LR_Scaler.transform(X)"
   ]
  },
  {
   "cell_type": "code",
   "execution_count": 28,
   "id": "6a25dcf8",
   "metadata": {},
   "outputs": [],
   "source": [
    "from sklearn.linear_model import LinearRegression"
   ]
  },
  {
   "cell_type": "code",
   "execution_count": 29,
   "id": "c5911429",
   "metadata": {},
   "outputs": [],
   "source": [
    "model = LinearRegression()"
   ]
  },
  {
   "cell_type": "code",
   "execution_count": 30,
   "id": "9b77fe50",
   "metadata": {},
   "outputs": [
    {
     "data": {
      "text/plain": [
       "LinearRegression()"
      ]
     },
     "execution_count": 30,
     "metadata": {},
     "output_type": "execute_result"
    }
   ],
   "source": [
    "model.fit(X, y)"
   ]
  },
  {
   "cell_type": "code",
   "execution_count": 31,
   "id": "640fa168",
   "metadata": {},
   "outputs": [
    {
     "name": "stdout",
     "output_type": "stream",
     "text": [
      "Coefficients: \n",
      " [ 0.04531553  0.05462851 -0.1824599  -0.22281918]\n",
      "Intercept: \n",
      " 0.23930580167242413\n"
     ]
    }
   ],
   "source": [
    "print('Coefficients: \\n', model.coef_)\n",
    "print('Intercept: \\n', model.intercept_)"
   ]
  },
  {
   "cell_type": "code",
   "execution_count": 32,
   "id": "f3152f98",
   "metadata": {},
   "outputs": [
    {
     "name": "stdout",
     "output_type": "stream",
     "text": [
      "The equation of the line is: \n",
      " Y = 0.23930580167242413 + 0.04531553*X1 + 0.05462851*X2 - 0.1824599*X3 - 0.22281918*X4 \n",
      "\n",
      "\n",
      " X1: GDP per capita in USD \n",
      " X2: GHS Index \n",
      " X3: Gender Ratio Males per 100 Females \n",
      " X4: Literacy Rate in %\n"
     ]
    }
   ],
   "source": [
    "print('The equation of the line is: \\n', 'Y = 0.23930580167242413 + 0.04531553*X1 + 0.05462851*X2 - 0.1824599*X3 - 0.22281918*X4', '\\n')\n",
    "print('\\n', 'X1: GDP per capita in USD', '\\n', 'X2: GHS Index','\\n', 'X3: Gender Ratio Males per 100 Females', '\\n', 'X4: Literacy Rate in %')"
   ]
  },
  {
   "cell_type": "code",
   "execution_count": 33,
   "id": "a08c58b0",
   "metadata": {},
   "outputs": [],
   "source": [
    "X_train, X_test, y_train, y_test = train_test_split(X, y, test_size=0.20, random_state=42)"
   ]
  },
  {
   "cell_type": "code",
   "execution_count": 34,
   "id": "ec744605",
   "metadata": {},
   "outputs": [
    {
     "data": {
      "text/plain": [
       "MinMaxScaler()"
      ]
     },
     "execution_count": 34,
     "metadata": {},
     "output_type": "execute_result"
    }
   ],
   "source": [
    "scaler.fit(X_train)"
   ]
  },
  {
   "cell_type": "code",
   "execution_count": 35,
   "id": "22be9df7",
   "metadata": {},
   "outputs": [],
   "source": [
    "X_train = scaler.transform(X_train)"
   ]
  },
  {
   "cell_type": "code",
   "execution_count": 36,
   "id": "b227e675",
   "metadata": {},
   "outputs": [
    {
     "data": {
      "text/plain": [
       "array([[0.16219937, 0.        , 0.        , 1.        ],\n",
       "       [0.16296267, 0.39285714, 0.49408015, 0.63416537],\n",
       "       [1.        , 1.        , 0.50500911, 0.97347894],\n",
       "       [0.        , 0.05612245, 1.        , 0.        ]])"
      ]
     },
     "execution_count": 36,
     "metadata": {},
     "output_type": "execute_result"
    }
   ],
   "source": [
    "X_train"
   ]
  },
  {
   "cell_type": "code",
   "execution_count": 37,
   "id": "5587e404",
   "metadata": {},
   "outputs": [],
   "source": [
    "LRegression = LinearRegression()"
   ]
  },
  {
   "cell_type": "code",
   "execution_count": 38,
   "id": "30fe8eaa",
   "metadata": {},
   "outputs": [
    {
     "data": {
      "text/plain": [
       "LinearRegression()"
      ]
     },
     "execution_count": 38,
     "metadata": {},
     "output_type": "execute_result"
    }
   ],
   "source": [
    "LRegression.fit(X_train, y_train)"
   ]
  },
  {
   "cell_type": "code",
   "execution_count": 39,
   "id": "60a05d95",
   "metadata": {},
   "outputs": [],
   "source": [
    "X_test = scaler.transform(X_test)"
   ]
  },
  {
   "cell_type": "code",
   "execution_count": 40,
   "id": "9ee73c39",
   "metadata": {},
   "outputs": [],
   "source": [
    "predicted = LRegression.predict(X_test)"
   ]
  },
  {
   "cell_type": "code",
   "execution_count": 42,
   "id": "338ce97c",
   "metadata": {},
   "outputs": [],
   "source": [
    "from sklearn.metrics import mean_squared_error,mean_absolute_error"
   ]
  },
  {
   "cell_type": "code",
   "execution_count": 43,
   "id": "a88b87f4",
   "metadata": {},
   "outputs": [],
   "source": [
    "MAE = mean_absolute_error(y_test, predicted)\n",
    "MSE = mean_squared_error(y_test, predicted)\n",
    "RMSE = (mean_squared_error(y_test, predicted))**0.5"
   ]
  },
  {
   "cell_type": "code",
   "execution_count": 54,
   "id": "d00b6698",
   "metadata": {},
   "outputs": [
    {
     "name": "stdout",
     "output_type": "stream",
     "text": [
      "\n",
      " The Mean Absolute Error is 0.014819831365913545 \n",
      " The Mean Squared Error is 0.00021962740171411492 \n",
      " The Root Mean Squared Error is 0.014819831365913545\n"
     ]
    }
   ],
   "source": [
    "print('\\n', 'The Mean Absolute Error is' , MAE, '\\n','The Mean Squared Error is', MSE,  '\\n','The Root Mean Squared Error is', RMSE)"
   ]
  },
  {
   "cell_type": "code",
   "execution_count": 45,
   "id": "5ec00260",
   "metadata": {},
   "outputs": [
    {
     "name": "stdout",
     "output_type": "stream",
     "text": [
      "Coefficients: \n",
      " [ 0.00567074 -0.00807518  0.0181623  -0.01928571]\n"
     ]
    }
   ],
   "source": [
    "print('Coefficients: \\n', LRegression.coef_)"
   ]
  },
  {
   "cell_type": "code",
   "execution_count": 46,
   "id": "d7313a9f",
   "metadata": {},
   "outputs": [
    {
     "name": "stdout",
     "output_type": "stream",
     "text": [
      "Intercept: \n",
      " 0.04220269350682826\n"
     ]
    }
   ],
   "source": [
    "print('Intercept: \\n', LRegression.intercept_)"
   ]
  },
  {
   "cell_type": "code",
   "execution_count": 47,
   "id": "52c7bed0",
   "metadata": {},
   "outputs": [
    {
     "name": "stdout",
     "output_type": "stream",
     "text": [
      "The equation of the line is: \n",
      " Y = 0.04220269350682826 + 0.00567074*X1 -0.00807518*X2 + 0.0181623*X3 - 0.01928571*X4 \n",
      "\n",
      "\n",
      " X1: GDP per capita in USD \n",
      " X2: GHS Index \n",
      " X3: Gender Ratio Males per 100 Females \n",
      " X4: Literacy Rate in %\n"
     ]
    }
   ],
   "source": [
    "print('The equation of the line is: \\n', 'Y = 0.04220269350682826 + 0.00567074*X1 -0.00807518*X2 + 0.0181623*X3 - 0.01928571*X4', '\\n')\n",
    "print('\\n', 'X1: GDP per capita in USD', '\\n', 'X2: GHS Index','\\n', 'X3: Gender Ratio Males per 100 Females', '\\n', 'X4: Literacy Rate in %')"
   ]
  },
  {
   "cell_type": "code",
   "execution_count": 48,
   "id": "a3192603",
   "metadata": {},
   "outputs": [
    {
     "name": "stdout",
     "output_type": "stream",
     "text": [
      "0.045315527855555426\n"
     ]
    },
    {
     "data": {
      "image/png": "[encoded data removed]",
      "text/plain": [
       "<Figure size 360x360 with 1 Axes>"
      ]
     },
     "metadata": {},
     "output_type": "display_data"
    }
   ],
   "source": [
    "print(model.coef_[0])\n",
    "annotations=['USA', 'Mexico', 'Brazil', 'India', 'Russia']\n",
    "sns.lmplot(data = data_df, x='Fatality Rate', y = 'GDP per capita in USD')\n",
    "for i in range(5):\n",
    "    plt.text(x=data_df['Fatality Rate'][i], y=data_df['GDP per capita in USD'][i], s=annotations[i])"
   ]
  },
  {
   "cell_type": "code",
   "execution_count": 49,
   "id": "be37ded5",
   "metadata": {},
   "outputs": [
    {
     "name": "stdout",
     "output_type": "stream",
     "text": [
      "0.054628505264253814\n"
     ]
    },
    {
     "data": {
      "image/png": "[encoded data removed]",
      "text/plain": [
       "<Figure size 360x360 with 1 Axes>"
      ]
     },
     "metadata": {},
     "output_type": "display_data"
    }
   ],
   "source": [
    "print(model.coef_[1])\n",
    "sns.lmplot(data = data_df, x='Fatality Rate', y = 'GHS Index')\n",
    "for i in range(5):\n",
    "    plt.text(x=data_df['Fatality Rate'][i], y=data_df['GHS Index'][i], s=annotations[i])"
   ]
  },
  {
   "cell_type": "code",
   "execution_count": 50,
   "id": "c203b4cd",
   "metadata": {},
   "outputs": [
    {
     "name": "stdout",
     "output_type": "stream",
     "text": [
      "-0.18245989721842165\n"
     ]
    },
    {
     "data": {
      "image/png": "[encoded data removed]",
      "text/plain": [
       "<Figure size 360x360 with 1 Axes>"
      ]
     },
     "metadata": {},
     "output_type": "display_data"
    }
   ],
   "source": [
    "print(model.coef_[2])\n",
    "sns.lmplot(data = data_df, x='Fatality Rate', y = 'Gender Ratio Males per 100 Females')\n",
    "for i in range(5):\n",
    "    plt.text(x=data_df['Fatality Rate'][i], y=data_df['Gender Ratio Males per 100 Females'][i], s=annotations[i])"
   ]
  },
  {
   "cell_type": "code",
   "execution_count": 51,
   "id": "0cc0ad1f",
   "metadata": {},
   "outputs": [
    {
     "name": "stdout",
     "output_type": "stream",
     "text": [
      "-0.22281917852123703\n"
     ]
    },
    {
     "data": {
      "image/png": "[encoded data removed]",
      "text/plain": [
       "<Figure size 360x360 with 1 Axes>"
      ]
     },
     "metadata": {},
     "output_type": "display_data"
    }
   ],
   "source": [
    "print(model.coef_[3])\n",
    "sns.lmplot(data = data_df, x='Fatality Rate', y = 'Literacy Rate in %')\n",
    "for i in range(5):\n",
    "    plt.text(x=data_df['Fatality Rate'][i], y=data_df['Literacy Rate in %'][i], s=annotations[i])"
   ]
  }
 ],
 "metadata": {
  "kernelspec": {
   "display_name": "Python 3",
   "language": "python",
   "name": "python3"
  },
  "language_info": {
   "codemirror_mode": {
    "name": "ipython",
    "version": 3
   },
   "file_extension": ".py",
   "mimetype": "text/x-python",
   "name": "python",
   "nbconvert_exporter": "python",
   "pygments_lexer": "ipython3",
   "version": "3.8.8"
  }
 },
 "nbformat": 4,
 "nbformat_minor": 5
}
